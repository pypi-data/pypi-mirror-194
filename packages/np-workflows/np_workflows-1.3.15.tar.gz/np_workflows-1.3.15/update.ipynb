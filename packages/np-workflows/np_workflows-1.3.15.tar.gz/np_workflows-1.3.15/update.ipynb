{
 "cells": [
  {
   "cell_type": "markdown",
   "metadata": {},
   "source": [
    "***\n",
    "# Should be run before each workflow\n",
    "- `git pull` may fail if modifications have been made to the `np_notebooks` directory:\n",
    "commit or stash them, then retry\n",
    "- `poetry update` may fail due to insufficient privileges: get in touch with Ben"
   ]
  },
  {
   "cell_type": "code",
   "execution_count": null,
   "metadata": {},
   "outputs": [],
   "source": [
    "%%cmd\n",
    "git pull origin main && python -m poetry update"
   ]
  },
  {
   "cell_type": "markdown",
   "metadata": {},
   "source": [
    "***\n",
    "If you know that there's an update available for a package, but `poetry update` didn't find it, try\n",
    "this (slow):"
   ]
  },
  {
   "cell_type": "code",
   "execution_count": 1,
   "metadata": {},
   "outputs": [
    {
     "name": "stdout",
     "output_type": "stream",
     "text": [
      "Microsoft Windows [Version 10.0.19042.2130]\n",
      "(c) Microsoft Corporation. All rights reserved.\n",
      "\n",
      "(np-workflows-py3.11) c:\\Users\\ben.hardcastle\\github\\np_workflows>poetry cache clear --all pypi\n",
      "\n",
      "(np-workflows-py3.11) c:\\Users\\ben.hardcastle\\github\\np_workflows>poetry update\n",
      "Updating dependencies\n",
      "Resolving dependencies...\n",
      "\n",
      "Writing lock file\n",
      "\n",
      "Package operations: 0 installs, 3 updates, 0 removals\n",
      "\n",
      "  • Updating python-json-logger (2.0.6 -> 2.0.7)\n",
      "  • Updating prompt-toolkit (3.0.36 -> 3.0.37)\n",
      "  • Updating setuptools (67.3.3 -> 67.4.0)\n",
      "\n",
      "(np-workflows-py3.11) c:\\Users\\ben.hardcastle\\github\\np_workflows>poetry install\n",
      "Installing dependencies from lock file\n",
      "\n",
      "No dependencies to install or update\n",
      "\n",
      "Installing the current project: np-workflows (1.2.3)\n",
      "\n",
      "(np-workflows-py3.11) c:\\Users\\ben.hardcastle\\github\\np_workflows>"
     ]
    }
   ],
   "source": [
    "%%cmd\n",
    "poetry cache clear --all pypi\n",
    "poetry update\n",
    "poetry install"
   ]
  },
  {
   "cell_type": "code",
   "execution_count": null,
   "metadata": {},
   "outputs": [],
   "source": []
  }
 ],
 "metadata": {
  "kernelspec": {
   "display_name": "Python 3.11.1 ('np-workflows-bIqIfclO-py3.11')",
   "language": "python",
   "name": "python3"
  },
  "language_info": {
   "codemirror_mode": {
    "name": "ipython",
    "version": 3
   },
   "file_extension": ".py",
   "mimetype": "text/x-python",
   "name": "python",
   "nbconvert_exporter": "python",
   "pygments_lexer": "ipython3",
   "version": "3.11.1"
  },
  "orig_nbformat": 4,
  "vscode": {
   "interpreter": {
    "hash": "8fff397ebb645a552faa9b4db0fa1ff7c1d22149c49b020c3e5e3edafcc58017"
   }
  }
 },
 "nbformat": 4,
 "nbformat_minor": 2
}
