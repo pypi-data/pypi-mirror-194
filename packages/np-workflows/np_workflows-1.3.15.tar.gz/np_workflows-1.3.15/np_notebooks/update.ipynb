{
 "cells": [
  {
   "cell_type": "markdown",
   "metadata": {},
   "source": [
    "***\n",
    "# Should be run before each workflow\n",
    "- `git pull` may fail if modifications have been made to the `np_notebooks` directory:\n",
    "commit or stash them, then retry\n",
    "- `poetry update` may fail due to insufficient privileges: get in touch with Ben"
   ]
  },
  {
   "cell_type": "code",
   "execution_count": null,
   "metadata": {},
   "outputs": [],
   "source": [
    "%%cmd\n",
    "git pull origin main && python -m poetry update"
   ]
  },
  {
   "cell_type": "markdown",
   "metadata": {},
   "source": [
    "***\n",
    "If you know that there's an update available for a package, but `poetry update` didn't find it, try\n",
    "this (slow):"
   ]
  },
  {
   "cell_type": "code",
   "execution_count": null,
   "metadata": {},
   "outputs": [],
   "source": [
    "%%cmd\n",
    "poetry cache clear --all pypi\n",
    "poetry update"
   ]
  }
 ],
 "metadata": {
  "kernelspec": {
   "display_name": "Python 3.11.1 ('np-workflows-bIqIfclO-py3.11')",
   "language": "python",
   "name": "python3"
  },
  "language_info": {
   "codemirror_mode": {
    "name": "ipython",
    "version": 3
   },
   "file_extension": ".py",
   "mimetype": "text/x-python",
   "name": "python",
   "nbconvert_exporter": "python",
   "pygments_lexer": "ipython3",
   "version": "3.11.1"
  },
  "orig_nbformat": 4,
  "vscode": {
   "interpreter": {
    "hash": "8fff397ebb645a552faa9b4db0fa1ff7c1d22149c49b020c3e5e3edafcc58017"
   }
  }
 },
 "nbformat": 4,
 "nbformat_minor": 2
}
