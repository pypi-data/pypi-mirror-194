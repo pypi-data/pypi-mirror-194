{
 "cells": [
  {
   "cell_type": "code",
   "execution_count": null,
   "metadata": {},
   "outputs": [],
   "source": [
    "%pip install --extra-index-url https://pypi.org/simple --upgrade --quiet np_workflows\n",
    "%load_ext autoreload\n",
    "%autoreload 2\n",
    "from __future__ import annotations\n",
    "\n",
    "import datetime\n",
    "import logging\n",
    "import os\n",
    "import pathlib\n",
    "import time\n",
    "\n",
    "import IPython\n",
    "\n",
    "import np_workflows.workflows.shared.npxc as npxc\n",
    "import np_session\n",
    "import np_config\n",
    "import np_logging\n",
    "\n",
    "from np_workflows.services import utils\n",
    "from np_workflows.services import open_ephys as OpenEphys\n",
    "from np_workflows.services.proxies import (\n",
    "    Sync, ImageMVR, NoCamstim, NoCamstim, NewScaleCoordinateRecorder,\n",
    ")\n",
    "from np_workflows.services.protocols import (\n",
    "    Pretestable, Initializable, Startable, Testable, Stoppable, Finalizable, Pretestable, Verifiable, Validatable,\n",
    "    TestError,\n",
    "    )\n",
    "\n",
    "logging.getLogger('np_config').setLevel(logging.INFO)\n",
    "logger = np_logging.getLogger()\n",
    "logger.setLevel(logging.INFO)\n",
    "\n",
    "npxc.start_rsc_apps()"
   ]
  },
  {
   "cell_type": "code",
   "execution_count": null,
   "metadata": {},
   "outputs": [],
   "source": [
    "mouse = 654442\n",
    "user ='andrew.shelton'"
   ]
  },
  {
   "cell_type": "code",
   "execution_count": null,
   "metadata": {},
   "outputs": [],
   "source": [
    "data_root = pathlib.Path('//allen/programs/mindscope/workgroups/np-ultra')\n",
    "session_folder = data_root / f'{datetime.datetime.now():%Y-%m-%d}_{mouse}'\n",
    "\n",
    "session_folder.mkdir(parents=True, exist_ok=True)\n",
    "\n",
    "services = (Sync, ImageMVR, OpenEphys, NewScaleCoordinateRecorder, NoCamstim)"
   ]
  },
  {
   "cell_type": "markdown",
   "metadata": {},
   "source": [
    "# *Pretest*"
   ]
  },
  {
   "cell_type": "code",
   "execution_count": null,
   "metadata": {},
   "outputs": [],
   "source": [
    "OpenEphys.pretest()"
   ]
  },
  {
   "cell_type": "code",
   "execution_count": null,
   "metadata": {},
   "outputs": [],
   "source": [
    "ImageMVR.pretest()"
   ]
  },
  {
   "cell_type": "code",
   "execution_count": null,
   "metadata": {},
   "outputs": [],
   "source": [
    "NewScaleCoordinateRecorder.pretest()"
   ]
  },
  {
   "cell_type": "code",
   "execution_count": null,
   "metadata": {},
   "outputs": [],
   "source": [
    "Sync.pretest()"
   ]
  },
  {
   "cell_type": "code",
   "execution_count": null,
   "metadata": {},
   "outputs": [],
   "source": [
    "NoCamstim.remote_file = 'c:/users/svc_neuropix/Desktop/run_opto_pretest.bat'\n",
    "\n",
    "NewScaleCoordinateRecorder.log_root = session_folder\n",
    "NoCamstim.password = 'ti8*DYne'\n",
    "\n",
    "NoCamstim.start() #! needs biscript_pretest_v2 on np3"
   ]
  },
  {
   "cell_type": "markdown",
   "metadata": {},
   "source": [
    "# *Experiment*"
   ]
  },
  {
   "cell_type": "markdown",
   "metadata": {},
   "source": [
    "#  **Before putting mouse on stage**\n",
    "\n",
    "**Open Ephys**\n",
    "* Record Nodes set to A:/B: (or E:/G: on NP.3)\n",
    "* Disk space on each Record Node (single long vertical bar)\n",
    "* 50/50 channels on each Record Node (shorter vertical bars) #!\n",
    "* Tip-reference on all probes\n",
    "* Barcodes displaying\n",
    "\n",
    "**Stage**\n",
    "* Probes fully retracted, cartridge raised\n",
    "* Water lines flushed"
   ]
  },
  {
   "cell_type": "code",
   "execution_count": null,
   "metadata": {},
   "outputs": [],
   "source": [
    "NoCamstim.remote_file = 'c:/users/svc_neuropix/Desktop/run_blue_opto.bat'\n",
    "\n",
    "NewScaleCoordinateRecorder.log_root = session_folder\n",
    "NoCamstim.password = 'ti8*DYne'\n",
    "\n",
    "trial_idx = None"
   ]
  },
  {
   "cell_type": "markdown",
   "metadata": {},
   "source": [
    "## **Initialize & test services**"
   ]
  },
  {
   "cell_type": "code",
   "execution_count": null,
   "metadata": {},
   "outputs": [],
   "source": [
    "for service in services:\n",
    "    if isinstance(service, Initializable):\n",
    "        service.initialize()\n",
    "    if isinstance(service, Testable):\n",
    "        service.test()"
   ]
  },
  {
   "cell_type": "markdown",
   "metadata": {
    "tags": []
   },
   "source": [
    "## **Photodoc of probes in dye**"
   ]
  },
  {
   "cell_type": "markdown",
   "metadata": {},
   "source": [
    "# **Load mouse onto stage**\n",
    "\n",
    "Before lowering cartridge, check:\n",
    "* Stabilization screw\n",
    "* quickcast, agarose/silicon oil\n",
    "* Tail cone down\n",
    "* Continuity check\n"
   ]
  },
  {
   "cell_type": "markdown",
   "metadata": {},
   "source": [
    "# **Lower cartridge**"
   ]
  },
  {
   "cell_type": "markdown",
   "metadata": {},
   "source": [
    "## **Photodoc of brain surface**\n",
    "\n",
    "Turn on light and focus on brain surface"
   ]
  },
  {
   "cell_type": "code",
   "execution_count": null,
   "metadata": {},
   "outputs": [],
   "source": [
    "def photodoc(label: str | None) -> pathlib.Path:\n",
    "    ImageMVR.label = label\n",
    "    ImageMVR.start()\n",
    "    ImageMVR.finalize()\n",
    "    NewScaleCoordinateRecorder.label = label\n",
    "    NewScaleCoordinateRecorder.start()\n",
    "    return ImageMVR.data_files[-1]\n",
    "\n",
    "IPython.display.Image(photodoc('pre_experiment_brain_surface_image'))"
   ]
  },
  {
   "cell_type": "markdown",
   "metadata": {},
   "source": [
    "# **Insert probes**"
   ]
  },
  {
   "cell_type": "code",
   "execution_count": null,
   "metadata": {},
   "outputs": [],
   "source": [
    "from np_probe_targets.implant_drawing import ProbeInsertionsTS5, ProbeTargetInsertionRecordWidget\n",
    "ProbeInsertionsTS5.save_dir = session_folder\n",
    "targets = ProbeInsertionsTS5([None] * 6)\n",
    "IPython.display.display(ProbeTargetInsertionRecordWidget(targets))"
   ]
  },
  {
   "cell_type": "markdown",
   "metadata": {},
   "source": [
    "# *Start of trial loop*"
   ]
  },
  {
   "cell_type": "code",
   "execution_count": null,
   "metadata": {
    "tags": []
   },
   "outputs": [],
   "source": [
    "trial_idx = 0 if trial_idx is None else trial_idx + 1\n",
    "\n",
    "OpenEphys.set_folder(f'{session_folder.name}_{trial_idx}')"
   ]
  },
  {
   "cell_type": "markdown",
   "metadata": {},
   "source": [
    "## **Advance probes to target depth**"
   ]
  },
  {
   "cell_type": "markdown",
   "metadata": {},
   "source": [
    "## **Start settle timer**"
   ]
  },
  {
   "cell_type": "code",
   "execution_count": null,
   "metadata": {},
   "outputs": [],
   "source": [
    "wait_sec = 10 * 60\n",
    "\n",
    "time_0 = time.time()\n",
    "time_remaining = lambda: datetime.timedelta(seconds = wait_sec - (time.time() - time_0))\n",
    "while time_remaining().total_seconds() > 0:\n",
    "    print(f'{time_remaining()}', end='\\r', flush=True)\n",
    "    time.sleep(.1)"
   ]
  },
  {
   "cell_type": "markdown",
   "metadata": {},
   "source": [
    "## **Photodoc after probes reach target depth**\n",
    "\n",
    "Turn on light and focus on brain surface"
   ]
  },
  {
   "cell_type": "code",
   "execution_count": null,
   "metadata": {},
   "outputs": [],
   "source": [
    "IPython.display.Image(photodoc(f'pre_recording_image_{trial_idx}'))"
   ]
  },
  {
   "cell_type": "markdown",
   "metadata": {},
   "source": [
    "# **Start recording**\n",
    "\n",
    "### Update recording directory name in OpenEphys!"
   ]
  },
  {
   "cell_type": "code",
   "execution_count": null,
   "metadata": {},
   "outputs": [],
   "source": [
    "for service in (Sync, OpenEphys):\n",
    "    service.start()\n",
    "    if isinstance(service, Verifiable):\n",
    "        time.sleep(1)\n",
    "        service.verify()"
   ]
  },
  {
   "cell_type": "markdown",
   "metadata": {},
   "source": [
    "# **Start opto trial**"
   ]
  },
  {
   "cell_type": "code",
   "execution_count": null,
   "metadata": {},
   "outputs": [],
   "source": [
    "logger.info('Starting stimulus')\n",
    "\n",
    "NoCamstim.start()\n",
    "\n",
    "while not NoCamstim.is_ready_to_start():\n",
    "    time.sleep(10)\n",
    "\n",
    "if isinstance(NoCamstim, Finalizable):\n",
    "    NoCamstim.finalize()"
   ]
  },
  {
   "cell_type": "markdown",
   "metadata": {},
   "source": [
    "## **Stop recording**"
   ]
  },
  {
   "cell_type": "code",
   "execution_count": null,
   "metadata": {},
   "outputs": [],
   "source": [
    "for service in (_ for _ in (Sync, OpenEphys) if isinstance(_, Stoppable)):\n",
    "    service.stop()\n",
    "\n",
    "for service in (_ for _ in (Sync, OpenEphys) if isinstance(_, Finalizable)):\n",
    "    service.finalize()\n",
    "\n",
    "for service in (_ for _ in (Sync, OpenEphys) if isinstance(_, Validatable)):\n",
    "    service.validate()"
   ]
  },
  {
   "cell_type": "markdown",
   "metadata": {},
   "source": [
    "# *End of trial loop*"
   ]
  },
  {
   "cell_type": "markdown",
   "metadata": {},
   "source": [
    "## **Fully retract probes**"
   ]
  },
  {
   "cell_type": "markdown",
   "metadata": {},
   "source": [
    "## **Final photodoc of brain surface without probes**\n",
    "\n",
    "Turn on light and focus on brain surface"
   ]
  },
  {
   "cell_type": "code",
   "execution_count": null,
   "metadata": {},
   "outputs": [],
   "source": [
    "IPython.display.Image(photodoc('post_experiment_brain_surface_image'))"
   ]
  },
  {
   "cell_type": "markdown",
   "metadata": {},
   "source": [
    "## **Finish up**\n",
    "\n",
    "* raise cartridge\n",
    "* add quickcast\n",
    "* remove and water mouse"
   ]
  },
  {
   "cell_type": "markdown",
   "metadata": {},
   "source": [
    "## **Copy files**"
   ]
  },
  {
   "cell_type": "code",
   "execution_count": null,
   "metadata": {},
   "outputs": [],
   "source": [
    "import shutil\n",
    "import contextlib\n",
    "for service in services:\n",
    "    with contextlib.suppress(AttributeError):\n",
    "        for file in service.data_files:\n",
    "            print(service.data_files)\n",
    "            shutil.copy2(file, session_folder)"
   ]
  },
  {
   "cell_type": "code",
   "execution_count": null,
   "metadata": {},
   "outputs": [],
   "source": []
  }
 ],
 "metadata": {
  "kernelspec": {
   "display_name": "Python 3.11.1 ('np-workflows-bIqIfclO-py3.11')",
   "language": "python",
   "name": "python3"
  },
  "language_info": {
   "codemirror_mode": {
    "name": "ipython",
    "version": 3
   },
   "file_extension": ".py",
   "mimetype": "text/x-python",
   "name": "python",
   "nbconvert_exporter": "python",
   "pygments_lexer": "ipython3",
   "version": "3.11.1"
  },
  "toc-autonumbering": true,
  "vscode": {
   "interpreter": {
    "hash": "8fff397ebb645a552faa9b4db0fa1ff7c1d22149c49b020c3e5e3edafcc58017"
   }
  }
 },
 "nbformat": 4,
 "nbformat_minor": 4
}
