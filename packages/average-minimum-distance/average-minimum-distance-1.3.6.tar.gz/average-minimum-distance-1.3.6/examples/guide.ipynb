{
 "cells": [
  {
   "cell_type": "code",
   "execution_count": null,
   "metadata": {},
   "outputs": [],
   "source": [
    "# run to pretty-print results\n",
    "import numpy as np\n",
    "\n",
    "np.set_printoptions(precision=5, suppress=True)\n",
    "\n",
    "import warnings\n",
    "warnings.filterwarnings(\"ignore\", category=DeprecationWarning)"
   ]
  },
  {
   "cell_type": "markdown",
   "metadata": {},
   "source": [
    "The amd package contains functions for caluclating and comparing AMDs/PDDs, as well as .cif reading functionality.\n",
    "\n",
    "Get the package with pip:\n",
    "```shell\n",
    "$ pip install average-minimum-distance\n",
    "```"
   ]
  },
  {
   "cell_type": "markdown",
   "metadata": {},
   "source": [
    "**Import average-minimum-distance by running**"
   ]
  },
  {
   "cell_type": "code",
   "execution_count": null,
   "metadata": {},
   "outputs": [],
   "source": [
    "import amd"
   ]
  },
  {
   "cell_type": "markdown",
   "metadata": {},
   "source": [
    "# Reading cifs"
   ]
  },
  {
   "cell_type": "markdown",
   "metadata": {},
   "source": [
    "To read .cifs with amd, use an ```amd.CifReader``` object (the .cifs in this notebook can be found in the tests folder of this project). The CifReader is an iterator which can be looped over to get all structures from a file. If a structure cannot be read or is 'bad', by default it is skipped by the reader and a warning is printed. The reader yields ```PeriodicSet``` objects, which can be handed directly to the AMD/PDD calculator functions below. "
   ]
  },
  {
   "cell_type": "code",
   "execution_count": null,
   "metadata": {},
   "outputs": [],
   "source": [
    "# one cif, many structures\n",
    "reader = amd.CifReader('T2_experimental.cif')\n",
    "for periodic_set in reader:\n",
    "    print(periodic_set.name, periodic_set.motif.shape[0])   # print name & number of motif points\n",
    "    periodic_set.cell                                       # access unit cell\n",
    "\n",
    "# if you don't care about lazy reading and just want a list of structures\n",
    "exp_structures = list(amd.CifReader('T2_experimental.cif'))"
   ]
  },
  {
   "cell_type": "markdown",
   "metadata": {},
   "source": [
    "Setting ```remove_hydrogens``` to True will not include Hydrogen atoms:"
   ]
  },
  {
   "cell_type": "code",
   "execution_count": null,
   "metadata": {},
   "outputs": [],
   "source": [
    "# one cif, one structure\n",
    "\n",
    "gamma_withH = list(amd.CifReader('T2_gamma.cif'))[0]\n",
    "print(gamma_withH.motif.shape[0])   # n motif points\n",
    "gamma_noH = list(amd.CifReader('T2_gamma.cif', remove_hydrogens=True))[0]\n",
    "print(gamma_noH.motif.shape[0])     # n motif points"
   ]
  },
  {
   "cell_type": "markdown",
   "metadata": {},
   "source": [
    "# Calculating AMDs and PDDs"
   ]
  },
  {
   "cell_type": "markdown",
   "metadata": {},
   "source": [
    "The main calculator functions ```amd.AMD``` and ```amd.PDD``` accept two arguments, a crystal and an integer ```k```. The crystal can be either an output of a CifReader (or CSDReader), or you can manually make a pair of numpy arrays (motif, cell)."
   ]
  },
  {
   "cell_type": "code",
   "execution_count": null,
   "metadata": {},
   "outputs": [],
   "source": [
    "k = 100\n",
    "\n",
    "# one AMD from a .cif with one structure\n",
    "gamma = list(amd.CifReader('T2_gamma.cif'))[0]\n",
    "gamma_amd = amd.AMD(gamma, k) \n",
    "print(gamma_amd)\n",
    "\n",
    "# list of amds from a .cif with many structures\n",
    "exp_structures = amd.CifReader('T2_experimental.cif')\n",
    "experimental_amds = [amd.AMD(periodic_set, k) for periodic_set in exp_structures]"
   ]
  },
  {
   "cell_type": "code",
   "execution_count": null,
   "metadata": {},
   "outputs": [],
   "source": [
    "k = 100\n",
    "\n",
    "# the pdd interface is the same as amd\n",
    "gamma = list(amd.CifReader('T2_gamma.cif'))[0]\n",
    "print(gamma)\n",
    "print('unit cell:\\n', gamma.cell)\n",
    "print('5 points of the motif:\\n', gamma.motif[:5])\n",
    "gamma_pdd = amd.PDD(gamma, k)\n",
    "\n",
    "print('PDD:\\n', gamma_pdd)"
   ]
  },
  {
   "cell_type": "code",
   "execution_count": null,
   "metadata": {},
   "outputs": [],
   "source": [
    "# creating a motif, cell pair manually\n",
    "\n",
    "import numpy as np\n",
    "\n",
    "k = 100\n",
    "\n",
    "# from a tuple (motif, cell) of numpy arrays\n",
    "motif = np.array([[0,0,0]]) # one point at the origin\n",
    "cell = np.identity(3)       # unit cell = identity (cube with unit edges)\n",
    "cubic_pdd = amd.PDD((motif, cell), k)\n",
    "\n",
    "print(cubic_pdd)"
   ]
  },
  {
   "cell_type": "markdown",
   "metadata": {},
   "source": [
    "# Comparing AMDs and PDDs"
   ]
  },
  {
   "cell_type": "markdown",
   "metadata": {},
   "source": [
    "There are several functions which compare by AMD or PDD. The names 'cdist' and 'pdist' come from scipy: cdist is for comparing one set against another, whereas pdist takes one set and compares it pairwise.  So to compare with AMDs, use ```amd.AMD_pdist``` or ```amd.AMD_cdist``` and to compare with PDDs use ```amd.PDD_pdist``` or ```amd.PDD_cdist```. Example:"
   ]
  },
  {
   "cell_type": "code",
   "execution_count": null,
   "metadata": {},
   "outputs": [],
   "source": [
    "# comapres T2-gamma to all experimental structures by AMD, k=100.\n",
    "\n",
    "import numpy as np\n",
    "\n",
    "exp_structures = list(amd.CifReader('T2_experimental.cif'))\n",
    "gamma = list(amd.CifReader('T2_gamma.cif'))[0]\n",
    "\n",
    "k = 100\n",
    "exp_amds = [amd.AMD(s, k) for s in exp_structures]\n",
    "gamma_amd = amd.AMD(gamma, k)\n",
    "\n",
    "dm = amd.AMD_cdist(gamma_amd, exp_amds)  # compare gamma to exp structures\n",
    "closest_indices = np.argsort(dm)[0]      # get indices of smallest elements i.e closest\n",
    "for i in closest_indices:\n",
    "    print(exp_structures[i].name, dm[0][i])  # print structs in order of ditance\n"
   ]
  },
  {
   "cell_type": "markdown",
   "metadata": {},
   "source": [
    "The output of these functions mimic scipy's [cdist](scipy.spatial.distance.cdist) and [pdist](https://docs.scipy.org/doc/scipy/reference/generated/scipy.spatial.distance.pdist.html), cdist returns a 2D distance matrix and pdist returns a 'condensed distance vector' ([see scipy's squareform](https://docs.scipy.org/doc/scipy/reference/generated/scipy.spatial.distance.squareform.html))."
   ]
  },
  {
   "cell_type": "markdown",
   "metadata": {},
   "source": [
    "These functions take the same optional arguments. If you want to change the defaults to see the effect on comparisons, details are in the readme and documentation. Briefly, ```metric``` (default 'chebyshev', aka l-infinity) is the metric used to compare AMDs or the rows of PDDs, it can be any metric accepted by [scipy's cdist function](https://docs.scipy.org/doc/scipy/reference/generated/scipy.spatial.distance.cdist.html). ```k``` (default None) is the value of k to use when comparing, it just truncates the inputs to a smaller length if an int. \n",
    "\n",
    " The functions that use PDD also take a parameter ```verbose``` which if true will print an ETA to the terminal."
   ]
  },
  {
   "cell_type": "code",
   "execution_count": null,
   "metadata": {},
   "outputs": [],
   "source": [
    "k = 100\n",
    "\n",
    "exp_structures = list(amd.CifReader('T2_experimental.cif'))\n",
    "experimental_pdds = [amd.PDD(periodic_set, k) for periodic_set in exp_structures]\n",
    "\n",
    "# compare experimental structures pairwise\n",
    "# returns a condensed distance matrix\n",
    "cdm = amd.PDD_pdist(experimental_amds)"
   ]
  }
 ],
 "metadata": {
  "interpreter": {
   "hash": "b8c8c5ce77f0a56d737781878b0ca562042a67810df8c1d8f961440ba451b97c"
  },
  "kernelspec": {
   "display_name": "Python 3.7.0 64-bit ('Python37')",
   "name": "python3"
  },
  "language_info": {
   "codemirror_mode": {
    "name": "ipython",
    "version": 3
   },
   "file_extension": ".py",
   "mimetype": "text/x-python",
   "name": "python",
   "nbconvert_exporter": "python",
   "pygments_lexer": "ipython3",
   "version": "3.7.0"
  },
  "orig_nbformat": 3
 },
 "nbformat": 4,
 "nbformat_minor": 2
}
