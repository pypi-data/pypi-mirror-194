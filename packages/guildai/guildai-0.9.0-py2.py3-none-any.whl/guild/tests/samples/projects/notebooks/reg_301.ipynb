{
 "cells": [
  {
   "cell_type": "code",
   "execution_count": 1,
   "metadata": {},
   "outputs": [],
   "source": [
    "# a comment"
   ]
  }
 ],
 "metadata": {
 },
 "nbformat": 4,
 "nbformat_minor": 4
}
