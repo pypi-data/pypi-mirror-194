{
 "cells": [
  {
   "attachments": {},
   "cell_type": "markdown",
   "metadata": {},
   "source": [
    "## Vector de shakespeare"
   ]
  },
  {
   "cell_type": "code",
   "execution_count": 2,
   "metadata": {},
   "outputs": [],
   "source": [
    "from sys import path\n",
    "from os.path import join, abspath\n",
    "\n",
    "# Tell python to search for the files and modules starting from the working directory\n",
    "module_path = abspath(join('..'))\n",
    "if module_path not in path:\n",
    "    path.append(module_path)"
   ]
  },
  {
   "cell_type": "code",
   "execution_count": 4,
   "metadata": {},
   "outputs": [],
   "source": [
    "import numpy as np\n",
    "\n",
    "from qubit_approximant import *\n",
    "from qubit_approximant.benchmarking.functions import gaussian\n",
    "\n",
    "x = np.linspace(-2.5, 2.5, 1000)\n",
    "fn_kwargs = {\"std\": 0.5, \"coef\": 1}\n",
    "fn = gaussian(x, **fn_kwargs)\n",
    "\n",
    "\n",
    "circuit = CircuitRxRyRz(x, encoding=\"prob\")\n",
    "cost = Cost(fn, circuit, metric=\"mse\")\n",
    "optimizer = BlackBoxOptimizer(method=\"L-BFGS-B\")\n",
    "\n",
    "layers = 6\n",
    "init_params = np.random.randn(4 * layers)\n",
    "opt_params = optimizer(cost, cost.grad, init_params)\n",
    "\n",
    "fn_approx = circuit.encoding(opt_params)"
   ]
  },
  {
   "cell_type": "code",
   "execution_count": 41,
   "metadata": {},
   "outputs": [
    {
     "data": {
      "image/png": "[encoded data removed]",
      "text/plain": [
       "<Figure size 432x288 with 1 Axes>"
      ]
     },
     "metadata": {},
     "output_type": "display_data"
    }
   ],
   "source": [
    "import matplotlib.pyplot as plt\n",
    "import matplotlib.style as style\n",
    "%matplotlib inline\n",
    "style.use(['seaborn-whitegrid'])\n",
    "\n",
    "plt.plot(x, fn, alpha=0.8, c=\"teal\", label=\"Exact\")\n",
    "plt.plot(x, fn_approx, alpha=0.8, c=\"orangered\", label=\"Approximate\")\n",
    "plt.title(\"Loading a Gaussian in a qubit (6 layers)\")\n",
    "plt.legend()\n",
    "plt.savefig(\"gaussian.png\", dpi=800)"
   ]
  },
  {
   "cell_type": "code",
   "execution_count": 4,
   "metadata": {},
   "outputs": [],
   "source": [
    "from sys import path\n",
    "from os.path import join, abspath\n",
    "\n",
    "# Tell python to search for the files and modules starting from the working directory\n",
    "module_path = abspath(join('..'))\n",
    "if module_path not in path:\n",
    "    path.append(module_path)\n",
    "\n",
    "import numpy as np\n",
    "import qubit_approximant as qa\n",
    "from qubit_approximant.benchmarking.functions import gaussian\n",
    "\n",
    "x = np.linspace(-2.5, 2.5, 1000)\n",
    "fn = gaussian(x, std=0.5, coef=1)\n",
    "min_layers = 2\n",
    "max_layers = 10\n",
    "\n",
    "params = 0.3 * np.random.randn(4 * min_layers)\n",
    "circuit = qa.CircuitRxRyRz(x, encoding=\"prob\")\n",
    "cost = qa.Cost(fn, circuit, metric=\"mse\")\n",
    "opt = qa.BlackBoxOptimizer(method=\"L-BFGS-B\")\n",
    "layerwise_opt = qa.LayerwiseOptimizer(opt, min_layers, max_layers, new_layer_coef=0.3, new_layer_position=\"initial\")\n",
    "params_list = layerwise_opt(cost, cost.grad, params)\n",
    "\n",
    "l1_list, l2_list, inf_list, infidelity_list = qa.metric_results(\n",
    "    circuit = circuit,\n",
    "    fn = gaussian,\n",
    "    fn_kwargs = {\"std\": 0.5, \"coef\": 1},\n",
    "    params_list = params_list)"
   ]
  },
  {
   "cell_type": "code",
   "execution_count": 8,
   "metadata": {},
   "outputs": [],
   "source": [
    "import numpy as np\n",
    "\n",
    "from qubit_approximant.benchmarking.functions import gaussian\n",
    "from qubit_approximant.core import CircuitRxRyRz, Cost, BlackBoxOptimizer, LayerwiseOptimizer\n",
    "from qubit_approximant.benchmarking import metric_results\n",
    "\n",
    "x = np.linspace(-2.5, 2.5, 1000)\n",
    "fn_kwargs = {'mean': 0.0, 'std': 0.5, 'coef': 1}\n",
    "fn = gaussian(x, **fn_kwargs)\n",
    "\n",
    "circuit = CircuitRxRyRz(x, encoding='prob')\n",
    "cost = Cost(fn, circuit, metric='mse')\n",
    "optimizer = BlackBoxOptimizer(method=\"L-BFGS-B\")\n",
    "\n",
    "min_layer = 3\n",
    "init_params = np.random.randn(4 * min_layer)\n",
    "layerwise_opt = LayerwiseOptimizer(\n",
    "    optimizer,\n",
    "    min_layer=min_layer,\n",
    "    max_layer=7,\n",
    "    new_layer_coef=0.3,\n",
    "    new_layer_position='random'\n",
    "    )\n",
    "params_list = layerwise_opt(cost, cost.grad, init_params)\n",
    "\n",
    "l1_list, l2_list, inf_list, infidelity_list = metric_results(\n",
    "    fn = gaussian,\n",
    "    fn_kwargs = {'mean': 0.0, 'std': 0.5, 'coef': 1},\n",
    "    circuit=circuit,\n",
    "    params_list=params_list\n",
    "    )"
   ]
  },
  {
   "cell_type": "code",
   "execution_count": null,
   "metadata": {},
   "outputs": [],
   "source": []
  }
 ],
 "metadata": {
  "kernelspec": {
   "display_name": "QC_env",
   "language": "python",
   "name": "python3"
  },
  "language_info": {
   "codemirror_mode": {
    "name": "ipython",
    "version": 3
   },
   "file_extension": ".py",
   "mimetype": "text/x-python",
   "name": "python",
   "nbconvert_exporter": "python",
   "pygments_lexer": "ipython3",
   "version": "3.10.4"
  },
  "orig_nbformat": 4,
  "vscode": {
   "interpreter": {
    "hash": "a7013974fffeed3b051300295b1503215c2ff339c4a5745dabd6db85632ac1be"
   }
  }
 },
 "nbformat": 4,
 "nbformat_minor": 2
}
