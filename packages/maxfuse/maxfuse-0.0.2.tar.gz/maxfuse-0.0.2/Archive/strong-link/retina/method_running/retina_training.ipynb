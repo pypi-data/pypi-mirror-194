{
 "cells": [
  {
   "cell_type": "code",
   "execution_count": 1,
   "id": "b19a21f8",
   "metadata": {},
   "outputs": [],
   "source": [
    "import sys\n",
    "sys.path\n",
    "sys.path.append('/home/mnt/nzh/nzhanglab/project/shuang/miniconda3/envs/scglue2/lib/python3.8/site-packages')\n"
   ]
  },
  {
   "cell_type": "code",
   "execution_count": 2,
   "id": "efd54210",
   "metadata": {},
   "outputs": [],
   "source": [
    "import anndata\n",
    "import itertools\n",
    "import networkx as nx\n",
    "import pandas as pd\n",
    "import scanpy as sc\n",
    "import scglue\n",
    "import seaborn as sns\n",
    "from matplotlib import rcParams"
   ]
  },
  {
   "cell_type": "code",
   "execution_count": 3,
   "id": "b9b38521",
   "metadata": {},
   "outputs": [],
   "source": [
    "scglue.plot.set_publication_params()\n",
    "rcParams[\"figure.figsize\"] = (4, 4)"
   ]
  },
  {
   "cell_type": "code",
   "execution_count": 4,
   "id": "c3fe7de9",
   "metadata": {},
   "outputs": [
    {
     "name": "stdout",
     "output_type": "stream",
     "text": [
      "The current date and time is 14:23:06\n"
     ]
    }
   ],
   "source": [
    "from datetime import datetime\n",
    "time_now = datetime.now()\n",
    "current_time = time_now.strftime(\"%H:%M:%S\")\n",
    "\n",
    "print(\"The current date and time is\", current_time)"
   ]
  },
  {
   "cell_type": "code",
   "execution_count": 5,
   "id": "ef489d62",
   "metadata": {},
   "outputs": [],
   "source": [
    "rna = anndata.read_h5ad(\"retina/rna_preprocessed_2000.h5ad\")\n",
    "atac = anndata.read_h5ad(\"retina/atac_preprocessed_2000.h5ad\")\n",
    "graph = nx.read_graphml(\"retina/prior_2000.graphml.gz\")"
   ]
  },
  {
   "cell_type": "code",
   "execution_count": 6,
   "id": "1427ed95",
   "metadata": {},
   "outputs": [],
   "source": [
    "scglue.models.configure_dataset(\n",
    "    rna, \"NB\", use_highly_variable=True,\n",
    "    use_layer=\"counts\", use_rep=\"X_pca\"\n",
    ")"
   ]
  },
  {
   "cell_type": "code",
   "execution_count": 7,
   "id": "fcb48cb7",
   "metadata": {},
   "outputs": [],
   "source": [
    "scglue.models.configure_dataset(\n",
    "    atac, \"NB\", use_highly_variable=True,\n",
    "    use_rep=\"X_lsi\"\n",
    ")"
   ]
  },
  {
   "cell_type": "code",
   "execution_count": 8,
   "id": "c2c28cad",
   "metadata": {},
   "outputs": [],
   "source": [
    "graph = graph.subgraph(itertools.chain(\n",
    "    rna.var.query(\"highly_variable\").index,\n",
    "    atac.var.query(\"highly_variable\").index\n",
    "))"
   ]
  },
  {
   "cell_type": "code",
   "execution_count": null,
   "id": "ab41f894",
   "metadata": {},
   "outputs": [
    {
     "name": "stdout",
     "output_type": "stream",
     "text": [
      "[INFO] fit_SCGLUE: Pretraining SCGLUE model...\n",
      "[INFO] autodevice: Using GPU 0 as computation device.\n",
      "[INFO] SCGLUEModel: Setting `graph_batch_size` = 57930\n",
      "[INFO] SCGLUEModel: Setting `max_epochs` = 683\n",
      "[INFO] SCGLUEModel: Setting `patience` = 57\n",
      "[INFO] SCGLUEModel: Setting `reduce_lr_patience` = 29\n",
      "[INFO] SCGLUETrainer: Using training directory: \"/tmp/GLUETMPopa8vvcq\"\n",
      "[INFO] SCGLUETrainer: [Epoch 10] train={'g_nll': 0.505, 'g_kl': 0.001, 'g_elbo': 0.506, 'x_rna_nll': 0.296, 'x_rna_kl': 0.016, 'x_rna_elbo': 0.312, 'x_atac_nll': 0.077, 'x_atac_kl': 0.001, 'x_atac_elbo': 0.078, 'dsc_loss': 0.682, 'vae_loss': 0.41, 'gen_loss': 0.376}, val={'g_nll': 0.502, 'g_kl': 0.001, 'g_elbo': 0.503, 'x_rna_nll': 0.3, 'x_rna_kl': 0.014, 'x_rna_elbo': 0.314, 'x_atac_nll': 0.068, 'x_atac_kl': 0.001, 'x_atac_elbo': 0.069, 'dsc_loss': 0.684, 'vae_loss': 0.403, 'gen_loss': 0.369}, 2.7s elapsed\n"
     ]
    }
   ],
   "source": [
    "glue = scglue.models.fit_SCGLUE(\n",
    "    {\"rna\": rna, \"atac\": atac}, graph\n",
    ")"
   ]
  },
  {
   "cell_type": "code",
   "execution_count": null,
   "id": "73b59e10",
   "metadata": {},
   "outputs": [],
   "source": [
    "glue.save(\"retina_glue.dill\")"
   ]
  },
  {
   "cell_type": "code",
   "execution_count": null,
   "id": "25ba7c34",
   "metadata": {},
   "outputs": [],
   "source": [
    "glue = scglue.models.load_model(\"retina_glue.dill\")"
   ]
  },
  {
   "cell_type": "code",
   "execution_count": null,
   "id": "6a78e7e7",
   "metadata": {},
   "outputs": [],
   "source": [
    "dx = scglue.models.integration_consistency(\n",
    "    glue, {\"rna\": rna, \"atac\": atac}, graph,\n",
    "    count_layers={\"rna\": \"counts\"}\n",
    ")\n",
    "dx"
   ]
  },
  {
   "cell_type": "code",
   "execution_count": null,
   "id": "5bef4c07",
   "metadata": {},
   "outputs": [],
   "source": [
    "_ = sns.lineplot(x=\"n_meta\", y=\"consistency\", data=dx).axhline(y=0.05, c=\"darkred\", ls=\"--\")\n"
   ]
  },
  {
   "cell_type": "code",
   "execution_count": null,
   "id": "94ae1e43",
   "metadata": {},
   "outputs": [],
   "source": [
    "rna.obsm[\"X_glue\"] = glue.encode_data(\"rna\", rna)\n",
    "atac.obsm[\"X_glue\"] = glue.encode_data(\"atac\", atac)"
   ]
  },
  {
   "cell_type": "code",
   "execution_count": null,
   "id": "69106005",
   "metadata": {},
   "outputs": [],
   "source": [
    "import numpy\n",
    "rna.obs_names = numpy.char.add(\"rna\",rna.obs_names)\n",
    "atac.obs_names = numpy.char.add(\"atac\",atac.obs_names)"
   ]
  },
  {
   "cell_type": "code",
   "execution_count": null,
   "id": "7d009a6a",
   "metadata": {},
   "outputs": [],
   "source": [
    "combined = anndata.concat([rna, atac])\n"
   ]
  },
  {
   "cell_type": "code",
   "execution_count": null,
   "id": "4058c03a",
   "metadata": {},
   "outputs": [],
   "source": [
    "sc.pp.neighbors(combined, use_rep=\"X_glue\", metric=\"cosine\")\n",
    "sc.tl.umap(combined)\n",
    "sc.pl.umap(combined, color=[\"celltype\", \"domain\"], wspace=0.65)"
   ]
  },
  {
   "cell_type": "code",
   "execution_count": null,
   "id": "6b6419a9",
   "metadata": {},
   "outputs": [],
   "source": [
    "feature_embeddings = glue.encode_graph(graph)\n",
    "feature_embeddings = pd.DataFrame(feature_embeddings, index=glue.vertices)\n",
    "feature_embeddings.iloc[:5, :5]"
   ]
  },
  {
   "cell_type": "code",
   "execution_count": null,
   "id": "7c665fa3",
   "metadata": {},
   "outputs": [],
   "source": [
    "glue_array = combined.obsm['X_glue']\n",
    "import numpy as np\n",
    "glue_array = pd.DataFrame(glue_array)\n",
    "glue_array.index = np.concatenate([rna.obs_names,atac.obs_names])"
   ]
  },
  {
   "cell_type": "code",
   "execution_count": null,
   "id": "4b69188b",
   "metadata": {},
   "outputs": [],
   "source": [
    "glue_array.to_csv('/home/mnt/nzh/nzhanglab/project/shuang/scATAC/comparison_methods/scglue/subset_2000_retina_glue_embeddings.csv', index=True)"
   ]
  },
  {
   "cell_type": "code",
   "execution_count": null,
   "id": "9540088e",
   "metadata": {},
   "outputs": [],
   "source": [
    "from datetime import datetime\n",
    "time_now = datetime.now()\n",
    "current_time = time_now.strftime(\"%H:%M:%S\")\n",
    "\n",
    "print(\"The current date and time is\", current_time)"
   ]
  },
  {
   "cell_type": "code",
   "execution_count": null,
   "id": "b5c40bf3",
   "metadata": {},
   "outputs": [],
   "source": []
  },
  {
   "cell_type": "code",
   "execution_count": null,
   "id": "70eeb2a9",
   "metadata": {},
   "outputs": [],
   "source": []
  },
  {
   "cell_type": "code",
   "execution_count": null,
   "id": "6f586e32",
   "metadata": {},
   "outputs": [],
   "source": []
  },
  {
   "cell_type": "code",
   "execution_count": null,
   "id": "c0aa86b9",
   "metadata": {},
   "outputs": [],
   "source": []
  }
 ],
 "metadata": {
  "kernelspec": {
   "display_name": "Python 3 (ipykernel)",
   "language": "python",
   "name": "python3"
  },
  "language_info": {
   "codemirror_mode": {
    "name": "ipython",
    "version": 3
   },
   "file_extension": ".py",
   "mimetype": "text/x-python",
   "name": "python",
   "nbconvert_exporter": "python",
   "pygments_lexer": "ipython3",
   "version": "3.8.12"
  }
 },
 "nbformat": 4,
 "nbformat_minor": 5
}
