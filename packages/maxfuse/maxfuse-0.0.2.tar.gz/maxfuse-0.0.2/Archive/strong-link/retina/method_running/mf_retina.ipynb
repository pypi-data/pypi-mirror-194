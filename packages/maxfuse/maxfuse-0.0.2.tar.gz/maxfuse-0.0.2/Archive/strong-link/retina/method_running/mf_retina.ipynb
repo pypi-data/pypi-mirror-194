{
 "cells": [
  {
   "cell_type": "markdown",
   "id": "d297183a",
   "metadata": {},
   "source": [
    "### MaxFuse run on the retina dataset"
   ]
  },
  {
   "cell_type": "code",
   "execution_count": 1,
   "id": "a967092c",
   "metadata": {},
   "outputs": [],
   "source": [
    "import numpy as np\n",
    "import pandas as pd\n",
    "import matplotlib.pyplot as plt\n",
    "from sklearn.metrics import confusion_matrix, ConfusionMatrixDisplay\n",
    "\n",
    "import anndata as ad\n",
    "import scanpy as sc\n",
    "\n",
    "import sys\n",
    "sys.path.append(\"../../MaxFuse_devo/09302022V/\")\n",
    "import match\n",
    "import metrics\n",
    "from scipy.io import mmread\n",
    "import os"
   ]
  },
  {
   "cell_type": "code",
   "execution_count": 2,
   "id": "8cb87f1d",
   "metadata": {},
   "outputs": [
    {
     "data": {
      "text/plain": [
       "array(['AIIamacrine', 'Astrocyte', 'Cone', 'GABAamacrine', 'Glyamacrine',\n",
       "       'Horizontal', 'Microglia', 'Mullerglia', 'OFFconebipolar',\n",
       "       'ONconebipolar', 'Retinalganglioncell', 'Rod', 'Rodbipolar'],\n",
       "      dtype=object)"
      ]
     },
     "execution_count": 2,
     "metadata": {},
     "output_type": "execute_result"
    }
   ],
   "source": [
    "meta = pd.read_csv('/atac_bench_nrz/retina/data/meta_20k.csv')\n",
    "celltype_labels = meta['annotation'].to_numpy()\n",
    "np.unique(celltype_labels)"
   ]
  },
  {
   "cell_type": "code",
   "execution_count": 3,
   "id": "2a693d1f",
   "metadata": {},
   "outputs": [
    {
     "data": {
      "text/plain": [
       "(20000, 36601)"
      ]
     },
     "execution_count": 3,
     "metadata": {},
     "output_type": "execute_result"
    }
   ],
   "source": [
    "# read in the counts\n",
    "rna = mmread(\"/atac_bench_nrz/retina/data/rna_20k.txt\").tocsr()\n",
    "rna.shape"
   ]
  },
  {
   "cell_type": "code",
   "execution_count": 4,
   "id": "5e910c9f",
   "metadata": {},
   "outputs": [],
   "source": [
    "# read in the names\n",
    "rna_names = pd.read_csv(\n",
    "    '/atac_bench_nrz/retina/data/rna_names.csv'\n",
    ")['names'].to_numpy()"
   ]
  },
  {
   "cell_type": "code",
   "execution_count": 5,
   "id": "59dac30e",
   "metadata": {},
   "outputs": [
    {
     "data": {
      "text/plain": [
       "(20000, 24919)"
      ]
     },
     "execution_count": 5,
     "metadata": {},
     "output_type": "execute_result"
    }
   ],
   "source": [
    "atacactivity=mmread(\"/atac_bench_nrz/retina/data/atac_20k.txt\").tocsr()\n",
    "atacactivity.shape"
   ]
  },
  {
   "cell_type": "code",
   "execution_count": 6,
   "id": "18a239b7",
   "metadata": {},
   "outputs": [],
   "source": [
    "# activity names\n",
    "gas_names = pd.read_csv(\n",
    "    '/atac_bench_nrz/retina/data/atac_names.csv'\n",
    ")['names'].to_numpy()"
   ]
  },
  {
   "cell_type": "code",
   "execution_count": 9,
   "id": "942f742f",
   "metadata": {},
   "outputs": [
    {
     "data": {
      "text/plain": [
       "(20000, 49)"
      ]
     },
     "execution_count": 9,
     "metadata": {},
     "output_type": "execute_result"
    }
   ],
   "source": [
    "peak_lsi = pd.read_csv('/atac_bench_nrz/retina/data/lsi_49_20k.csv')\n",
    "peak_lsi = peak_lsi.drop('X', axis=1)\n",
    "peak_lsi.shape"
   ]
  },
  {
   "cell_type": "code",
   "execution_count": 10,
   "id": "0b7a8795",
   "metadata": {},
   "outputs": [
    {
     "data": {
      "text/plain": [
       "AnnData object with n_obs × n_vars = 20000 × 36601"
      ]
     },
     "execution_count": 10,
     "metadata": {},
     "output_type": "execute_result"
    }
   ],
   "source": [
    "## make rna anndata\n",
    "rna_adata = ad.AnnData(\n",
    "    rna.tocsr(), dtype=np.float32\n",
    ")\n",
    "rna_adata.var_names = rna_names\n",
    "#rna_adata.obs_names = meta_rna['Unnamed: 0']\n",
    "rna_adata"
   ]
  },
  {
   "cell_type": "code",
   "execution_count": 11,
   "id": "3f968b17",
   "metadata": {},
   "outputs": [
    {
     "data": {
      "text/plain": [
       "AnnData object with n_obs × n_vars = 20000 × 24919"
      ]
     },
     "execution_count": 11,
     "metadata": {},
     "output_type": "execute_result"
    }
   ],
   "source": [
    "## make GAS anndata\n",
    "activity_adata = ad.AnnData(atacactivity, dtype=np.float32)\n",
    "activity_adata.var_names = gas_names\n",
    "activity_adata"
   ]
  },
  {
   "cell_type": "code",
   "execution_count": 12,
   "id": "340d1932",
   "metadata": {},
   "outputs": [
    {
     "name": "stderr",
     "output_type": "stream",
     "text": [
      "/home/bkzhu/python/miniconda3/envs/super_mario_testing/lib/python3.8/site-packages/anndata/_core/anndata.py:121: ImplicitModificationWarning: Transforming to str index.\n",
      "  warnings.warn(\"Transforming to str index.\", ImplicitModificationWarning)\n"
     ]
    },
    {
     "data": {
      "text/plain": [
       "AnnData object with n_obs × n_vars = 20000 × 49"
      ]
     },
     "execution_count": 12,
     "metadata": {},
     "output_type": "execute_result"
    }
   ],
   "source": [
    "peak_adata=ad.AnnData(peak_lsi, dtype=np.float32)\n",
    "peak_adata"
   ]
  },
  {
   "cell_type": "code",
   "execution_count": 13,
   "id": "73457f4a",
   "metadata": {},
   "outputs": [
    {
     "data": {
      "text/plain": [
       "21369"
      ]
     },
     "execution_count": 13,
     "metadata": {},
     "output_type": "execute_result"
    }
   ],
   "source": [
    "shared_genes = np.intersect1d(rna_adata.var_names, activity_adata.var_names)\n",
    "len(np.intersect1d(rna_adata.var_names, activity_adata.var_names))"
   ]
  },
  {
   "cell_type": "code",
   "execution_count": 14,
   "id": "025f2f04",
   "metadata": {},
   "outputs": [],
   "source": [
    "rna_shared = rna_adata[:, shared_genes].X.todense()\n",
    "activity_shared = activity_adata[:, shared_genes].X.todense()\n",
    "\n",
    "mask = ((rna_shared.std(axis=0) > 0.01) & (activity_shared.std(axis=0) > 0.01)).A1 # filter out static ones\n",
    "rna_shared = rna_shared[:, mask]\n",
    "activity_shared = activity_shared[:, mask]"
   ]
  },
  {
   "cell_type": "code",
   "execution_count": 15,
   "id": "b034a62e",
   "metadata": {},
   "outputs": [],
   "source": [
    "# normalize shared RNA counts\n",
    "rna_shared = ad.AnnData(rna_shared)\n",
    "sc.pp.normalize_total(rna_shared)\n",
    "sc.pp.log1p(rna_shared)\n",
    "sc.pp.highly_variable_genes(rna_shared, n_top_genes = 3000)\n",
    "sc.pp.scale(rna_shared)\n",
    "#rna_shared = rna_shared.X\n",
    "\n",
    "## atac shared\n",
    "activity_shared = ad.AnnData(activity_shared)\n",
    "sc.pp.normalize_total(activity_shared)\n",
    "sc.pp.log1p(activity_shared)\n",
    "sc.pp.scale(activity_shared)\n",
    "#activity_shared = activity_shared.X"
   ]
  },
  {
   "cell_type": "code",
   "execution_count": 16,
   "id": "59cd2a0f",
   "metadata": {},
   "outputs": [
    {
     "name": "stdout",
     "output_type": "stream",
     "text": [
      "((20000, 18911), (20000, 18911))\n"
     ]
    }
   ],
   "source": [
    "print((rna_shared.shape, activity_shared.shape))"
   ]
  },
  {
   "cell_type": "code",
   "execution_count": 17,
   "id": "4c8337ad",
   "metadata": {},
   "outputs": [],
   "source": [
    "vgenes = rna_shared.var.highly_variable"
   ]
  },
  {
   "cell_type": "code",
   "execution_count": 18,
   "id": "afe6b8d5",
   "metadata": {},
   "outputs": [],
   "source": [
    "# shared features\n",
    "rnaC_shared = rna_shared[:,vgenes].X\n",
    "atac_shared = activity_shared[:,vgenes].X\n",
    "# all features\n",
    "rnaC_active = rna_shared[:,vgenes].X\n",
    "atac_active = peak_adata.X"
   ]
  },
  {
   "cell_type": "code",
   "execution_count": 19,
   "id": "fddaf0fc",
   "metadata": {},
   "outputs": [],
   "source": [
    "spm = match.MaxFuse(\n",
    "        shared_arr1=rnaC_shared,\n",
    "        shared_arr2=atac_shared,\n",
    "        active_arr1=rnaC_active,\n",
    "        active_arr2=atac_active,\n",
    "        method='centroid_shrinkage',\n",
    "        labels1=None, # if None, then use scanpy clustering pipeline\n",
    "        labels2=None\n",
    "    )"
   ]
  },
  {
   "cell_type": "code",
   "execution_count": 21,
   "id": "e534a241",
   "metadata": {},
   "outputs": [
    {
     "name": "stdout",
     "output_type": "stream",
     "text": [
      "The first data is split into 2 batches, average batch size is 10000, and max batch size is 10000.\n",
      "The second data is split into 1 batches, average batch size is 20000, and max batch size is 20000.\n",
      "Batch to batch correspondence is:\n",
      "  ['0<->0', '1<->0'].\n"
     ]
    }
   ],
   "source": [
    "spm.split_into_batches(\n",
    "    max_outward_size=5000,\n",
    "    matching_ratio=5,\n",
    "    metacell_size=2,\n",
    "    method = 'binning',\n",
    "    seed=None,\n",
    "    verbose=True\n",
    ")"
   ]
  },
  {
   "cell_type": "code",
   "execution_count": 22,
   "id": "eab09cf7",
   "metadata": {},
   "outputs": [
    {
     "name": "stdout",
     "output_type": "stream",
     "text": [
      "Aggregating cells in arr1 into metacells of average size 2...\n",
      "Constructing neighborhood graphs for cells in arr1...\n",
      "Now at batch 0...\n",
      "Now at batch 1...\n",
      "Graph construction finished!\n",
      "Clustering into metacells...\n",
      "Now at batch 0...\n",
      "Metacell clustering finished!\n",
      "Now at batch 1...\n",
      "Metacell clustering finished!\n",
      "Constructing neighborhood graphs for cells in arr1...\n",
      "Now at batch 0...\n",
      "Now at batch 1...\n",
      "Graph construction finished!\n",
      "Clustering the graphs for cells in arr1...\n",
      "Now at batch 0...\n",
      "Now at batch 1...\n",
      "Graph clustering finished!\n",
      "Constructing neighborhood graphs for cells in arr2...\n",
      "Now at batch 0...\n",
      "Graph construction finished!\n",
      "Clustering the graphs for cells in arr2...\n",
      "Now at batch 0...\n",
      "Graph clustering finished!\n"
     ]
    }
   ],
   "source": [
    "spm.construct_graphs(\n",
    "    n_neighbors1=15,\n",
    "    n_neighbors2=15,\n",
    "    svd_components1=30,\n",
    "    svd_components2=20,\n",
    "    resolution1=2,\n",
    "    resolution2=2,\n",
    "    randomized_svd=False,  # @Shuxiao: Had to change this from True to False.  Doesn't work when true, why?\n",
    "    svd_runs=1,\n",
    "    resolution_tol=0.1,\n",
    "    leiden_runs=1,\n",
    "    leiden_seed=None,\n",
    "    verbose=True\n",
    ")"
   ]
  },
  {
   "cell_type": "code",
   "execution_count": 23,
   "id": "85b2f754",
   "metadata": {},
   "outputs": [
    {
     "name": "stdout",
     "output_type": "stream",
     "text": [
      "Now at batch 0<->0...\n",
      "Now at batch 1<->0...\n",
      "Done!\n"
     ]
    }
   ],
   "source": [
    "spm.find_initial_pivots(\n",
    "    wt1=0.7, wt2=0.7,\n",
    "    svd_components1=30, svd_components2=30,\n",
    "    randomized_svd=False, svd_runs=1,\n",
    "    verbose=True\n",
    ")"
   ]
  },
  {
   "cell_type": "code",
   "execution_count": 25,
   "id": "4178b5a8",
   "metadata": {},
   "outputs": [
    {
     "data": {
      "text/plain": [
       "0.9821893135881529"
      ]
     },
     "execution_count": 25,
     "metadata": {},
     "output_type": "execute_result"
    }
   ],
   "source": [
    "# test accuracy of initial matching\n",
    "import utils, metrics\n",
    "matching = spm._init_matching[0]\n",
    "labels1 = utils.summarize_clustering(spm._metacell_labels1[0], celltype_labels[spm._batch_to_indices1[0]])\n",
    "# labels1 = celltype_labels_rna[spm._batch_to_indices1[0]]\n",
    "labels2 = celltype_labels[spm._batch_to_indices2[0]]\n",
    "metrics.get_matching_acc(matching, labels1, labels2)"
   ]
  },
  {
   "cell_type": "code",
   "execution_count": 26,
   "id": "1a9a74a1",
   "metadata": {},
   "outputs": [
    {
     "name": "stdout",
     "output_type": "stream",
     "text": [
      "Now at batch 0<->0...\n",
      "Now at batch 1<->0...\n",
      "Done!\n"
     ]
    }
   ],
   "source": [
    "spm.refine_pivots(\n",
    "    wt1=0.7, wt2=0.7,\n",
    "    svd_components1=200, svd_components2=None,\n",
    "    cca_components=24,\n",
    "    filter_prop=0.,\n",
    "    n_iters=8,\n",
    "    randomized_svd=False, \n",
    "    svd_runs=1,\n",
    "    verbose=True\n",
    ")"
   ]
  },
  {
   "cell_type": "code",
   "execution_count": 27,
   "id": "5641094d",
   "metadata": {},
   "outputs": [
    {
     "data": {
      "text/plain": [
       "0.9847908745247148"
      ]
     },
     "execution_count": 27,
     "metadata": {},
     "output_type": "execute_result"
    }
   ],
   "source": [
    "# test accuracy of refined matching\n",
    "matching = spm._refined_matching[0]\n",
    "labels1 = utils.summarize_clustering(spm._metacell_labels1[0], celltype_labels[spm._batch_to_indices1[0]])\n",
    "# labels1 = celltype_labels_rna[spm._batch_to_indices1[0]]\n",
    "labels2 = celltype_labels[spm._batch_to_indices2[0]]\n",
    "metrics.get_matching_acc(matching, labels1, labels2)"
   ]
  },
  {
   "cell_type": "code",
   "execution_count": 28,
   "id": "f21b4831",
   "metadata": {},
   "outputs": [
    {
     "name": "stdout",
     "output_type": "stream",
     "text": [
      "Begin filtering...\n",
      "Now at batch 0<->0...\n",
      "Now at batch 1<->0...\n",
      "6992/9988 pairs of matched cells remain after the filtering.\n",
      "Fitting CCA on pivots...\n",
      "Scoring matched pairs...\n",
      "14160/20000 cells in arr1 are selected as pivots.\n",
      "4898/20000 cells in arr2 are selected as pivots.\n",
      "Done!\n"
     ]
    }
   ],
   "source": [
    "spm.filter_bad_matches(target='pivot', filter_prop=0.3, verbose=True)"
   ]
  },
  {
   "cell_type": "code",
   "execution_count": 29,
   "id": "c84ae843",
   "metadata": {},
   "outputs": [
    {
     "name": "stdout",
     "output_type": "stream",
     "text": [
      "Now at batch 0<->0...\n",
      "Now at batch 1<->0...\n",
      "Done!\n"
     ]
    }
   ],
   "source": [
    "spm.propagate(\n",
    "    wt1=0.7, wt2=0.7,\n",
    "    svd_components1=40, \n",
    "    svd_components2=30, \n",
    "    randomized_svd=False, \n",
    "    svd_runs=1, \n",
    "    verbose=True\n",
    ")"
   ]
  },
  {
   "cell_type": "code",
   "execution_count": 30,
   "id": "ac80b025",
   "metadata": {},
   "outputs": [
    {
     "name": "stdout",
     "output_type": "stream",
     "text": [
      "Begin filtering...\n",
      "Now at batch 0<->0...\n",
      "Now at batch 1<->0...\n",
      "36004/36004 pairs of matched cells remain after the filtering.\n",
      "Scoring matched pairs...\n",
      "Done!\n"
     ]
    }
   ],
   "source": [
    "spm.filter_bad_matches(\n",
    "    target='propagated',\n",
    "    filter_prop=0.,\n",
    "    verbose=True\n",
    ")"
   ]
  },
  {
   "cell_type": "code",
   "execution_count": 31,
   "id": "204ce8c8",
   "metadata": {},
   "outputs": [
    {
     "data": {
      "text/plain": [
       "0.963"
      ]
     },
     "execution_count": 31,
     "metadata": {},
     "output_type": "execute_result"
    }
   ],
   "source": [
    "matching = spm.get_matching(order=(2, 1), target='full_data')\n",
    "metrics.get_matching_acc(matching, celltype_labels, celltype_labels, order = (2, 1))"
   ]
  },
  {
   "cell_type": "code",
   "execution_count": 32,
   "id": "291c428a",
   "metadata": {},
   "outputs": [],
   "source": [
    "full = pd.DataFrame(list(zip(matching[0],matching[1],matching[2])), columns = [\"idx1\",\"idx2\",\"score\"])\n",
    "full.to_csv(\"/atac_bench_nrz/retina/mf/full_idx_21_test.csv\", index=False)"
   ]
  },
  {
   "cell_type": "code",
   "execution_count": 33,
   "id": "a8d03ba6",
   "metadata": {},
   "outputs": [],
   "source": [
    "arr1_cca, arr2_cca = spm.get_embedding(\n",
    "        active_arr1 = spm.active_arr1,\n",
    "        active_arr2 = spm.active_arr2,\n",
    "        refit=False,\n",
    "        matching=None,\n",
    "        order=None,\n",
    "        cca_components=20,\n",
    "        cca_max_iter=None\n",
    "    )"
   ]
  },
  {
   "cell_type": "code",
   "execution_count": 34,
   "id": "a811c2bf",
   "metadata": {},
   "outputs": [],
   "source": [
    "out_idx = 20 # save out but used 15 in downstream analysis\n",
    "arr1_df = pd.DataFrame(arr1_cca).iloc[:,0:out_idx]\n",
    "arr2_df = pd.DataFrame(arr2_cca).iloc[:,0:out_idx]\n",
    "arr1_df.to_csv(\"/atac_bench_nrz/retina/mf/full_embed_x0_test.csv\",index=False)\n",
    "arr2_df.to_csv(\"/atac_bench_nrz/retina/mf/full_embed_y0_test.csv\", index=False)"
   ]
  },
  {
   "cell_type": "code",
   "execution_count": null,
   "id": "0cb70c7b",
   "metadata": {},
   "outputs": [],
   "source": []
  }
 ],
 "metadata": {
  "kernelspec": {
   "display_name": "Python 3 (ipykernel)",
   "language": "python",
   "name": "python3"
  },
  "language_info": {
   "codemirror_mode": {
    "name": "ipython",
    "version": 3
   },
   "file_extension": ".py",
   "mimetype": "text/x-python",
   "name": "python",
   "nbconvert_exporter": "python",
   "pygments_lexer": "ipython3",
   "version": "3.8.12"
  }
 },
 "nbformat": 4,
 "nbformat_minor": 5
}
