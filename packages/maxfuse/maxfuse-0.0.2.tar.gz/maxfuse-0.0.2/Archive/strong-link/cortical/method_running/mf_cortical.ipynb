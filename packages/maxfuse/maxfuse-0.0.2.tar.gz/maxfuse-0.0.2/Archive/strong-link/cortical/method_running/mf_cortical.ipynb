{
 "cells": [
  {
   "cell_type": "markdown",
   "id": "00a78a96",
   "metadata": {},
   "source": [
    "### MaxFuse running on cortical data"
   ]
  },
  {
   "cell_type": "code",
   "execution_count": 1,
   "id": "89413a55",
   "metadata": {},
   "outputs": [],
   "source": [
    "import numpy as np\n",
    "import pandas as pd\n",
    "import matplotlib.pyplot as plt\n",
    "from sklearn.metrics import confusion_matrix, ConfusionMatrixDisplay\n",
    "\n",
    "import anndata as ad\n",
    "import scanpy as sc\n",
    "\n",
    "import sys\n",
    "sys.path.append(\"../../MaxFuse_devo/09302022V/\")\n",
    "import match\n",
    "import metrics\n",
    "from scipy.io import mmread\n",
    "import os"
   ]
  },
  {
   "cell_type": "code",
   "execution_count": 2,
   "id": "78a7fdcf",
   "metadata": {},
   "outputs": [
    {
     "data": {
      "text/plain": [
       "array(['Cyc. Prog.', 'EC/Peric.', 'GluN2', 'GluN3', 'GluN4', 'GluN5',\n",
       "       'IN1', 'IN2', 'IN3', 'RG', 'SP', 'mGPC/OPC', 'nIPC/GluN1'],\n",
       "      dtype=object)"
      ]
     },
     "execution_count": 2,
     "metadata": {},
     "output_type": "execute_result"
    }
   ],
   "source": [
    "meta_rna = pd.read_csv('/atac_bench_nrz/greanleaf_cortical/data/greenleaf_cortical_meta.csv')\n",
    "celltype_labels_rna = meta_rna['celltype'].to_numpy()\n",
    "np.unique(celltype_labels_rna)"
   ]
  },
  {
   "cell_type": "code",
   "execution_count": 3,
   "id": "2f7a0526",
   "metadata": {},
   "outputs": [
    {
     "data": {
      "text/plain": [
       "(8981, 16335)"
      ]
     },
     "execution_count": 3,
     "metadata": {},
     "output_type": "execute_result"
    }
   ],
   "source": [
    "# read in the counts\n",
    "rna = mmread(\"/atac_bench_nrz/greanleaf_cortical/data/greenleaf_cortical_SCT_data.mtx\").tocsr()\n",
    "rna.shape"
   ]
  },
  {
   "cell_type": "code",
   "execution_count": 4,
   "id": "0b355a57",
   "metadata": {},
   "outputs": [],
   "source": [
    "# read in the names\n",
    "rna_names = pd.read_csv(\n",
    "    '/atac_bench_nrz/greanleaf_cortical/data/greenleaf_cortical_rna_names.csv'\n",
    ")['names'].to_numpy()"
   ]
  },
  {
   "cell_type": "code",
   "execution_count": 5,
   "id": "793aedc8",
   "metadata": {},
   "outputs": [
    {
     "data": {
      "text/plain": [
       "(8981, 16335)"
      ]
     },
     "execution_count": 5,
     "metadata": {},
     "output_type": "execute_result"
    }
   ],
   "source": [
    "# read activity\n",
    "atacactivity=mmread(\"/atac_bench_nrz/greanleaf_cortical/data/greenleaf_cortical_GENEACTIVITY_data.mtx\").tocsr()\n",
    "atacactivity.shape"
   ]
  },
  {
   "cell_type": "code",
   "execution_count": 6,
   "id": "11e05b77",
   "metadata": {},
   "outputs": [],
   "source": [
    "# activity names\n",
    "gas_names = rna_names"
   ]
  },
  {
   "cell_type": "code",
   "execution_count": 7,
   "id": "661bb592",
   "metadata": {},
   "outputs": [],
   "source": [
    "peak_lsi = pd.read_csv('/atac_bench_nrz/greanleaf_cortical/data/greenleaf_cortical_peak_lsi.csv')\n",
    "peak_lsi = peak_lsi.iloc[:,:49]"
   ]
  },
  {
   "cell_type": "code",
   "execution_count": 8,
   "id": "d8eeceea",
   "metadata": {},
   "outputs": [
    {
     "data": {
      "text/plain": [
       "AnnData object with n_obs × n_vars = 8981 × 16335"
      ]
     },
     "execution_count": 8,
     "metadata": {},
     "output_type": "execute_result"
    }
   ],
   "source": [
    "## make rna anndata\n",
    "rna_adata = ad.AnnData(\n",
    "    rna.tocsr(), dtype=np.float32\n",
    ")\n",
    "rna_adata.var_names = rna_names\n",
    "rna_adata.obs_names = peak_lsi.index.to_list() # get the bardoces\n",
    "rna_adata"
   ]
  },
  {
   "cell_type": "code",
   "execution_count": 9,
   "id": "64fece85",
   "metadata": {},
   "outputs": [
    {
     "data": {
      "text/plain": [
       "AnnData object with n_obs × n_vars = 8981 × 16335"
      ]
     },
     "execution_count": 9,
     "metadata": {},
     "output_type": "execute_result"
    }
   ],
   "source": [
    "## make GAS anndata\n",
    "activity_adata = ad.AnnData(atacactivity, dtype=np.float32)\n",
    "activity_adata.var_names = gas_names\n",
    "activity_adata"
   ]
  },
  {
   "cell_type": "code",
   "execution_count": 10,
   "id": "1542703a",
   "metadata": {},
   "outputs": [
    {
     "data": {
      "text/plain": [
       "AnnData object with n_obs × n_vars = 8981 × 49"
      ]
     },
     "execution_count": 10,
     "metadata": {},
     "output_type": "execute_result"
    }
   ],
   "source": [
    "peak_adata=ad.AnnData(peak_lsi, dtype=np.float32)\n",
    "peak_adata"
   ]
  },
  {
   "cell_type": "code",
   "execution_count": 11,
   "id": "38e6b828",
   "metadata": {},
   "outputs": [
    {
     "data": {
      "text/plain": [
       "16335"
      ]
     },
     "execution_count": 11,
     "metadata": {},
     "output_type": "execute_result"
    }
   ],
   "source": [
    "shared_genes = np.intersect1d(rna_adata.var_names, activity_adata.var_names)\n",
    "len(np.intersect1d(rna_adata.var_names, activity_adata.var_names))"
   ]
  },
  {
   "cell_type": "code",
   "execution_count": 12,
   "id": "3a9557d0",
   "metadata": {},
   "outputs": [],
   "source": [
    "rna_shared = rna_adata[:, shared_genes].X.todense()\n",
    "activity_shared = activity_adata[:, shared_genes].X.todense()\n",
    "\n",
    "mask = ((rna_shared.std(axis=0) > 0.01) & (activity_shared.std(axis=0) > 0.0)).A1 # filter out static ones\n",
    "rna_shared = rna_shared[:, mask]\n",
    "activity_shared = activity_shared[:, mask]"
   ]
  },
  {
   "cell_type": "code",
   "execution_count": 13,
   "id": "33121892",
   "metadata": {},
   "outputs": [
    {
     "name": "stdout",
     "output_type": "stream",
     "text": [
      "((8981, 15669), (8981, 15669))\n"
     ]
    }
   ],
   "source": [
    "print((rna_shared.shape, activity_shared.shape))"
   ]
  },
  {
   "cell_type": "code",
   "execution_count": 14,
   "id": "19003904",
   "metadata": {},
   "outputs": [],
   "source": [
    "# input sct norm skip norm process\n",
    "rna_shared = ad.AnnData(rna_shared)\n",
    "#sc.pp.normalize_total(rna_shared) #input already normed\n",
    "#sc.pp.log1p(rna_shared)\n",
    "sc.pp.highly_variable_genes(rna_shared, n_top_genes = 3000)\n",
    "sc.pp.scale(rna_shared)\n",
    "#rna_shared = rna_shared.X\n",
    "\n",
    "## atac shared\n",
    "activity_shared = ad.AnnData(activity_shared)\n",
    "sc.pp.normalize_total(activity_shared)\n",
    "sc.pp.log1p(activity_shared)\n",
    "sc.pp.scale(activity_shared)\n",
    "#activity_shared = activity_shared.X"
   ]
  },
  {
   "cell_type": "code",
   "execution_count": 15,
   "id": "be827deb",
   "metadata": {},
   "outputs": [],
   "source": [
    "vgenes = rna_shared.var.highly_variable"
   ]
  },
  {
   "cell_type": "code",
   "execution_count": 16,
   "id": "b21fac79",
   "metadata": {},
   "outputs": [],
   "source": [
    "# shared features\n",
    "rnaC_shared = rna_shared[:,vgenes].X\n",
    "atac_shared = activity_shared[:,vgenes].X\n",
    "# all features\n",
    "rnaC_active = rna_shared[:,vgenes].X\n",
    "atac_active = peak_adata.X"
   ]
  },
  {
   "cell_type": "code",
   "execution_count": 17,
   "id": "275ccd75",
   "metadata": {},
   "outputs": [],
   "source": [
    "spm = match.MaxFuse(\n",
    "        shared_arr1=rnaC_shared,\n",
    "        shared_arr2=atac_shared,\n",
    "        active_arr1=rnaC_active,\n",
    "        active_arr2=atac_active,\n",
    "        method='centroid_shrinkage',\n",
    "        labels1=None, # if None, then use scanpy clustering pipeline\n",
    "        labels2=None\n",
    "    )"
   ]
  },
  {
   "cell_type": "code",
   "execution_count": 18,
   "id": "d93effed",
   "metadata": {},
   "outputs": [
    {
     "name": "stdout",
     "output_type": "stream",
     "text": [
      "The first data is split into 2 batches, average batch size is 4490, and max batch size is 4491.\n",
      "The second data is split into 1 batches, average batch size is 8981, and max batch size is 8981.\n",
      "Batch to batch correspondence is:\n",
      "  ['0<->0', '1<->0'].\n"
     ]
    }
   ],
   "source": [
    "spm.split_into_batches(\n",
    "        max_outward_size=5000,\n",
    "        matching_ratio=5,\n",
    "        metacell_size=2,\n",
    "        method='binning',\n",
    "        verbose=True,\n",
    "        seed=42\n",
    "    )"
   ]
  },
  {
   "cell_type": "code",
   "execution_count": 19,
   "id": "727874fc",
   "metadata": {},
   "outputs": [
    {
     "name": "stdout",
     "output_type": "stream",
     "text": [
      "Aggregating cells in arr1 into metacells of average size 2...\n",
      "Constructing neighborhood graphs for cells in arr1...\n",
      "Now at batch 0...\n",
      "Now at batch 1...\n",
      "Graph construction finished!\n",
      "Clustering into metacells...\n",
      "Now at batch 0...\n",
      "Metacell clustering finished!\n",
      "Now at batch 1...\n",
      "Metacell clustering finished!\n",
      "Constructing neighborhood graphs for cells in arr1...\n",
      "Now at batch 0...\n",
      "Now at batch 1...\n",
      "Graph construction finished!\n",
      "Clustering the graphs for cells in arr1...\n",
      "Now at batch 0...\n",
      "Now at batch 1...\n",
      "Graph clustering finished!\n",
      "Constructing neighborhood graphs for cells in arr2...\n",
      "Now at batch 0...\n",
      "Graph construction finished!\n",
      "Clustering the graphs for cells in arr2...\n",
      "Now at batch 0...\n",
      "Graph clustering finished!\n"
     ]
    }
   ],
   "source": [
    "spm.construct_graphs(\n",
    "    n_neighbors1=15,\n",
    "    n_neighbors2=15,\n",
    "    svd_components1=30,\n",
    "    svd_components2=15,\n",
    "    resolution1=2,\n",
    "    resolution2=2,\n",
    "    randomized_svd=False,  # @Shuxiao: Had to change this from True to False.  Doesn't work when true, why?\n",
    "    svd_runs=1,\n",
    "    resolution_tol=0.1,\n",
    "    leiden_runs=1,\n",
    "    leiden_seed=None,\n",
    "    verbose=True\n",
    ")"
   ]
  },
  {
   "cell_type": "code",
   "execution_count": 20,
   "id": "3a5dd495",
   "metadata": {},
   "outputs": [
    {
     "name": "stdout",
     "output_type": "stream",
     "text": [
      "Now at batch 0<->0...\n",
      "Now at batch 1<->0...\n",
      "Done!\n"
     ]
    }
   ],
   "source": [
    "spm.find_initial_pivots(\n",
    "    wt1=0.7, wt2=0.7,\n",
    "    svd_components1=20, svd_components2=20,\n",
    "    randomized_svd=False, svd_runs=1,\n",
    "    verbose=True\n",
    ")"
   ]
  },
  {
   "cell_type": "code",
   "execution_count": 21,
   "id": "f09341cf",
   "metadata": {},
   "outputs": [
    {
     "data": {
      "text/plain": [
       "0.6598305840392331"
      ]
     },
     "execution_count": 21,
     "metadata": {},
     "output_type": "execute_result"
    }
   ],
   "source": [
    "# test accuracy of initial matching\n",
    "import utils, metrics\n",
    "matching = spm._init_matching[0]\n",
    "labels1 = utils.summarize_clustering(spm._metacell_labels1[0], celltype_labels_rna[spm._batch_to_indices1[0]])\n",
    "# labels1 = celltype_labels_rna[spm._batch_to_indices1[0]]\n",
    "labels2 = celltype_labels_rna[spm._batch_to_indices2[0]]\n",
    "metrics.get_matching_acc(matching, labels1, labels2)"
   ]
  },
  {
   "cell_type": "code",
   "execution_count": 22,
   "id": "61f3b141",
   "metadata": {},
   "outputs": [
    {
     "name": "stdout",
     "output_type": "stream",
     "text": [
      "Now at batch 0<->0...\n",
      "Now at batch 1<->0...\n",
      "Done!\n"
     ]
    }
   ],
   "source": [
    "spm.refine_pivots(\n",
    "    wt1=0.7, wt2=0.7,\n",
    "    svd_components1=200, svd_components2=None,\n",
    "    cca_components=18,\n",
    "    filter_prop=0.,\n",
    "    n_iters=8,\n",
    "    randomized_svd=False, \n",
    "    svd_runs=1,\n",
    "    verbose=True\n",
    ")"
   ]
  },
  {
   "cell_type": "code",
   "execution_count": 23,
   "id": "6ca76412",
   "metadata": {},
   "outputs": [
    {
     "data": {
      "text/plain": [
       "0.7186803388319215"
      ]
     },
     "execution_count": 23,
     "metadata": {},
     "output_type": "execute_result"
    }
   ],
   "source": [
    "# test accuracy of refined matching\n",
    "matching = spm._refined_matching[0]\n",
    "labels1 = utils.summarize_clustering(spm._metacell_labels1[0], celltype_labels_rna[spm._batch_to_indices1[0]])\n",
    "# labels1 = celltype_labels_rna[spm._batch_to_indices1[0]]\n",
    "labels2 = celltype_labels_rna[spm._batch_to_indices2[0]]\n",
    "metrics.get_matching_acc(matching, labels1, labels2)"
   ]
  },
  {
   "cell_type": "code",
   "execution_count": 24,
   "id": "0331867d",
   "metadata": {},
   "outputs": [
    {
     "name": "stdout",
     "output_type": "stream",
     "text": [
      "Begin filtering...\n",
      "Now at batch 0<->0...\n",
      "Now at batch 1<->0...\n",
      "2696/4493 pairs of matched cells remain after the filtering.\n",
      "Fitting CCA on pivots...\n",
      "Scoring matched pairs...\n",
      "5447/8981 cells in arr1 are selected as pivots.\n",
      "2340/8981 cells in arr2 are selected as pivots.\n",
      "Done!\n"
     ]
    }
   ],
   "source": [
    "spm.filter_bad_matches(target='pivot', filter_prop=0.4, verbose=True)"
   ]
  },
  {
   "cell_type": "code",
   "execution_count": 34,
   "id": "b22320e2",
   "metadata": {},
   "outputs": [
    {
     "name": "stdout",
     "output_type": "stream",
     "text": [
      "Now at batch 0<->0...\n",
      "Now at batch 1<->0...\n",
      "Done!\n"
     ]
    }
   ],
   "source": [
    "spm.propagate(\n",
    "    wt1=0.7,\n",
    "    wt2=0.7,\n",
    "    svd_components1=30, \n",
    "    svd_components2=15, \n",
    "    randomized_svd=False, \n",
    "    svd_runs=1, \n",
    "    verbose=True\n",
    ")"
   ]
  },
  {
   "cell_type": "code",
   "execution_count": 35,
   "id": "e2b6ee93",
   "metadata": {},
   "outputs": [
    {
     "name": "stdout",
     "output_type": "stream",
     "text": [
      "Begin filtering...\n",
      "Now at batch 0<->0...\n",
      "Now at batch 1<->0...\n",
      "17063/17063 pairs of matched cells remain after the filtering.\n",
      "Scoring matched pairs...\n",
      "Done!\n"
     ]
    }
   ],
   "source": [
    "spm.filter_bad_matches(\n",
    "        target='propagated',\n",
    "        filter_prop=0.,\n",
    "        verbose=True\n",
    "    )"
   ]
  },
  {
   "cell_type": "code",
   "execution_count": 36,
   "id": "af36c0fe",
   "metadata": {},
   "outputs": [
    {
     "data": {
      "text/plain": [
       "0.6948001336154103"
      ]
     },
     "execution_count": 36,
     "metadata": {},
     "output_type": "execute_result"
    }
   ],
   "source": [
    "matching = spm.get_matching(order=(2, 1), target='full_data')\n",
    "metrics.get_matching_acc(matching, celltype_labels_rna, celltype_labels_rna, order=(2, 1))\n",
    "# prev 69.5%"
   ]
  },
  {
   "cell_type": "code",
   "execution_count": 37,
   "id": "1e8c9813",
   "metadata": {},
   "outputs": [],
   "source": [
    "full = pd.DataFrame(list(zip(matching[0],matching[1],matching[2])), columns = [\"idx1\",\"idx2\",\"score\"])\n",
    "full.to_csv(\"/atac_bench_nrz/greanleaf_cortical/mf/full_idx_21.csv\", index=False)"
   ]
  },
  {
   "cell_type": "code",
   "execution_count": 38,
   "id": "acf2746c",
   "metadata": {},
   "outputs": [],
   "source": [
    "arr1_cca, arr2_cca = spm.get_embedding(\n",
    "        active_arr1 = spm.active_arr1,\n",
    "        active_arr2 = spm.active_arr2,\n",
    "        refit=False,\n",
    "        matching=None,\n",
    "        order=None,\n",
    "        cca_components=20,\n",
    "        cca_max_iter=None\n",
    "    )"
   ]
  },
  {
   "cell_type": "code",
   "execution_count": 39,
   "id": "ffe7214f",
   "metadata": {},
   "outputs": [],
   "source": [
    "out_idx = 20 # save 20 used 15 in downstream analysis\n",
    "arr1_df = pd.DataFrame(arr1_cca).iloc[:,0:out_idx]\n",
    "arr2_df = pd.DataFrame(arr2_cca).iloc[:,0:out_idx]\n",
    "arr1_df.to_csv(\"/atac_bench_nrz/greanleaf_cortical/mf/full_embed_x0.csv\",index=False)\n",
    "arr2_df.to_csv(\"/atac_bench_nrz/greanleaf_cortical/mf/full_embed_y0.csv\", index=False)"
   ]
  },
  {
   "cell_type": "code",
   "execution_count": null,
   "id": "edf17dc4",
   "metadata": {},
   "outputs": [],
   "source": []
  }
 ],
 "metadata": {
  "kernelspec": {
   "display_name": "Python 3 (ipykernel)",
   "language": "python",
   "name": "python3"
  },
  "language_info": {
   "codemirror_mode": {
    "name": "ipython",
    "version": 3
   },
   "file_extension": ".py",
   "mimetype": "text/x-python",
   "name": "python",
   "nbconvert_exporter": "python",
   "pygments_lexer": "ipython3",
   "version": "3.8.12"
  }
 },
 "nbformat": 4,
 "nbformat_minor": 5
}
