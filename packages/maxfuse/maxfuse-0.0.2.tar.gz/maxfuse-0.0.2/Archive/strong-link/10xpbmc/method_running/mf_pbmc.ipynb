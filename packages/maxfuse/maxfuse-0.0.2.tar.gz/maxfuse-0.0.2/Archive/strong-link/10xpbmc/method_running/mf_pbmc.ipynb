{
 "cells": [
  {
   "cell_type": "markdown",
   "id": "6ce9ab82",
   "metadata": {},
   "source": [
    "### MaxFuse running on 10x pbmc dataset"
   ]
  },
  {
   "cell_type": "code",
   "execution_count": 1,
   "id": "b622f47d",
   "metadata": {},
   "outputs": [],
   "source": [
    "import numpy as np\n",
    "import pandas as pd\n",
    "import matplotlib.pyplot as plt\n",
    "from sklearn.metrics import confusion_matrix, ConfusionMatrixDisplay\n",
    "\n",
    "import anndata as ad\n",
    "import scanpy as sc\n",
    "\n",
    "import sys\n",
    "sys.path.append(\"../../MaxFuse_devo/09302022V/\")\n",
    "import match\n",
    "import metrics\n",
    "from scipy.io import mmread\n",
    "import os"
   ]
  },
  {
   "cell_type": "code",
   "execution_count": 2,
   "id": "da7249ee",
   "metadata": {},
   "outputs": [
    {
     "data": {
      "text/plain": [
       "array(['CD14 Mono', 'CD16 Mono', 'CD4 Naive', 'CD4 TCM', 'CD8 Naive',\n",
       "       'CD8 TEM_1', 'CD8 TEM_2', 'Intermediate B', 'MAIT', 'Memory B',\n",
       "       'NK', 'Naive B', 'Treg', 'cDC', 'pDC'], dtype=object)"
      ]
     },
     "execution_count": 2,
     "metadata": {},
     "output_type": "execute_result"
    }
   ],
   "source": [
    "meta_rna = pd.read_csv('/atac_bench_nrz/10xpbmc/data/10x_pbmc_meta.csv')\n",
    "celltype_labels_rna = meta_rna['celltype'].to_numpy()\n",
    "np.unique(celltype_labels_rna)"
   ]
  },
  {
   "cell_type": "code",
   "execution_count": 3,
   "id": "1563b52c",
   "metadata": {},
   "outputs": [
    {
     "data": {
      "text/plain": [
       "(7790, 23146)"
      ]
     },
     "execution_count": 3,
     "metadata": {},
     "output_type": "execute_result"
    }
   ],
   "source": [
    "# read in the counts\n",
    "rna = mmread(\"/atac_bench_nrz/10xpbmc/data/10x_pbmc_rna.txt\").tocsr()\n",
    "rna.shape"
   ]
  },
  {
   "cell_type": "code",
   "execution_count": 4,
   "id": "cdd87ec9",
   "metadata": {},
   "outputs": [],
   "source": [
    "# read in the names\n",
    "rna_names = pd.read_csv(\n",
    "    '/atac_bench_nrz/10xpbmc/data/10x_pbmc_rna_names.csv'\n",
    ")['names'].to_numpy()"
   ]
  },
  {
   "cell_type": "code",
   "execution_count": 5,
   "id": "134dc175",
   "metadata": {},
   "outputs": [
    {
     "data": {
      "text/plain": [
       "(7790, 19891)"
      ]
     },
     "execution_count": 5,
     "metadata": {},
     "output_type": "execute_result"
    }
   ],
   "source": [
    "atacactivity=mmread(\"/atac_bench_nrz/10xpbmc/data/10x_pbmc_GAS.txt\").tocsr()\n",
    "atacactivity.shape"
   ]
  },
  {
   "cell_type": "code",
   "execution_count": 6,
   "id": "9f7e9571",
   "metadata": {},
   "outputs": [],
   "source": [
    "# activity names\n",
    "gas_names = pd.read_csv(\n",
    "    '/atac_bench_nrz/10xpbmc/data/10x_pbmc_GAS_names.csv'\n",
    ")['names'].to_numpy()"
   ]
  },
  {
   "cell_type": "code",
   "execution_count": 7,
   "id": "71482769",
   "metadata": {},
   "outputs": [
    {
     "data": {
      "text/plain": [
       "(7790, 49)"
      ]
     },
     "execution_count": 7,
     "metadata": {},
     "output_type": "execute_result"
    }
   ],
   "source": [
    "peak_lsi = pd.read_csv('/atac_bench_nrz/10xpbmc/data/10x_pbmc_LSI49.csv')\n",
    "peak_lsi = peak_lsi.drop('Unnamed: 0', axis=1)\n",
    "peak_lsi.shape"
   ]
  },
  {
   "cell_type": "code",
   "execution_count": 23,
   "id": "eb19f2e7",
   "metadata": {},
   "outputs": [
    {
     "data": {
      "text/plain": [
       "AnnData object with n_obs × n_vars = 7790 × 23146"
      ]
     },
     "execution_count": 23,
     "metadata": {},
     "output_type": "execute_result"
    }
   ],
   "source": [
    "## make rna anndata\n",
    "rna_adata = ad.AnnData(\n",
    "    rna.tocsr(), dtype=np.float32\n",
    ")\n",
    "rna_adata.var_names = rna_names\n",
    "rna_adata.obs_names = meta_rna['Unnamed: 0']\n",
    "rna_adata"
   ]
  },
  {
   "cell_type": "code",
   "execution_count": 24,
   "id": "ad4f2fe8",
   "metadata": {},
   "outputs": [
    {
     "data": {
      "text/plain": [
       "AnnData object with n_obs × n_vars = 7790 × 19891"
      ]
     },
     "execution_count": 24,
     "metadata": {},
     "output_type": "execute_result"
    }
   ],
   "source": [
    "## make GAS anndata\n",
    "activity_adata = ad.AnnData(atacactivity, dtype=np.float32)\n",
    "activity_adata.var_names = gas_names\n",
    "activity_adata"
   ]
  },
  {
   "cell_type": "code",
   "execution_count": 25,
   "id": "8ebc0ec4",
   "metadata": {},
   "outputs": [
    {
     "name": "stderr",
     "output_type": "stream",
     "text": [
      "/home/bkzhu/python/miniconda3/envs/super_mario_testing/lib/python3.8/site-packages/anndata/_core/anndata.py:121: ImplicitModificationWarning: Transforming to str index.\n",
      "  warnings.warn(\"Transforming to str index.\", ImplicitModificationWarning)\n"
     ]
    },
    {
     "data": {
      "text/plain": [
       "AnnData object with n_obs × n_vars = 7790 × 49"
      ]
     },
     "execution_count": 25,
     "metadata": {},
     "output_type": "execute_result"
    }
   ],
   "source": [
    "peak_adata=ad.AnnData(peak_lsi, dtype=np.float32)\n",
    "peak_adata"
   ]
  },
  {
   "cell_type": "code",
   "execution_count": 26,
   "id": "6792b15a",
   "metadata": {},
   "outputs": [
    {
     "data": {
      "text/plain": [
       "15051"
      ]
     },
     "execution_count": 26,
     "metadata": {},
     "output_type": "execute_result"
    }
   ],
   "source": [
    "shared_genes = np.intersect1d(rna_adata.var_names, activity_adata.var_names)\n",
    "len(np.intersect1d(rna_adata.var_names, activity_adata.var_names))"
   ]
  },
  {
   "cell_type": "code",
   "execution_count": 27,
   "id": "1d354a08",
   "metadata": {},
   "outputs": [],
   "source": [
    "rna_shared = rna_adata[:, shared_genes].X.todense()\n",
    "activity_shared = activity_adata[:, shared_genes].X.todense()\n",
    "\n",
    "mask = ((rna_shared.std(axis=0) > 0.01) & (activity_shared.std(axis=0) > 0.01)).A1 # filter out static ones\n",
    "rna_shared = rna_shared[:, mask]\n",
    "activity_shared = activity_shared[:, mask]"
   ]
  },
  {
   "cell_type": "code",
   "execution_count": 28,
   "id": "f7a41395",
   "metadata": {},
   "outputs": [],
   "source": [
    "# input as sct norm so norm can be skipped\n",
    "rna_shared = ad.AnnData(rna_shared)\n",
    "#sc.pp.normalize_total(rna_shared) # input data is already normalized\n",
    "#sc.pp.log1p(rna_shared)\n",
    "sc.pp.highly_variable_genes(rna_shared, n_top_genes = 3000)\n",
    "sc.pp.scale(rna_shared)\n",
    "#rna_shared = rna_shared.X\n",
    "\n",
    "## atac shared\n",
    "activity_shared = ad.AnnData(activity_shared)\n",
    "sc.pp.normalize_total(activity_shared)\n",
    "sc.pp.log1p(activity_shared)\n",
    "sc.pp.scale(activity_shared)\n",
    "#activity_shared = activity_shared.X"
   ]
  },
  {
   "cell_type": "code",
   "execution_count": 29,
   "id": "fb7c41b8",
   "metadata": {},
   "outputs": [],
   "source": [
    "vgenes = rna_shared.var.highly_variable"
   ]
  },
  {
   "cell_type": "code",
   "execution_count": 30,
   "id": "c7c857e1",
   "metadata": {},
   "outputs": [],
   "source": [
    "# shared features\n",
    "rnaC_shared = rna_shared[:,vgenes].X\n",
    "atac_shared = activity_shared[:,vgenes].X\n",
    "# all features\n",
    "rnaC_active = rna_shared[:,vgenes].X\n",
    "atac_active = peak_adata.X"
   ]
  },
  {
   "cell_type": "code",
   "execution_count": 31,
   "id": "747bd164",
   "metadata": {},
   "outputs": [],
   "source": [
    "spm = match.MaxFuse(\n",
    "        shared_arr1=rnaC_shared,\n",
    "        shared_arr2=atac_shared,\n",
    "        active_arr1=rnaC_active,\n",
    "        active_arr2=atac_active,\n",
    "        method='centroid_shrinkage',\n",
    "        labels1=None, # if None, then use scanpy clustering pipeline\n",
    "        labels2=None\n",
    "    )"
   ]
  },
  {
   "cell_type": "code",
   "execution_count": 32,
   "id": "77fa2903",
   "metadata": {},
   "outputs": [
    {
     "name": "stdout",
     "output_type": "stream",
     "text": [
      "The first data is split into 2 batches, average batch size is 3895, and max batch size is 3895.\n",
      "The second data is split into 1 batches, average batch size is 7790, and max batch size is 7790.\n",
      "Batch to batch correspondence is:\n",
      "  ['0<->0', '1<->0'].\n"
     ]
    }
   ],
   "source": [
    "spm.split_into_batches(\n",
    "        max_outward_size=5000,\n",
    "        matching_ratio=5,\n",
    "        metacell_size=2,\n",
    "        method='binning',\n",
    "        verbose=True,\n",
    "        seed=42\n",
    "    )"
   ]
  },
  {
   "cell_type": "code",
   "execution_count": 33,
   "id": "ced43b63",
   "metadata": {},
   "outputs": [
    {
     "data": {
      "text/plain": [
       "(<Figure size 432x288 with 1 Axes>,\n",
       " <matplotlib.axes._subplots.AxesSubplot at 0x7f56e112de50>)"
      ]
     },
     "execution_count": 33,
     "metadata": {},
     "output_type": "execute_result"
    },
    {
     "data": {
      "image/png": "[encoded data removed]",
      "text/plain": [
       "<Figure size 432x288 with 1 Axes>"
      ]
     },
     "metadata": {
      "needs_background": "light"
     },
     "output_type": "display_data"
    }
   ],
   "source": [
    "spm.plot_singular_values(\n",
    "    target='active_arr1',\n",
    "    batch=0,\n",
    "    n_components=None,\n",
    "    randomized_svd=False,  # @Shuxiao: Had to change this from True to False.  Doesn't work when true, why?\n",
    "    svd_runs=1\n",
    ")"
   ]
  },
  {
   "cell_type": "code",
   "execution_count": 34,
   "id": "93082c17",
   "metadata": {},
   "outputs": [
    {
     "data": {
      "text/plain": [
       "(<Figure size 432x288 with 1 Axes>,\n",
       " <matplotlib.axes._subplots.AxesSubplot at 0x7f5640b08e20>)"
      ]
     },
     "execution_count": 34,
     "metadata": {},
     "output_type": "execute_result"
    },
    {
     "data": {
      "image/png": "[encoded data removed]",
      "text/plain": [
       "<Figure size 432x288 with 1 Axes>"
      ]
     },
     "metadata": {
      "needs_background": "light"
     },
     "output_type": "display_data"
    }
   ],
   "source": [
    "spm.plot_singular_values(\n",
    "    target='active_arr2',\n",
    "    batch=0,\n",
    "    n_components=None,\n",
    "    randomized_svd=False,  # @Shuxiao: Had to change this from True to False.  Doesn't work when true, why?\n",
    "    svd_runs=1\n",
    ")"
   ]
  },
  {
   "cell_type": "code",
   "execution_count": 35,
   "id": "dd3b2fb3",
   "metadata": {},
   "outputs": [
    {
     "name": "stdout",
     "output_type": "stream",
     "text": [
      "Aggregating cells in arr1 into metacells of average size 2...\n",
      "Constructing neighborhood graphs for cells in arr1...\n",
      "Now at batch 0...\n",
      "Now at batch 1...\n",
      "Graph construction finished!\n",
      "Clustering into metacells...\n",
      "Now at batch 0...\n",
      "Metacell clustering finished!\n",
      "Now at batch 1...\n",
      "Metacell clustering finished!\n",
      "Constructing neighborhood graphs for cells in arr1...\n",
      "Now at batch 0...\n",
      "Now at batch 1...\n",
      "Graph construction finished!\n",
      "Clustering the graphs for cells in arr1...\n",
      "Now at batch 0...\n",
      "Now at batch 1...\n",
      "Graph clustering finished!\n",
      "Constructing neighborhood graphs for cells in arr2...\n",
      "Now at batch 0...\n",
      "Graph construction finished!\n",
      "Clustering the graphs for cells in arr2...\n",
      "Now at batch 0...\n",
      "Graph clustering finished!\n"
     ]
    }
   ],
   "source": [
    "spm.construct_graphs(\n",
    "    n_neighbors1=15,\n",
    "    n_neighbors2=15,\n",
    "    svd_components1=30,\n",
    "    svd_components2=15,\n",
    "    resolution1=2,\n",
    "    resolution2=2,\n",
    "    randomized_svd=False,  # @Shuxiao: Had to change this from True to False.  Doesn't work when true, why?\n",
    "    svd_runs=1,\n",
    "    resolution_tol=0.1,\n",
    "    leiden_runs=1,\n",
    "    leiden_seed=None,\n",
    "    verbose=True\n",
    ")"
   ]
  },
  {
   "cell_type": "code",
   "execution_count": 36,
   "id": "aa45e198",
   "metadata": {},
   "outputs": [
    {
     "name": "stdout",
     "output_type": "stream",
     "text": [
      "Now at batch 0<->0...\n",
      "Now at batch 1<->0...\n",
      "Done!\n"
     ]
    }
   ],
   "source": [
    "spm.find_initial_pivots(\n",
    "    wt1=0.7, wt2=0.7,\n",
    "    svd_components1=20, svd_components2=20,\n",
    "    randomized_svd=False, svd_runs=1,\n",
    "    verbose=True\n",
    ")"
   ]
  },
  {
   "cell_type": "code",
   "execution_count": 37,
   "id": "9881b3c7",
   "metadata": {},
   "outputs": [
    {
     "data": {
      "text/plain": [
       "0.903954802259887"
      ]
     },
     "execution_count": 37,
     "metadata": {},
     "output_type": "execute_result"
    }
   ],
   "source": [
    "# test accuracy of initial matching\n",
    "import utils, metrics\n",
    "matching = spm._init_matching[0]\n",
    "labels1 = utils.summarize_clustering(spm._metacell_labels1[0], celltype_labels_rna[spm._batch_to_indices1[0]])\n",
    "# labels1 = celltype_labels_rna[spm._batch_to_indices1[0]]\n",
    "labels2 = celltype_labels_rna[spm._batch_to_indices2[0]]\n",
    "metrics.get_matching_acc(matching, labels1, labels2)\n",
    "# repeat norm 3k --> 91.5\n",
    "# norep norm 3k --> 90.4"
   ]
  },
  {
   "cell_type": "code",
   "execution_count": 38,
   "id": "c054ed71",
   "metadata": {},
   "outputs": [
    {
     "name": "stdout",
     "output_type": "stream",
     "text": [
      "Now at batch 0<->0...\n",
      "Now at batch 1<->0...\n",
      "Done!\n"
     ]
    }
   ],
   "source": [
    "spm.refine_pivots(\n",
    "    wt1=0.7, wt2=0.7,\n",
    "    svd_components1=200, svd_components2=None,\n",
    "    cca_components=20,\n",
    "    filter_prop=0.,\n",
    "    n_iters=8,\n",
    "    randomized_svd=False, \n",
    "    svd_runs=1,\n",
    "    verbose=True\n",
    ")"
   ]
  },
  {
   "cell_type": "code",
   "execution_count": 39,
   "id": "221082bd",
   "metadata": {},
   "outputs": [
    {
     "data": {
      "text/plain": [
       "0.9440164355418593"
      ]
     },
     "execution_count": 39,
     "metadata": {},
     "output_type": "execute_result"
    }
   ],
   "source": [
    "# test accuracy of refined matching\n",
    "matching = spm._refined_matching[0]\n",
    "labels1 = utils.summarize_clustering(spm._metacell_labels1[0], celltype_labels_rna[spm._batch_to_indices1[0]])\n",
    "# labels1 = celltype_labels_rna[spm._batch_to_indices1[0]]\n",
    "labels2 = celltype_labels_rna[spm._batch_to_indices2[0]]\n",
    "metrics.get_matching_acc(matching, labels1, labels2)"
   ]
  },
  {
   "cell_type": "code",
   "execution_count": 40,
   "id": "472e79c8",
   "metadata": {},
   "outputs": [
    {
     "name": "stdout",
     "output_type": "stream",
     "text": [
      "Begin filtering...\n",
      "Now at batch 0<->0...\n",
      "Now at batch 1<->0...\n",
      "2336/3894 pairs of matched cells remain after the filtering.\n",
      "Fitting CCA on pivots...\n",
      "Scoring matched pairs...\n",
      "4671/7790 cells in arr1 are selected as pivots.\n",
      "1974/7790 cells in arr2 are selected as pivots.\n",
      "Done!\n"
     ]
    }
   ],
   "source": [
    "spm.filter_bad_matches(target='pivot', filter_prop=0.4, verbose=True)"
   ]
  },
  {
   "cell_type": "code",
   "execution_count": 50,
   "id": "a8f2f9c4",
   "metadata": {},
   "outputs": [
    {
     "name": "stdout",
     "output_type": "stream",
     "text": [
      "Now at batch 0<->0...\n",
      "Now at batch 1<->0...\n",
      "Done!\n"
     ]
    }
   ],
   "source": [
    "spm.propagate(\n",
    "    wt1=0.7,\n",
    "    wt2=0.7,\n",
    "    svd_components1=30, \n",
    "    svd_components2=None, \n",
    "    randomized_svd=False, \n",
    "    svd_runs=1, \n",
    "    verbose=True\n",
    ")"
   ]
  },
  {
   "cell_type": "code",
   "execution_count": 51,
   "id": "c10e942b",
   "metadata": {},
   "outputs": [
    {
     "name": "stdout",
     "output_type": "stream",
     "text": [
      "Begin filtering...\n",
      "Now at batch 0<->0...\n",
      "Now at batch 1<->0...\n",
      "14802/14802 pairs of matched cells remain after the filtering.\n",
      "Scoring matched pairs...\n",
      "Done!\n"
     ]
    }
   ],
   "source": [
    "spm.filter_bad_matches(\n",
    "        target='propagated',\n",
    "        filter_prop=0.,\n",
    "        verbose=True\n",
    "    )"
   ]
  },
  {
   "cell_type": "code",
   "execution_count": 52,
   "id": "debc37aa",
   "metadata": {},
   "outputs": [
    {
     "data": {
      "text/plain": [
       "0.9215661103979461"
      ]
     },
     "execution_count": 52,
     "metadata": {},
     "output_type": "execute_result"
    }
   ],
   "source": [
    "matching = spm.get_matching(order=(2, 1), target='full_data')\n",
    "metrics.get_matching_acc(matching, celltype_labels_rna, celltype_labels_rna, order=(2, 1))\n",
    "# rep3k -> 92.77"
   ]
  },
  {
   "cell_type": "code",
   "execution_count": 53,
   "id": "59567d82",
   "metadata": {},
   "outputs": [],
   "source": [
    "full = pd.DataFrame(list(zip(matching[0],matching[1],matching[2])), columns = [\"idx1\",\"idx2\",\"score\"])\n",
    "full.to_csv(\"/atac_bench_nrz/10xpbmc/mf/full_idx_21.csv\", index=False)"
   ]
  },
  {
   "cell_type": "code",
   "execution_count": 54,
   "id": "615b37d0",
   "metadata": {},
   "outputs": [],
   "source": [
    "arr1_cca, arr2_cca = spm.get_embedding(\n",
    "        active_arr1 = spm.active_arr1,\n",
    "        active_arr2 = spm.active_arr2,\n",
    "        refit=False,\n",
    "        matching=None,\n",
    "        order=None,\n",
    "        cca_components=20,\n",
    "        cca_max_iter=None\n",
    "    )"
   ]
  },
  {
   "cell_type": "code",
   "execution_count": 55,
   "id": "09e6bfbf",
   "metadata": {},
   "outputs": [],
   "source": [
    "out_idx = 20 # used 15 in downstream analysis\n",
    "arr1_df = pd.DataFrame(arr1_cca).iloc[:,0:out_idx]\n",
    "arr2_df = pd.DataFrame(arr2_cca).iloc[:,0:out_idx]\n",
    "arr1_df.to_csv(\"/atac_bench_nrz/10xpbmc/mf/full_embed_x0.csv\",index=False)\n",
    "arr2_df.to_csv(\"/atac_bench_nrz/10xpbmc/mf/full_embed_y0.csv\", index=False)"
   ]
  }
 ],
 "metadata": {
  "kernelspec": {
   "display_name": "Python 3 (ipykernel)",
   "language": "python",
   "name": "python3"
  },
  "language_info": {
   "codemirror_mode": {
    "name": "ipython",
    "version": 3
   },
   "file_extension": ".py",
   "mimetype": "text/x-python",
   "name": "python",
   "nbconvert_exporter": "python",
   "pygments_lexer": "ipython3",
   "version": "3.8.12"
  }
 },
 "nbformat": 4,
 "nbformat_minor": 5
}
