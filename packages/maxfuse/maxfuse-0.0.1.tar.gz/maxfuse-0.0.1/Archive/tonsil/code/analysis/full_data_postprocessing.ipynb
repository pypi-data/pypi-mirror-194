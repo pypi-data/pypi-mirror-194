{
 "cells": [
  {
   "cell_type": "markdown",
   "id": "d3df907b",
   "metadata": {},
   "source": [
    "## Script related to processing for full data result"
   ]
  },
  {
   "cell_type": "markdown",
   "id": "654921a2",
   "metadata": {},
   "source": [
    "this script need to solve two things:\n",
    "\n",
    "1. to have a fair comparison to MaxFuse, the full dataset final filtering should be in the same level. To do this, we will filter out low-quality matches produced by other methods based on the distance in their respective embedded space. Cell pairs with larger distance (1 - pearson correlation) will be filtered out.\n",
    "2. on top of that, since bindsc can not handle the full data size, we splitted the run into two. we need to combine them.\n",
    "3. after all this, we will do umap calculation in python, because it is just faster here compared to done in R lol."
   ]
  },
  {
   "cell_type": "code",
   "execution_count": 7,
   "id": "782b31d2",
   "metadata": {},
   "outputs": [],
   "source": [
    "import numpy as np\n",
    "import pandas as pd\n",
    "import matplotlib.pyplot as plt\n",
    "from sklearn.metrics import confusion_matrix, ConfusionMatrixDisplay\n",
    "import sys\n",
    "sys.path.append(\"./\")\n",
    "import metrics\n",
    "import utils"
   ]
  },
  {
   "cell_type": "markdown",
   "id": "93d3ebb3",
   "metadata": {},
   "source": [
    "## filter seurat results"
   ]
  },
  {
   "cell_type": "code",
   "execution_count": 8,
   "id": "05df5fb7",
   "metadata": {},
   "outputs": [],
   "source": [
    "root_dir = '/tonsil_v2/match/match_output/full/sr/'\n",
    "\n",
    "srx = pd.read_csv(root_dir + \"full_embed_x0.csv\")\n",
    "sry = pd.read_csv(root_dir + \"full_embed_y0.csv\")\n",
    "sr_dist = utils.cdist_correlation(sry.to_numpy(), srx.to_numpy())\n",
    "sr_full_match, sr_scores = metrics.get_knn_matching(sr_dist)\n",
    "srmatch = [np.arange(sry.shape[0]),sr_full_match,sr_scores]\n",
    "df_dict = {'id1':srmatch[0], 'id2':srmatch[1], 'score':srmatch[2]}\n",
    "df = pd.DataFrame.from_dict(df_dict)\n",
    "\n",
    "# save\n",
    "#df.to_csv(\"/tonsil_v2/match/match_output/full/sr/sr_match_id_y2x.csv\")\n",
    "# filter\n",
    "df_03 = df.loc[df['score'] >= df.score.quantile(0.3),:]\n",
    "# save\n",
    "#df_03.to_csv(\"/tonsil_v2/match/match_output/full/sr/sr_match_id_y2x_filt03.csv\")"
   ]
  },
  {
   "cell_type": "markdown",
   "id": "a9d6ba5f",
   "metadata": {},
   "source": [
    "### filter harmony results"
   ]
  },
  {
   "cell_type": "code",
   "execution_count": 1,
   "id": "5a5db7fe",
   "metadata": {},
   "outputs": [],
   "source": [
    "root_dir = '/tonsil_v2/match/match_output/full/hm/'\n",
    "\n",
    "hmx = pd.read_csv(root_dir + \"full_embed_x0.csv\")\n",
    "hmy = pd.read_csv(root_dir + \"full_embed_y0.csv\")\n",
    "hm_dist = utils.cdist_correlation(hmy.to_numpy(), hmx.to_numpy())\n",
    "hm_full_match, hm_scores = metrics.get_knn_matching(hm_dist)\n",
    "hmmatch = [np.arange(hmy.shape[0]),hm_full_match,hm_scores]\n",
    "df_dict = {'id1':hmmatch[0], 'id2':hmmatch[1], 'score':hmmatch[2]}\n",
    "df = pd.DataFrame.from_dict(df_dict)\n",
    "\n",
    "# save\n",
    "#df.to_csv(\"/tonsil_v2/match/match_output/full/hm/hm_match_id_y2x.csv\")\n",
    "# filter\n",
    "df_03 = df.loc[df['score'] >= df.score.quantile(0.3),:]\n",
    "# save\n",
    "#df_03.to_csv(\"/tonsil_v2/match/match_output/full/hm/hm_match_id_y2x_filt03.csv\")"
   ]
  },
  {
   "cell_type": "markdown",
   "id": "52c6d713",
   "metadata": {},
   "source": [
    "### filter liger results"
   ]
  },
  {
   "cell_type": "code",
   "execution_count": null,
   "id": "c84caa07",
   "metadata": {},
   "outputs": [],
   "source": [
    "root_dir = '/tonsil_v2/match/match_output/full/lg/'\n",
    "\n",
    "lgx = pd.read_csv(root_dir + \"full_embed_x0.csv\")\n",
    "lgy = pd.read_csv(root_dir + \"full_embed_y0.csv\")\n",
    "lg_dist = utils.cdist_correlation(lgy.to_numpy(), lgx.to_numpy())\n",
    "lg_full_match, lg_scores = metrics.get_knn_matching(lg_dist)\n",
    "lgmatch = [np.arange(lgy.shape[0]),lg_full_match,lg_scores]\n",
    "df_dict = {'id1':lgmatch[0], 'id2':lgmatch[1], 'score':lgmatch[2]}\n",
    "df = pd.DataFrame.from_dict(df_dict)\n",
    "\n",
    "# save\n",
    "#df.to_csv(\"/tonsil_v2/match/match_output/full/lg/lg_match_id_y2x.csv\")\n",
    "# filter\n",
    "df_03 = df.loc[df['score'] >= df.score.quantile(0.3),:]\n",
    "# save\n",
    "#df_03.to_csv(\"/tonsil_v2/match/match_output/full/lg/lg_match_id_y2x_filt03.csv\")"
   ]
  },
  {
   "cell_type": "markdown",
   "id": "c488ef99",
   "metadata": {},
   "source": [
    "since bindsc can not run on the full size dataset so we split into two runs.\n",
    "\n",
    "now we can combine them back."
   ]
  },
  {
   "cell_type": "markdown",
   "id": "c20a5757",
   "metadata": {},
   "source": [
    "### filter bindsc results"
   ]
  },
  {
   "cell_type": "code",
   "execution_count": 2,
   "id": "0b62af96",
   "metadata": {},
   "outputs": [],
   "source": [
    "root_dir = '/tonsil_v2/match/match_output/'\n",
    "\n",
    "bscx = pd.read_csv(root_dir+\"BSC_full_embed_x0_finV_p1.csv\")\n",
    "bscy = pd.read_csv(root_dir+\"BSC_full_embed_y0_finV_p1.csv\")\n",
    "bsc_dist = utils.cdist_correlation(bscy.to_numpy(), bscx.to_numpy())\n",
    "bsc_full_match, bsc_scores = metrics.get_knn_matching(bsc_dist)\n",
    "bscmatch = [np.arange(bscy.shape[0]),bsc_full_match,bsc_scores]"
   ]
  },
  {
   "cell_type": "code",
   "execution_count": 3,
   "id": "99b604de",
   "metadata": {},
   "outputs": [],
   "source": [
    "df_dict = {'id1':bscmatch[0], 'id2':bscmatch[1], 'score':bscmatch[2]}\n",
    "df = pd.DataFrame.from_dict(df_dict)\n",
    "df1 = df # part 1"
   ]
  },
  {
   "cell_type": "code",
   "execution_count": 5,
   "id": "c13bd70e",
   "metadata": {},
   "outputs": [
    {
     "data": {
      "text/html": [
       "<div>\n",
       "<style scoped>\n",
       "    .dataframe tbody tr th:only-of-type {\n",
       "        vertical-align: middle;\n",
       "    }\n",
       "\n",
       "    .dataframe tbody tr th {\n",
       "        vertical-align: top;\n",
       "    }\n",
       "\n",
       "    .dataframe thead th {\n",
       "        text-align: right;\n",
       "    }\n",
       "</style>\n",
       "<table border=\"1\" class=\"dataframe\">\n",
       "  <thead>\n",
       "    <tr style=\"text-align: right;\">\n",
       "      <th></th>\n",
       "      <th>id1</th>\n",
       "      <th>id2</th>\n",
       "      <th>score</th>\n",
       "    </tr>\n",
       "  </thead>\n",
       "  <tbody>\n",
       "    <tr>\n",
       "      <th>0</th>\n",
       "      <td>89459</td>\n",
       "      <td>422</td>\n",
       "      <td>0.877280</td>\n",
       "    </tr>\n",
       "    <tr>\n",
       "      <th>1</th>\n",
       "      <td>89460</td>\n",
       "      <td>4825</td>\n",
       "      <td>0.930938</td>\n",
       "    </tr>\n",
       "    <tr>\n",
       "      <th>2</th>\n",
       "      <td>89461</td>\n",
       "      <td>8038</td>\n",
       "      <td>0.918204</td>\n",
       "    </tr>\n",
       "    <tr>\n",
       "      <th>3</th>\n",
       "      <td>89462</td>\n",
       "      <td>12370</td>\n",
       "      <td>0.946005</td>\n",
       "    </tr>\n",
       "    <tr>\n",
       "      <th>4</th>\n",
       "      <td>89463</td>\n",
       "      <td>9592</td>\n",
       "      <td>0.931810</td>\n",
       "    </tr>\n",
       "    <tr>\n",
       "      <th>...</th>\n",
       "      <td>...</td>\n",
       "      <td>...</td>\n",
       "      <td>...</td>\n",
       "    </tr>\n",
       "    <tr>\n",
       "      <th>89455</th>\n",
       "      <td>178914</td>\n",
       "      <td>383</td>\n",
       "      <td>0.951695</td>\n",
       "    </tr>\n",
       "    <tr>\n",
       "      <th>89456</th>\n",
       "      <td>178915</td>\n",
       "      <td>10942</td>\n",
       "      <td>0.916880</td>\n",
       "    </tr>\n",
       "    <tr>\n",
       "      <th>89457</th>\n",
       "      <td>178916</td>\n",
       "      <td>181</td>\n",
       "      <td>0.795550</td>\n",
       "    </tr>\n",
       "    <tr>\n",
       "      <th>89458</th>\n",
       "      <td>178917</td>\n",
       "      <td>12959</td>\n",
       "      <td>0.927544</td>\n",
       "    </tr>\n",
       "    <tr>\n",
       "      <th>89459</th>\n",
       "      <td>178918</td>\n",
       "      <td>6519</td>\n",
       "      <td>0.916610</td>\n",
       "    </tr>\n",
       "  </tbody>\n",
       "</table>\n",
       "<p>89460 rows × 3 columns</p>\n",
       "</div>"
      ],
      "text/plain": [
       "          id1    id2     score\n",
       "0       89459    422  0.877280\n",
       "1       89460   4825  0.930938\n",
       "2       89461   8038  0.918204\n",
       "3       89462  12370  0.946005\n",
       "4       89463   9592  0.931810\n",
       "...       ...    ...       ...\n",
       "89455  178914    383  0.951695\n",
       "89456  178915  10942  0.916880\n",
       "89457  178916    181  0.795550\n",
       "89458  178917  12959  0.927544\n",
       "89459  178918   6519  0.916610\n",
       "\n",
       "[89460 rows x 3 columns]"
      ]
     },
     "execution_count": 5,
     "metadata": {},
     "output_type": "execute_result"
    }
   ],
   "source": [
    "# part 2\n",
    "root_dir = '/tonsil_v2/match/match_output/'\n",
    "\n",
    "bscx = pd.read_csv(root_dir+\"BSC_full_embed_x0_finV_p2.csv\")\n",
    "bscy = pd.read_csv(root_dir+\"BSC_full_embed_y0_finV_p2.csv\")\n",
    "bsc_dist = utils.cdist_correlation(bscy.to_numpy(), bscx.to_numpy())\n",
    "bsc_full_match, bsc_scores = metrics.get_knn_matching(bsc_dist)\n",
    "bscmatch = [np.arange(bscy.shape[0]),bsc_full_match,bsc_scores]\n",
    "df_dict = {'id1':bscmatch[0], 'id2':bscmatch[1], 'score':bscmatch[2]}\n",
    "df = pd.DataFrame.from_dict(df_dict)\n",
    "\n",
    "# add index 89459 length of part 1\n",
    "df['id1'] = df['id1'] + 89459\n",
    "df"
   ]
  },
  {
   "cell_type": "markdown",
   "id": "4596f373",
   "metadata": {},
   "source": [
    "### combine result from part 1 and part 2"
   ]
  },
  {
   "cell_type": "code",
   "execution_count": null,
   "id": "e37fd964",
   "metadata": {},
   "outputs": [],
   "source": [
    "df_all = pd.concat([df, df2])\n",
    "# save\n",
    "#df_all.to_csv(\"/tonsil_v2/match/match_output/bsc_match_id_y2x_p1p2.csv\")\n",
    "# filter\n",
    "df_all_03 = df_all.loc[df_all['score'] >= df_all.score.quantile(0.3),:]\n",
    "# save\n",
    "#df_all_03.to_csv(\"/tonsil_v2/match/match_output/bsc_match_id_y2x_p1p2_filt03.csv\")"
   ]
  },
  {
   "cell_type": "markdown",
   "id": "04372db6",
   "metadata": {},
   "source": [
    "## Then with the matching produced, we can calculate the accuracy and confu matrix"
   ]
  },
  {
   "cell_type": "code",
   "execution_count": 9,
   "id": "4ea851e4",
   "metadata": {},
   "outputs": [],
   "source": [
    "## retreive matching information\n",
    "df_all_03 = pd.read_csv('/tonsil_v2/match/match_output/full/lg/lg_match_id_y2x_filt03.csv')\n",
    "lgmatch = [df_all_03.loc[:,'id2'].to_list(), df_all_03.loc[:,'id1'].to_list(), df_all_03.loc[:,'score'].to_list()]\n",
    "df_all_03 = pd.read_csv('/tonsil_v2/match/match_output/full/sr/sr_match_id_y2x_filt03.csv')\n",
    "srmatch = [df_all_03.loc[:,'id2'].to_list(), df_all_03.loc[:,'id1'].to_list(), df_all_03.loc[:,'score'].to_list()]\n",
    "df_all_03 = pd.read_csv('/tonsil_v2/match/match_output/full/hm/hm_match_id_y2x_filt03.csv')\n",
    "hmmatch = [df_all_03.loc[:,'id2'].to_list(), df_all_03.loc[:,'id1'].to_list(), df_all_03.loc[:,'score'].to_list()]\n",
    "df_all_03 = pd.read_csv('/tonsil_v2/match/match_output/bsc_match_id_y2x_p1p2_filt03.csv')\n",
    "bscmatch = [df_all_03.loc[:,'id2'].to_list(), df_all_03.loc[:,'id1'].to_list(), df_all_03.loc[:,'score'].to_list()]\n",
    "df_all_03 = pd.read_csv('/tonsil_v2/match/match_output/full/mf/fullID_SV.csv')\n",
    "mfmatch = [df_all_03.loc[:,'idx1'].to_list(), df_all_03.loc[:,'idx2'].to_list(), df_all_03.loc[:,'score'].to_list()]\n",
    "## \n",
    "meta_pro = pd.read_csv(\"/tonsil_v2/Codex/FCS_output_DeepCell_extOnly/formatch_clusters_x28_y715_wstepV2.csv\")\n",
    "meta_rna = pd.read_csv(\"/tonsil_v2/RNA/tonsil_rna_0510_meta.csv\")"
   ]
  },
  {
   "cell_type": "code",
   "execution_count": 10,
   "id": "c1cd89af",
   "metadata": {},
   "outputs": [],
   "source": [
    "# for liger specifically as some a couple cells got filtered\n",
    "lgx_fid = pd.read_csv(\"/tonsil_v2/match/match_output/full/lg/d1_id.csv\")\n",
    "lgy_fid = pd.read_csv(\"/tonsil_v2/match/match_output/full/lg/d2_id.csv\")\n",
    "\n",
    "meta_rna_lg = meta_rna.drop(index = lgx_fid['id']-1, axis=0)\n",
    "meta_pro_lg = meta_pro.drop(index = lgy_fid['id']-1, axis=0)"
   ]
  },
  {
   "cell_type": "code",
   "execution_count": 11,
   "id": "2a5c2e31",
   "metadata": {},
   "outputs": [
    {
     "data": {
      "text/plain": [
       "[0.9325841843513913,\n",
       " 0.4068730388125484,\n",
       " 0.5289448889314745,\n",
       " 0.475483659765416,\n",
       " 0.6611946376244581]"
      ]
     },
     "execution_count": 11,
     "metadata": {},
     "output_type": "execute_result"
    }
   ],
   "source": [
    "ann_listlv1 = []\n",
    "ann_listlv2 = []\n",
    "\n",
    "rnalabel = meta_rna['cluster.info'].to_numpy()\n",
    "prolabel = meta_pro['cluster.term'].to_numpy()\n",
    "\n",
    "rnalabel_lg = meta_rna_lg['cluster.info'].to_numpy()\n",
    "prolabel_lg = meta_pro_lg['cluster.term'].to_numpy()\n",
    "\n",
    "order = (2, 1)\n",
    "acc_ann_hm = metrics.get_matching_acc(\n",
    "        matching=hmmatch, \n",
    "        labels1=rnalabel, \n",
    "        labels2=prolabel,\n",
    "        order = order\n",
    "    )\n",
    "\n",
    "acc_ann_lg = metrics.get_matching_acc(\n",
    "        matching=lgmatch, \n",
    "        labels1=rnalabel_lg, \n",
    "        labels2=prolabel_lg,\n",
    "        order = order\n",
    "    )\n",
    "\n",
    "acc_ann_sr = metrics.get_matching_acc(\n",
    "        matching=srmatch, \n",
    "        labels1=rnalabel, \n",
    "        labels2=prolabel,\n",
    "        order = order\n",
    "    )\n",
    "\n",
    "acc_ann_mf = metrics.get_matching_acc(\n",
    "        matching=mfmatch, \n",
    "        labels1=rnalabel, \n",
    "        labels2=prolabel,\n",
    "        order = order\n",
    "    )\n",
    "\n",
    "acc_ann_bsc = metrics.get_matching_acc(\n",
    "        matching=bscmatch, \n",
    "        labels1=rnalabel, \n",
    "        labels2=prolabel,\n",
    "        order = order\n",
    "    )\n",
    "ann_listlv1.extend([acc_ann_mf, acc_ann_sr, acc_ann_lg, acc_ann_hm, acc_ann_bsc])\n",
    "ann_listlv1"
   ]
  },
  {
   "cell_type": "markdown",
   "id": "6424db0f",
   "metadata": {},
   "source": [
    "### then we can make the CM plots"
   ]
  },
  {
   "cell_type": "markdown",
   "id": "b849bd53",
   "metadata": {},
   "source": [
    "### liger"
   ]
  },
  {
   "cell_type": "code",
   "execution_count": 12,
   "id": "a10a6b02",
   "metadata": {},
   "outputs": [
    {
     "data": {
      "image/png": "[encoded data removed]",
      "text/plain": [
       "<Figure size 360x360 with 2 Axes>"
      ]
     },
     "metadata": {
      "needs_background": "light"
     },
     "output_type": "display_data"
    }
   ],
   "source": [
    "plt.rcParams[\"figure.figsize\"] = (5,5)\n",
    "cm = confusion_matrix(rnalabel_lg[lgmatch[0]], prolabel_lg[lgmatch[1]])\n",
    "disp = ConfusionMatrixDisplay(\n",
    "    confusion_matrix=np.round((cm.T/np.sum(cm, axis=1)).T*100), \n",
    "    display_labels=np.unique(rnalabel)\n",
    ")\n",
    "disp.plot()\n",
    "disp.ax_.get_images()[0].set_clim(0, 100)\n",
    "#plt.savefig('/tonsil_v2/plots/cm_lg_vani.svg')"
   ]
  },
  {
   "cell_type": "markdown",
   "id": "3c4554ce",
   "metadata": {},
   "source": [
    "### harmony"
   ]
  },
  {
   "cell_type": "code",
   "execution_count": 14,
   "id": "c7147390",
   "metadata": {
    "scrolled": true
   },
   "outputs": [
    {
     "data": {
      "image/png": "[encoded data removed]",
      "text/plain": [
       "<Figure size 360x360 with 2 Axes>"
      ]
     },
     "metadata": {
      "needs_background": "light"
     },
     "output_type": "display_data"
    }
   ],
   "source": [
    "plt.rcParams[\"figure.figsize\"] = (5,5)\n",
    "cm = confusion_matrix(rnalabel[hmmatch[0]], prolabel[hmmatch[1]])\n",
    "disp = ConfusionMatrixDisplay(\n",
    "    confusion_matrix=np.round((cm.T/np.sum(cm, axis=1)).T*100), \n",
    "    display_labels=np.unique(rnalabel)\n",
    ")\n",
    "disp.plot()\n",
    "disp.ax_.get_images()[0].set_clim(0, 100)\n",
    "#plt.savefig('/tonsil_v2/plots/cm_hm.svg')"
   ]
  },
  {
   "cell_type": "markdown",
   "id": "2a811484",
   "metadata": {},
   "source": [
    "### seurat"
   ]
  },
  {
   "cell_type": "code",
   "execution_count": 15,
   "id": "e7cc2325",
   "metadata": {},
   "outputs": [
    {
     "data": {
      "image/png": "[encoded data removed]",
      "text/plain": [
       "<Figure size 360x360 with 2 Axes>"
      ]
     },
     "metadata": {
      "needs_background": "light"
     },
     "output_type": "display_data"
    }
   ],
   "source": [
    "plt.rcParams[\"figure.figsize\"] = (5,5)\n",
    "cm = confusion_matrix(rnalabel[srmatch[0]], prolabel[srmatch[1]])\n",
    "disp = ConfusionMatrixDisplay(\n",
    "    confusion_matrix=np.round((cm.T/np.sum(cm, axis=1)).T*100), \n",
    "    display_labels=np.unique(rnalabel)\n",
    ")\n",
    "disp.plot()\n",
    "disp.ax_.get_images()[0].set_clim(0, 100)\n",
    "#plt.savefig('/tonsil_v2/plots/cm_sr.svg')"
   ]
  },
  {
   "cell_type": "markdown",
   "id": "d08e5096",
   "metadata": {},
   "source": [
    "### bindsc"
   ]
  },
  {
   "cell_type": "code",
   "execution_count": 16,
   "id": "7d0d2ed3",
   "metadata": {},
   "outputs": [
    {
     "data": {
      "image/png": "[encoded data removed]",
      "text/plain": [
       "<Figure size 360x360 with 2 Axes>"
      ]
     },
     "metadata": {
      "needs_background": "light"
     },
     "output_type": "display_data"
    }
   ],
   "source": [
    "plt.rcParams[\"figure.figsize\"] = (5,5)\n",
    "cm = confusion_matrix(rnalabel[bscmatch[0]], prolabel[bscmatch[1]],)\n",
    "disp = ConfusionMatrixDisplay(\n",
    "    confusion_matrix=np.round((cm.T/np.sum(cm, axis=1)).T*100), \n",
    "    display_labels=np.unique(rnalabel)\n",
    ")\n",
    "disp.plot()\n",
    "disp.ax_.get_images()[0].set_clim(0, 100)\n",
    "#plt.savefig('/tonsil_v2/plots/cm_bsc.svg')"
   ]
  },
  {
   "cell_type": "markdown",
   "id": "bd0223f8",
   "metadata": {},
   "source": [
    "### maxfuse"
   ]
  },
  {
   "cell_type": "code",
   "execution_count": 17,
   "id": "60fd1770",
   "metadata": {},
   "outputs": [
    {
     "data": {
      "image/png": "[encoded data removed]",
      "text/plain": [
       "<Figure size 360x360 with 2 Axes>"
      ]
     },
     "metadata": {
      "needs_background": "light"
     },
     "output_type": "display_data"
    }
   ],
   "source": [
    "plt.rcParams[\"figure.figsize\"] = (5,5)\n",
    "cm = confusion_matrix(rnalabel[mfmatch[0]], prolabel[mfmatch[1]])\n",
    "disp = ConfusionMatrixDisplay(\n",
    "    confusion_matrix=np.round((cm.T/np.sum(cm, axis=1)).T*100), \n",
    "    display_labels=np.unique(rnalabel)\n",
    ")\n",
    "disp.plot()\n",
    "disp.ax_.get_images()[0].set_clim(0, 100)\n",
    "#plt.savefig('/tonsil_v2/plots/cm_mf.svg')"
   ]
  },
  {
   "cell_type": "markdown",
   "id": "f93c644b",
   "metadata": {},
   "source": [
    "## UMAP calculation (nothing interesting)"
   ]
  },
  {
   "cell_type": "markdown",
   "id": "7295a86a",
   "metadata": {},
   "source": [
    "### Bindsc"
   ]
  },
  {
   "cell_type": "code",
   "execution_count": null,
   "id": "79c18174",
   "metadata": {},
   "outputs": [],
   "source": [
    "import umap\n",
    "\n",
    "## bsc\n",
    "root_dir = '/tonsil_v2/match/match_output/'\n",
    "\n",
    "bscx1 = pd.read_csv(root_dir+\"BSC_full_embed_x0_finV_p1.csv\")\n",
    "bscy1 = pd.read_csv(root_dir+\"BSC_full_embed_y0_finV_p1.csv\") # these are the same RNA cells, so dont need to reuse for viz\n",
    "bscx2 = pd.read_csv(root_dir+\"BSC_full_embed_x0_finV_p2.csv\")\n",
    "bscy2 = pd.read_csv(root_dir+\"BSC_full_embed_y0_finV_p2.csv\")\n",
    "#bscx12 = pd.concat([bscx1, bscx2])\n",
    "bscy12 = pd.concat([bscy1, bscy2])\n",
    "\n",
    "df_all_03 = pd.read_csv('/tonsil_v2/match/match_output/bsc_match_id_y2x_p1p2_filt03.csv')\n",
    "#df_all_03\n",
    "bscy12filt = bscy12.iloc[df_all_03['id1'].tolist(),:] # filter cdx cells\n",
    "\n",
    "reducer = umap.UMAP()\n",
    "embedding = reducer.fit_transform(np.vstack([bscx1, bscy12filt]))\n",
    "ebddf = pd.DataFrame(embedding, columns = ['umap1', 'umap2'])\n",
    "ebddf.to_csv(\"/tonsil_v2/match/match_output/full/bsc_inpg/umap.csv\")"
   ]
  },
  {
   "cell_type": "markdown",
   "id": "65397fb1",
   "metadata": {},
   "source": [
    "### seurat"
   ]
  },
  {
   "cell_type": "code",
   "execution_count": null,
   "id": "c5d6e552",
   "metadata": {},
   "outputs": [],
   "source": [
    "# add seurat\n",
    "root_dir = '/tonsil_v2/match/match_output/full/sr/'\n",
    "srx = pd.read_csv(root_dir + \"full_embed_x0.csv\")\n",
    "sry = pd.read_csv(root_dir + \"full_embed_y0.csv\")\n",
    "df_all_03 = pd.read_csv('/tonsil_v2/match/match_output/full/sr/sr_match_id_y2x_filt03.csv')\n",
    "sryfilt = sry.iloc[df_all_03['id1'].tolist(),:]\n",
    "#srxfilt = srx.iloc[np.unique(df_all_03['id2']).tolist(),:]\n",
    "print([sryfilt.shape, srx.shape])\n",
    "reducer = umap.UMAP()\n",
    "embedding = reducer.fit_transform(np.vstack([srx, sryfilt]))\n",
    "ebddf = pd.DataFrame(embedding, columns = ['umap1', 'umap2'])\n",
    "ebddf.to_csv(\"/tonsil_v2/match/match_output/full/sr/umap.csv\")"
   ]
  },
  {
   "cell_type": "markdown",
   "id": "e0b36e71",
   "metadata": {},
   "source": [
    "### harmony"
   ]
  },
  {
   "cell_type": "code",
   "execution_count": null,
   "id": "64d9f9af",
   "metadata": {},
   "outputs": [],
   "source": [
    "# for harmony\n",
    "root_dir = '/tonsil_v2/match/match_output/full/hm/'\n",
    "hmx = pd.read_csv(root_dir + \"full_embed_x0.csv\")\n",
    "hmy = pd.read_csv(root_dir + \"full_embed_y0.csv\")\n",
    "df_all_03 = pd.read_csv('/tonsil_v2/match/match_output/full/hm/hm_match_id_y2x_filt03.csv')\n",
    "hmyfilt = hmy.iloc[df_all_03['id1'].tolist(),:]\n",
    "#hmxfilt = hmx.iloc[np.unique(df_all_03['id2']).tolist(),:]\n",
    "print([hmyfilt.shape, hmx.shape])\n",
    "reducer = umap.UMAP()\n",
    "embedding = reducer.fit_transform(np.vstack([hmx, hmyfilt]))\n",
    "ebddf = pd.DataFrame(embedding, columns = ['umap1', 'umap2'])\n",
    "ebddf.to_csv(\"/tonsil_v2/match/match_output/full/hm/umap.csv\")"
   ]
  },
  {
   "cell_type": "markdown",
   "id": "f23559e2",
   "metadata": {},
   "source": [
    "### liger"
   ]
  },
  {
   "cell_type": "code",
   "execution_count": null,
   "id": "0d7b9825",
   "metadata": {},
   "outputs": [],
   "source": [
    "# for harmony\n",
    "root_dir = '/tonsil_v2/match/match_output/full/lg/'\n",
    "lgx = pd.read_csv(root_dir + \"full_embed_x0.csv\")\n",
    "lgy = pd.read_csv(root_dir + \"full_embed_y0.csv\")\n",
    "df_all_03 = pd.read_csv('/tonsil_v2/match/match_output/full/lg/lg_match_id_y2x_filt03.csv')\n",
    "lgyfilt = lgy.iloc[df_all_03['id1'].tolist(),:]\n",
    "#hmxfilt = hmx.iloc[np.unique(df_all_03['id2']).tolist(),:]\n",
    "print([lgyfilt.shape, lgx.shape])\n",
    "reducer = umap.UMAP()\n",
    "embedding = reducer.fit_transform(np.vstack([lgx, lgyfilt]))\n",
    "ebddf = pd.DataFrame(embedding, columns = ['umap1', 'umap2'])\n",
    "ebddf.to_csv(\"/tonsil_v2/match/match_output/full/lg/umap.csv\")"
   ]
  }
 ],
 "metadata": {
  "kernelspec": {
   "display_name": "Python 3 (ipykernel)",
   "language": "python",
   "name": "python3"
  },
  "language_info": {
   "codemirror_mode": {
    "name": "ipython",
    "version": 3
   },
   "file_extension": ".py",
   "mimetype": "text/x-python",
   "name": "python",
   "nbconvert_exporter": "python",
   "pygments_lexer": "ipython3",
   "version": "3.8.12"
  }
 },
 "nbformat": 4,
 "nbformat_minor": 5
}
