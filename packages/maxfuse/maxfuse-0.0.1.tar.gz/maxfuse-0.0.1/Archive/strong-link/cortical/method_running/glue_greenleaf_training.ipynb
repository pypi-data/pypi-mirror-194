{
 "cells": [
  {
   "cell_type": "code",
   "execution_count": 1,
   "id": "b19a21f8",
   "metadata": {},
   "outputs": [],
   "source": [
    "import sys\n",
    "sys.path\n",
    "sys.path.append('/home/mnt/nzh/nzhanglab/project/shuang/miniconda3/envs/scglue2/lib/python3.8/site-packages')\n",
    "\n"
   ]
  },
  {
   "cell_type": "code",
   "execution_count": 2,
   "id": "efd54210",
   "metadata": {},
   "outputs": [],
   "source": [
    "import anndata\n",
    "import itertools\n",
    "import networkx as nx\n",
    "import pandas as pd\n",
    "import scanpy as sc\n",
    "import scglue\n",
    "import seaborn as sns\n",
    "from matplotlib import rcParams"
   ]
  },
  {
   "cell_type": "code",
   "execution_count": 3,
   "id": "b9b38521",
   "metadata": {},
   "outputs": [],
   "source": [
    "scglue.plot.set_publication_params()\n",
    "rcParams[\"figure.figsize\"] = (4, 4)"
   ]
  },
  {
   "cell_type": "code",
   "execution_count": 4,
   "id": "ef489d62",
   "metadata": {},
   "outputs": [],
   "source": [
    "rna = anndata.read_h5ad(\"greenleaf/rna_preprocessed_v2.h5ad\")\n",
    "atac = anndata.read_h5ad(\"greenleaf/atac_preprocessed_v2.h5ad\")\n",
    "graph = nx.read_graphml(\"greenleaf/prior_v2.graphml.gz\")"
   ]
  },
  {
   "cell_type": "code",
   "execution_count": 5,
   "id": "1427ed95",
   "metadata": {},
   "outputs": [],
   "source": [
    "scglue.models.configure_dataset(\n",
    "    rna, \"NB\", use_highly_variable=True,\n",
    "    use_layer=\"counts\", use_rep=\"X_pca\"\n",
    ")"
   ]
  },
  {
   "cell_type": "code",
   "execution_count": 6,
   "id": "fcb48cb7",
   "metadata": {},
   "outputs": [],
   "source": [
    "scglue.models.configure_dataset(\n",
    "    atac, \"NB\", use_highly_variable=True,\n",
    "    use_rep=\"X_lsi\"\n",
    ")"
   ]
  },
  {
   "cell_type": "code",
   "execution_count": 7,
   "id": "c2c28cad",
   "metadata": {},
   "outputs": [],
   "source": [
    "graph = graph.subgraph(itertools.chain(\n",
    "    rna.var.query(\"highly_variable\").index,\n",
    "    atac.var.query(\"highly_variable\").index\n",
    "))"
   ]
  },
  {
   "cell_type": "code",
   "execution_count": 8,
   "id": "ab41f894",
   "metadata": {},
   "outputs": [
    {
     "name": "stdout",
     "output_type": "stream",
     "text": [
      "[INFO] fit_SCGLUE: Pretraining SCGLUE model...\n",
      "[INFO] autodevice: Using GPU 0 as computation device.\n",
      "[INFO] SCGLUEModel: Setting `graph_batch_size` = 39557\n",
      "[INFO] SCGLUEModel: Setting `max_epochs` = 191\n",
      "[INFO] SCGLUEModel: Setting `patience` = 16\n",
      "[INFO] SCGLUEModel: Setting `reduce_lr_patience` = 8\n",
      "[INFO] SCGLUETrainer: Using training directory: \"greenleaf_glue/pretrain\"\n",
      "[INFO] SCGLUETrainer: [Epoch 10] train={'g_nll': 0.454, 'g_kl': 0.004, 'g_elbo': 0.458, 'x_rna_nll': 0.332, 'x_rna_kl': 0.011, 'x_rna_elbo': 0.343, 'x_atac_nll': 0.079, 'x_atac_kl': 0.001, 'x_atac_elbo': 0.08, 'dsc_loss': 0.689, 'vae_loss': 0.442, 'gen_loss': 0.407}, val={'g_nll': 0.45, 'g_kl': 0.004, 'g_elbo': 0.454, 'x_rna_nll': 0.324, 'x_rna_kl': 0.01, 'x_rna_elbo': 0.334, 'x_atac_nll': 0.076, 'x_atac_kl': 0.001, 'x_atac_elbo': 0.077, 'dsc_loss': 0.697, 'vae_loss': 0.429, 'gen_loss': 0.395}, 6.1s elapsed\n",
      "[INFO] SCGLUETrainer: [Epoch 20] train={'g_nll': 0.439, 'g_kl': 0.004, 'g_elbo': 0.444, 'x_rna_nll': 0.318, 'x_rna_kl': 0.01, 'x_rna_elbo': 0.329, 'x_atac_nll': 0.077, 'x_atac_kl': 0.001, 'x_atac_elbo': 0.078, 'dsc_loss': 0.69, 'vae_loss': 0.424, 'gen_loss': 0.39}, val={'g_nll': 0.439, 'g_kl': 0.004, 'g_elbo': 0.444, 'x_rna_nll': 0.324, 'x_rna_kl': 0.01, 'x_rna_elbo': 0.333, 'x_atac_nll': 0.078, 'x_atac_kl': 0.001, 'x_atac_elbo': 0.079, 'dsc_loss': 0.693, 'vae_loss': 0.43, 'gen_loss': 0.395}, 6.1s elapsed\n",
      "[INFO] SCGLUETrainer: [Epoch 30] train={'g_nll': 0.434, 'g_kl': 0.004, 'g_elbo': 0.438, 'x_rna_nll': 0.318, 'x_rna_kl': 0.01, 'x_rna_elbo': 0.328, 'x_atac_nll': 0.077, 'x_atac_kl': 0.001, 'x_atac_elbo': 0.077, 'dsc_loss': 0.69, 'vae_loss': 0.423, 'gen_loss': 0.388}, val={'g_nll': 0.432, 'g_kl': 0.004, 'g_elbo': 0.436, 'x_rna_nll': 0.317, 'x_rna_kl': 0.01, 'x_rna_elbo': 0.327, 'x_atac_nll': 0.076, 'x_atac_kl': 0.001, 'x_atac_elbo': 0.076, 'dsc_loss': 0.696, 'vae_loss': 0.421, 'gen_loss': 0.386}, 6.3s elapsed\n",
      "Epoch    35: reducing learning rate of group 0 to 2.0000e-04.\n",
      "Epoch    35: reducing learning rate of group 0 to 2.0000e-04.\n",
      "[INFO] LRScheduler: Learning rate reduction: step 1\n",
      "[INFO] SCGLUETrainer: [Epoch 40] train={'g_nll': 0.429, 'g_kl': 0.004, 'g_elbo': 0.433, 'x_rna_nll': 0.312, 'x_rna_kl': 0.01, 'x_rna_elbo': 0.322, 'x_atac_nll': 0.076, 'x_atac_kl': 0.001, 'x_atac_elbo': 0.077, 'dsc_loss': 0.692, 'vae_loss': 0.416, 'gen_loss': 0.382}, val={'g_nll': 0.429, 'g_kl': 0.004, 'g_elbo': 0.433, 'x_rna_nll': 0.31, 'x_rna_kl': 0.01, 'x_rna_elbo': 0.32, 'x_atac_nll': 0.075, 'x_atac_kl': 0.001, 'x_atac_elbo': 0.076, 'dsc_loss': 0.693, 'vae_loss': 0.413, 'gen_loss': 0.378}, 5.8s elapsed\n",
      "Epoch    49: reducing learning rate of group 0 to 2.0000e-05.\n",
      "Epoch    49: reducing learning rate of group 0 to 2.0000e-05.\n",
      "[INFO] LRScheduler: Learning rate reduction: step 2\n",
      "[INFO] SCGLUETrainer: [Epoch 50] train={'g_nll': 0.429, 'g_kl': 0.004, 'g_elbo': 0.433, 'x_rna_nll': 0.311, 'x_rna_kl': 0.01, 'x_rna_elbo': 0.321, 'x_atac_nll': 0.076, 'x_atac_kl': 0.001, 'x_atac_elbo': 0.077, 'dsc_loss': 0.692, 'vae_loss': 0.415, 'gen_loss': 0.38}, val={'g_nll': 0.428, 'g_kl': 0.004, 'g_elbo': 0.432, 'x_rna_nll': 0.315, 'x_rna_kl': 0.01, 'x_rna_elbo': 0.325, 'x_atac_nll': 0.076, 'x_atac_kl': 0.001, 'x_atac_elbo': 0.077, 'dsc_loss': 0.69, 'vae_loss': 0.419, 'gen_loss': 0.385}, 6.0s elapsed\n"
     ]
    },
    {
     "name": "stderr",
     "output_type": "stream",
     "text": [
      "2022-06-28 19:56:58,457 ignite.handlers.early_stopping.EarlyStopping INFO: EarlyStopping: Stop training\n"
     ]
    },
    {
     "name": "stdout",
     "output_type": "stream",
     "text": [
      "[INFO] EarlyStopping: Restoring checkpoint \"52\"...\n",
      "[INFO] fit_SCGLUE: Estimating balancing weight...\n",
      "[INFO] estimate_balancing_weight: Clustering cells...\n",
      "[INFO] estimate_balancing_weight: Matching clusters...\n",
      "[INFO] estimate_balancing_weight: Matching array shape = (18, 25)...\n",
      "[INFO] estimate_balancing_weight: Estimating balancing weight...\n",
      "[INFO] fit_SCGLUE: Fine-tuning SCGLUE model...\n",
      "[INFO] SCGLUEModel: Setting `graph_batch_size` = 39557\n",
      "[INFO] SCGLUEModel: Setting `align_burnin` = 32\n",
      "[INFO] SCGLUEModel: Setting `max_epochs` = 191\n",
      "[INFO] SCGLUEModel: Setting `patience` = 16\n",
      "[INFO] SCGLUEModel: Setting `reduce_lr_patience` = 8\n",
      "[INFO] SCGLUETrainer: Using training directory: \"greenleaf_glue/fine-tune\"\n",
      "[INFO] SCGLUETrainer: [Epoch 10] train={'g_nll': 0.426, 'g_kl': 0.004, 'g_elbo': 0.429, 'x_rna_nll': 0.315, 'x_rna_kl': 0.01, 'x_rna_elbo': 0.325, 'x_atac_nll': 0.076, 'x_atac_kl': 0.001, 'x_atac_elbo': 0.077, 'dsc_loss': 0.69, 'vae_loss': 0.419, 'gen_loss': 0.384}, val={'g_nll': 0.426, 'g_kl': 0.004, 'g_elbo': 0.43, 'x_rna_nll': 0.313, 'x_rna_kl': 0.009, 'x_rna_elbo': 0.322, 'x_atac_nll': 0.074, 'x_atac_kl': 0.001, 'x_atac_elbo': 0.074, 'dsc_loss': 0.666, 'vae_loss': 0.414, 'gen_loss': 0.38}, 7.4s elapsed\n",
      "[INFO] SCGLUETrainer: [Epoch 20] train={'g_nll': 0.423, 'g_kl': 0.004, 'g_elbo': 0.427, 'x_rna_nll': 0.314, 'x_rna_kl': 0.01, 'x_rna_elbo': 0.324, 'x_atac_nll': 0.076, 'x_atac_kl': 0.001, 'x_atac_elbo': 0.077, 'dsc_loss': 0.689, 'vae_loss': 0.418, 'gen_loss': 0.383}, val={'g_nll': 0.424, 'g_kl': 0.004, 'g_elbo': 0.428, 'x_rna_nll': 0.32, 'x_rna_kl': 0.01, 'x_rna_elbo': 0.33, 'x_atac_nll': 0.077, 'x_atac_kl': 0.001, 'x_atac_elbo': 0.078, 'dsc_loss': 0.687, 'vae_loss': 0.425, 'gen_loss': 0.391}, 7.3s elapsed\n",
      "[INFO] SCGLUETrainer: [Epoch 30] train={'g_nll': 0.423, 'g_kl': 0.004, 'g_elbo': 0.427, 'x_rna_nll': 0.314, 'x_rna_kl': 0.01, 'x_rna_elbo': 0.324, 'x_atac_nll': 0.076, 'x_atac_kl': 0.001, 'x_atac_elbo': 0.076, 'dsc_loss': 0.689, 'vae_loss': 0.417, 'gen_loss': 0.383}, val={'g_nll': 0.422, 'g_kl': 0.004, 'g_elbo': 0.425, 'x_rna_nll': 0.315, 'x_rna_kl': 0.01, 'x_rna_elbo': 0.325, 'x_atac_nll': 0.075, 'x_atac_kl': 0.001, 'x_atac_elbo': 0.076, 'dsc_loss': 0.674, 'vae_loss': 0.417, 'gen_loss': 0.384}, 7.6s elapsed\n",
      "[INFO] SCGLUETrainer: [Epoch 40] train={'g_nll': 0.422, 'g_kl': 0.004, 'g_elbo': 0.426, 'x_rna_nll': 0.312, 'x_rna_kl': 0.01, 'x_rna_elbo': 0.322, 'x_atac_nll': 0.076, 'x_atac_kl': 0.001, 'x_atac_elbo': 0.076, 'dsc_loss': 0.685, 'vae_loss': 0.415, 'gen_loss': 0.381}, val={'g_nll': 0.423, 'g_kl': 0.004, 'g_elbo': 0.426, 'x_rna_nll': 0.31, 'x_rna_kl': 0.009, 'x_rna_elbo': 0.32, 'x_atac_nll': 0.075, 'x_atac_kl': 0.001, 'x_atac_elbo': 0.076, 'dsc_loss': 0.677, 'vae_loss': 0.412, 'gen_loss': 0.379}, 7.3s elapsed\n",
      "Epoch    49: reducing learning rate of group 0 to 2.0000e-04.\n",
      "Epoch    49: reducing learning rate of group 0 to 2.0000e-04.\n",
      "[INFO] LRScheduler: Learning rate reduction: step 1\n",
      "[INFO] SCGLUETrainer: [Epoch 50] train={'g_nll': 0.42, 'g_kl': 0.004, 'g_elbo': 0.424, 'x_rna_nll': 0.31, 'x_rna_kl': 0.01, 'x_rna_elbo': 0.32, 'x_atac_nll': 0.075, 'x_atac_kl': 0.001, 'x_atac_elbo': 0.076, 'dsc_loss': 0.694, 'vae_loss': 0.413, 'gen_loss': 0.378}, val={'g_nll': 0.42, 'g_kl': 0.004, 'g_elbo': 0.423, 'x_rna_nll': 0.315, 'x_rna_kl': 0.01, 'x_rna_elbo': 0.324, 'x_atac_nll': 0.076, 'x_atac_kl': 0.001, 'x_atac_elbo': 0.077, 'dsc_loss': 0.664, 'vae_loss': 0.418, 'gen_loss': 0.384}, 7.0s elapsed\n",
      "Epoch    58: reducing learning rate of group 0 to 2.0000e-05.\n",
      "Epoch    58: reducing learning rate of group 0 to 2.0000e-05.\n",
      "[INFO] LRScheduler: Learning rate reduction: step 2\n",
      "[INFO] SCGLUETrainer: [Epoch 60] train={'g_nll': 0.42, 'g_kl': 0.004, 'g_elbo': 0.424, 'x_rna_nll': 0.311, 'x_rna_kl': 0.01, 'x_rna_elbo': 0.321, 'x_atac_nll': 0.076, 'x_atac_kl': 0.001, 'x_atac_elbo': 0.076, 'dsc_loss': 0.697, 'vae_loss': 0.414, 'gen_loss': 0.379}, val={'g_nll': 0.419, 'g_kl': 0.004, 'g_elbo': 0.423, 'x_rna_nll': 0.314, 'x_rna_kl': 0.01, 'x_rna_elbo': 0.323, 'x_atac_nll': 0.076, 'x_atac_kl': 0.001, 'x_atac_elbo': 0.077, 'dsc_loss': 0.666, 'vae_loss': 0.417, 'gen_loss': 0.383}, 7.7s elapsed\n",
      "Epoch    67: reducing learning rate of group 0 to 2.0000e-06.\n",
      "Epoch    67: reducing learning rate of group 0 to 2.0000e-06.\n",
      "[INFO] LRScheduler: Learning rate reduction: step 3\n"
     ]
    },
    {
     "name": "stderr",
     "output_type": "stream",
     "text": [
      "2022-06-28 20:07:10,992 ignite.handlers.early_stopping.EarlyStopping INFO: EarlyStopping: Stop training\n"
     ]
    },
    {
     "name": "stdout",
     "output_type": "stream",
     "text": [
      "[INFO] EarlyStopping: Restoring checkpoint \"67\"...\n"
     ]
    }
   ],
   "source": [
    "glue = scglue.models.fit_SCGLUE(\n",
    "    {\"rna\": rna, \"atac\": atac}, graph,\n",
    "    fit_kws={\"directory\": \"greenleaf_glue\"}\n",
    ")"
   ]
  },
  {
   "cell_type": "code",
   "execution_count": 9,
   "id": "73b59e10",
   "metadata": {},
   "outputs": [],
   "source": [
    "glue.save(\"greenleaf_glue_v2.dill\")"
   ]
  },
  {
   "cell_type": "code",
   "execution_count": 10,
   "id": "25ba7c34",
   "metadata": {},
   "outputs": [],
   "source": [
    "glue = scglue.models.load_model(\"greenleaf_glue_v2.dill\")"
   ]
  },
  {
   "cell_type": "code",
   "execution_count": 11,
   "id": "6a78e7e7",
   "metadata": {},
   "outputs": [
    {
     "name": "stdout",
     "output_type": "stream",
     "text": [
      "[INFO] get_metacells: Clustering metacells...\n",
      "[INFO] get_metacells: Aggregating metacells...\n",
      "[INFO] metacell_corr: Computing correlation on 10 common metacells...\n"
     ]
    },
    {
     "name": "stderr",
     "output_type": "stream",
     "text": [
      "/home/mnt/nzh/nzhanglab/project/shuang/miniconda3/envs/scglue2/lib/python3.8/site-packages/scglue/data.py:599: RuntimeWarning: invalid value encountered in double_scalars\n",
      "  ((X[s] * X[t]).mean() - mean[s] * mean[t]) / (std[s] * std[t])\n"
     ]
    },
    {
     "name": "stdout",
     "output_type": "stream",
     "text": [
      "[INFO] get_metacells: Clustering metacells...\n",
      "[INFO] get_metacells: Aggregating metacells...\n",
      "[INFO] metacell_corr: Computing correlation on 20 common metacells...\n"
     ]
    },
    {
     "name": "stderr",
     "output_type": "stream",
     "text": [
      "/home/mnt/nzh/nzhanglab/project/shuang/miniconda3/envs/scglue2/lib/python3.8/site-packages/scglue/data.py:599: RuntimeWarning: invalid value encountered in double_scalars\n",
      "  ((X[s] * X[t]).mean() - mean[s] * mean[t]) / (std[s] * std[t])\n"
     ]
    },
    {
     "name": "stdout",
     "output_type": "stream",
     "text": [
      "[INFO] get_metacells: Clustering metacells...\n",
      "[INFO] get_metacells: Aggregating metacells...\n",
      "[INFO] metacell_corr: Computing correlation on 50 common metacells...\n"
     ]
    },
    {
     "name": "stderr",
     "output_type": "stream",
     "text": [
      "/home/mnt/nzh/nzhanglab/project/shuang/miniconda3/envs/scglue2/lib/python3.8/site-packages/scglue/data.py:599: RuntimeWarning: invalid value encountered in double_scalars\n",
      "  ((X[s] * X[t]).mean() - mean[s] * mean[t]) / (std[s] * std[t])\n"
     ]
    },
    {
     "name": "stdout",
     "output_type": "stream",
     "text": [
      "[INFO] get_metacells: Clustering metacells...\n",
      "[INFO] get_metacells: Aggregating metacells...\n",
      "[INFO] metacell_corr: Computing correlation on 99 common metacells...\n"
     ]
    },
    {
     "name": "stderr",
     "output_type": "stream",
     "text": [
      "/home/mnt/nzh/nzhanglab/project/shuang/miniconda3/envs/scglue2/lib/python3.8/site-packages/scglue/data.py:599: RuntimeWarning: invalid value encountered in double_scalars\n",
      "  ((X[s] * X[t]).mean() - mean[s] * mean[t]) / (std[s] * std[t])\n"
     ]
    },
    {
     "name": "stdout",
     "output_type": "stream",
     "text": [
      "[INFO] get_metacells: Clustering metacells...\n",
      "[INFO] get_metacells: Aggregating metacells...\n",
      "[INFO] metacell_corr: Computing correlation on 199 common metacells...\n"
     ]
    },
    {
     "name": "stderr",
     "output_type": "stream",
     "text": [
      "/home/mnt/nzh/nzhanglab/project/shuang/miniconda3/envs/scglue2/lib/python3.8/site-packages/scglue/data.py:599: RuntimeWarning: invalid value encountered in double_scalars\n",
      "  ((X[s] * X[t]).mean() - mean[s] * mean[t]) / (std[s] * std[t])\n"
     ]
    },
    {
     "data": {
      "text/html": [
       "<div>\n",
       "<style scoped>\n",
       "    .dataframe tbody tr th:only-of-type {\n",
       "        vertical-align: middle;\n",
       "    }\n",
       "\n",
       "    .dataframe tbody tr th {\n",
       "        vertical-align: top;\n",
       "    }\n",
       "\n",
       "    .dataframe thead th {\n",
       "        text-align: right;\n",
       "    }\n",
       "</style>\n",
       "<table border=\"1\" class=\"dataframe\">\n",
       "  <thead>\n",
       "    <tr style=\"text-align: right;\">\n",
       "      <th></th>\n",
       "      <th>n_meta</th>\n",
       "      <th>consistency</th>\n",
       "    </tr>\n",
       "  </thead>\n",
       "  <tbody>\n",
       "    <tr>\n",
       "      <th>0</th>\n",
       "      <td>10</td>\n",
       "      <td>0.142397</td>\n",
       "    </tr>\n",
       "    <tr>\n",
       "      <th>1</th>\n",
       "      <td>20</td>\n",
       "      <td>0.077037</td>\n",
       "    </tr>\n",
       "    <tr>\n",
       "      <th>2</th>\n",
       "      <td>50</td>\n",
       "      <td>0.068868</td>\n",
       "    </tr>\n",
       "    <tr>\n",
       "      <th>3</th>\n",
       "      <td>100</td>\n",
       "      <td>0.051844</td>\n",
       "    </tr>\n",
       "    <tr>\n",
       "      <th>4</th>\n",
       "      <td>200</td>\n",
       "      <td>0.040870</td>\n",
       "    </tr>\n",
       "  </tbody>\n",
       "</table>\n",
       "</div>"
      ],
      "text/plain": [
       "   n_meta  consistency\n",
       "0      10     0.142397\n",
       "1      20     0.077037\n",
       "2      50     0.068868\n",
       "3     100     0.051844\n",
       "4     200     0.040870"
      ]
     },
     "execution_count": 11,
     "metadata": {},
     "output_type": "execute_result"
    }
   ],
   "source": [
    "dx = scglue.models.integration_consistency(\n",
    "    glue, {\"rna\": rna, \"atac\": atac}, graph,\n",
    "    count_layers={\"rna\": \"counts\"}\n",
    ")\n",
    "dx"
   ]
  },
  {
   "cell_type": "code",
   "execution_count": 12,
   "id": "5bef4c07",
   "metadata": {},
   "outputs": [
    {
     "data": {
      "image/png": "[encoded data removed]",
      "text/plain": [
       "<Figure size 320x320 with 1 Axes>"
      ]
     },
     "metadata": {
      "image/png": {
       "height": 300,
       "width": 330
      },
      "needs_background": "light"
     },
     "output_type": "display_data"
    }
   ],
   "source": [
    "_ = sns.lineplot(x=\"n_meta\", y=\"consistency\", data=dx).axhline(y=0.05, c=\"darkred\", ls=\"--\")\n"
   ]
  },
  {
   "cell_type": "code",
   "execution_count": 13,
   "id": "94ae1e43",
   "metadata": {},
   "outputs": [],
   "source": [
    "rna.obsm[\"X_glue\"] = glue.encode_data(\"rna\", rna)\n",
    "atac.obsm[\"X_glue\"] = glue.encode_data(\"atac\", atac)"
   ]
  },
  {
   "cell_type": "code",
   "execution_count": 14,
   "id": "fb70e9d7",
   "metadata": {},
   "outputs": [],
   "source": [
    "import numpy\n",
    "rna.obs_names = numpy.char.add(\"rna\",rna.obs_names)\n",
    "atac.obs_names = numpy.char.add(\"atac\",atac.obs_names)"
   ]
  },
  {
   "cell_type": "code",
   "execution_count": 15,
   "id": "7d009a6a",
   "metadata": {},
   "outputs": [
    {
     "name": "stderr",
     "output_type": "stream",
     "text": [
      "Observation names are not unique. To make them unique, call `.obs_names_make_unique`.\n"
     ]
    }
   ],
   "source": [
    "combined = anndata.concat([rna, atac])\n"
   ]
  },
  {
   "cell_type": "code",
   "execution_count": 16,
   "id": "4058c03a",
   "metadata": {},
   "outputs": [
    {
     "name": "stderr",
     "output_type": "stream",
     "text": [
      "/home/stat/shuang91/gpuenv385/lib/python3.8/site-packages/anndata/_core/anndata.py:1228: FutureWarning: The `inplace` parameter in pandas.Categorical.reorder_categories is deprecated and will be removed in a future version. Reordering categories will always return a new Categorical object.\n",
      "  c.reorder_categories(natsorted(c.categories), inplace=True)\n",
      "... storing 'domain' as categorical\n"
     ]
    },
    {
     "ename": "KeyError",
     "evalue": "'Could not find key cell_type in .var_names or .obs.columns.'",
     "output_type": "error",
     "traceback": [
      "\u001b[0;31m---------------------------------------------------------------------------\u001b[0m",
      "\u001b[0;31mKeyError\u001b[0m                                  Traceback (most recent call last)",
      "Input \u001b[0;32mIn [16]\u001b[0m, in \u001b[0;36m<module>\u001b[0;34m\u001b[0m\n\u001b[1;32m      1\u001b[0m sc\u001b[38;5;241m.\u001b[39mpp\u001b[38;5;241m.\u001b[39mneighbors(combined, use_rep\u001b[38;5;241m=\u001b[39m\u001b[38;5;124m\"\u001b[39m\u001b[38;5;124mX_glue\u001b[39m\u001b[38;5;124m\"\u001b[39m, metric\u001b[38;5;241m=\u001b[39m\u001b[38;5;124m\"\u001b[39m\u001b[38;5;124mcosine\u001b[39m\u001b[38;5;124m\"\u001b[39m)\n\u001b[1;32m      2\u001b[0m sc\u001b[38;5;241m.\u001b[39mtl\u001b[38;5;241m.\u001b[39mumap(combined)\n\u001b[0;32m----> 3\u001b[0m \u001b[43msc\u001b[49m\u001b[38;5;241;43m.\u001b[39;49m\u001b[43mpl\u001b[49m\u001b[38;5;241;43m.\u001b[39;49m\u001b[43mumap\u001b[49m\u001b[43m(\u001b[49m\u001b[43mcombined\u001b[49m\u001b[43m,\u001b[49m\u001b[43m \u001b[49m\u001b[43mcolor\u001b[49m\u001b[38;5;241;43m=\u001b[39;49m\u001b[43m[\u001b[49m\u001b[38;5;124;43m\"\u001b[39;49m\u001b[38;5;124;43mcell_type\u001b[39;49m\u001b[38;5;124;43m\"\u001b[39;49m\u001b[43m,\u001b[49m\u001b[43m \u001b[49m\u001b[38;5;124;43m\"\u001b[39;49m\u001b[38;5;124;43mdomain\u001b[39;49m\u001b[38;5;124;43m\"\u001b[39;49m\u001b[43m]\u001b[49m\u001b[43m,\u001b[49m\u001b[43m \u001b[49m\u001b[43mwspace\u001b[49m\u001b[38;5;241;43m=\u001b[39;49m\u001b[38;5;241;43m0.65\u001b[39;49m\u001b[43m)\u001b[49m\n",
      "File \u001b[0;32m~/gpuenv385/lib/python3.8/site-packages/scanpy/plotting/_tools/scatterplots.py:659\u001b[0m, in \u001b[0;36mumap\u001b[0;34m(adata, **kwargs)\u001b[0m\n\u001b[1;32m    600\u001b[0m \u001b[38;5;129m@_wraps_plot_scatter\u001b[39m\n\u001b[1;32m    601\u001b[0m \u001b[38;5;129m@_doc_params\u001b[39m(\n\u001b[1;32m    602\u001b[0m     adata_color_etc\u001b[38;5;241m=\u001b[39mdoc_adata_color_etc,\n\u001b[0;32m   (...)\u001b[0m\n\u001b[1;32m    606\u001b[0m )\n\u001b[1;32m    607\u001b[0m \u001b[38;5;28;01mdef\u001b[39;00m \u001b[38;5;21mumap\u001b[39m(adata, \u001b[38;5;241m*\u001b[39m\u001b[38;5;241m*\u001b[39mkwargs) \u001b[38;5;241m-\u001b[39m\u001b[38;5;241m>\u001b[39m Union[Axes, List[Axes], \u001b[38;5;28;01mNone\u001b[39;00m]:\n\u001b[1;32m    608\u001b[0m     \u001b[38;5;124;03m\"\"\"\\\u001b[39;00m\n\u001b[1;32m    609\u001b[0m \u001b[38;5;124;03m    Scatter plot in UMAP basis.\u001b[39;00m\n\u001b[1;32m    610\u001b[0m \n\u001b[0;32m   (...)\u001b[0m\n\u001b[1;32m    657\u001b[0m \u001b[38;5;124;03m    tl.umap\u001b[39;00m\n\u001b[1;32m    658\u001b[0m \u001b[38;5;124;03m    \"\"\"\u001b[39;00m\n\u001b[0;32m--> 659\u001b[0m     \u001b[38;5;28;01mreturn\u001b[39;00m \u001b[43membedding\u001b[49m\u001b[43m(\u001b[49m\u001b[43madata\u001b[49m\u001b[43m,\u001b[49m\u001b[43m \u001b[49m\u001b[38;5;124;43m'\u001b[39;49m\u001b[38;5;124;43mumap\u001b[39;49m\u001b[38;5;124;43m'\u001b[39;49m\u001b[43m,\u001b[49m\u001b[43m \u001b[49m\u001b[38;5;241;43m*\u001b[39;49m\u001b[38;5;241;43m*\u001b[39;49m\u001b[43mkwargs\u001b[49m\u001b[43m)\u001b[49m\n",
      "File \u001b[0;32m~/gpuenv385/lib/python3.8/site-packages/scanpy/plotting/_tools/scatterplots.py:244\u001b[0m, in \u001b[0;36membedding\u001b[0;34m(adata, basis, color, gene_symbols, use_raw, sort_order, edges, edges_width, edges_color, neighbors_key, arrows, arrows_kwds, groups, components, layer, projection, scale_factor, color_map, cmap, palette, na_color, na_in_legend, size, frameon, legend_fontsize, legend_fontweight, legend_loc, legend_fontoutline, vmax, vmin, vcenter, norm, add_outline, outline_width, outline_color, ncols, hspace, wspace, title, show, save, ax, return_fig, **kwargs)\u001b[0m\n\u001b[1;32m    235\u001b[0m \u001b[38;5;66;03m# use itertools.product to make a plot for each color and for each component\u001b[39;00m\n\u001b[1;32m    236\u001b[0m \u001b[38;5;66;03m# For example if color=[gene1, gene2] and components=['1,2, '2,3'].\u001b[39;00m\n\u001b[1;32m    237\u001b[0m \u001b[38;5;66;03m# The plots are: [\u001b[39;00m\n\u001b[1;32m    238\u001b[0m \u001b[38;5;66;03m#     color=gene1, components=[1,2], color=gene1, components=[2,3],\u001b[39;00m\n\u001b[1;32m    239\u001b[0m \u001b[38;5;66;03m#     color=gene2, components = [1, 2], color=gene2, components=[2,3],\u001b[39;00m\n\u001b[1;32m    240\u001b[0m \u001b[38;5;66;03m# ]\u001b[39;00m\n\u001b[1;32m    241\u001b[0m \u001b[38;5;28;01mfor\u001b[39;00m count, (value_to_plot, component_idx) \u001b[38;5;129;01min\u001b[39;00m \u001b[38;5;28menumerate\u001b[39m(\n\u001b[1;32m    242\u001b[0m     itertools\u001b[38;5;241m.\u001b[39mproduct(color, idx_components)\n\u001b[1;32m    243\u001b[0m ):\n\u001b[0;32m--> 244\u001b[0m     color_source_vector \u001b[38;5;241m=\u001b[39m \u001b[43m_get_color_source_vector\u001b[49m\u001b[43m(\u001b[49m\n\u001b[1;32m    245\u001b[0m \u001b[43m        \u001b[49m\u001b[43madata\u001b[49m\u001b[43m,\u001b[49m\n\u001b[1;32m    246\u001b[0m \u001b[43m        \u001b[49m\u001b[43mvalue_to_plot\u001b[49m\u001b[43m,\u001b[49m\n\u001b[1;32m    247\u001b[0m \u001b[43m        \u001b[49m\u001b[43mlayer\u001b[49m\u001b[38;5;241;43m=\u001b[39;49m\u001b[43mlayer\u001b[49m\u001b[43m,\u001b[49m\n\u001b[1;32m    248\u001b[0m \u001b[43m        \u001b[49m\u001b[43muse_raw\u001b[49m\u001b[38;5;241;43m=\u001b[39;49m\u001b[43muse_raw\u001b[49m\u001b[43m,\u001b[49m\n\u001b[1;32m    249\u001b[0m \u001b[43m        \u001b[49m\u001b[43mgene_symbols\u001b[49m\u001b[38;5;241;43m=\u001b[39;49m\u001b[43mgene_symbols\u001b[49m\u001b[43m,\u001b[49m\n\u001b[1;32m    250\u001b[0m \u001b[43m        \u001b[49m\u001b[43mgroups\u001b[49m\u001b[38;5;241;43m=\u001b[39;49m\u001b[43mgroups\u001b[49m\u001b[43m,\u001b[49m\n\u001b[1;32m    251\u001b[0m \u001b[43m    \u001b[49m\u001b[43m)\u001b[49m\n\u001b[1;32m    252\u001b[0m     color_vector, categorical \u001b[38;5;241m=\u001b[39m _color_vector(\n\u001b[1;32m    253\u001b[0m         adata,\n\u001b[1;32m    254\u001b[0m         value_to_plot,\n\u001b[0;32m   (...)\u001b[0m\n\u001b[1;32m    257\u001b[0m         na_color\u001b[38;5;241m=\u001b[39mna_color,\n\u001b[1;32m    258\u001b[0m     )\n\u001b[1;32m    260\u001b[0m     \u001b[38;5;66;03m# Order points\u001b[39;00m\n",
      "File \u001b[0;32m~/gpuenv385/lib/python3.8/site-packages/scanpy/plotting/_tools/scatterplots.py:1225\u001b[0m, in \u001b[0;36m_get_color_source_vector\u001b[0;34m(adata, value_to_plot, use_raw, gene_symbols, layer, groups)\u001b[0m\n\u001b[1;32m   1223\u001b[0m     values \u001b[38;5;241m=\u001b[39m adata\u001b[38;5;241m.\u001b[39mraw\u001b[38;5;241m.\u001b[39mobs_vector(value_to_plot)\n\u001b[1;32m   1224\u001b[0m \u001b[38;5;28;01melse\u001b[39;00m:\n\u001b[0;32m-> 1225\u001b[0m     values \u001b[38;5;241m=\u001b[39m \u001b[43madata\u001b[49m\u001b[38;5;241;43m.\u001b[39;49m\u001b[43mobs_vector\u001b[49m\u001b[43m(\u001b[49m\u001b[43mvalue_to_plot\u001b[49m\u001b[43m,\u001b[49m\u001b[43m \u001b[49m\u001b[43mlayer\u001b[49m\u001b[38;5;241;43m=\u001b[39;49m\u001b[43mlayer\u001b[49m\u001b[43m)\u001b[49m\n\u001b[1;32m   1226\u001b[0m \u001b[38;5;28;01mif\u001b[39;00m groups \u001b[38;5;129;01mand\u001b[39;00m is_categorical_dtype(values):\n\u001b[1;32m   1227\u001b[0m     values \u001b[38;5;241m=\u001b[39m values\u001b[38;5;241m.\u001b[39mreplace(values\u001b[38;5;241m.\u001b[39mcategories\u001b[38;5;241m.\u001b[39mdifference(groups), np\u001b[38;5;241m.\u001b[39mnan)\n",
      "File \u001b[0;32m~/gpuenv385/lib/python3.8/site-packages/anndata/_core/anndata.py:1393\u001b[0m, in \u001b[0;36mAnnData.obs_vector\u001b[0;34m(self, k, layer)\u001b[0m\n\u001b[1;32m   1387\u001b[0m         warnings\u001b[38;5;241m.\u001b[39mwarn(\n\u001b[1;32m   1388\u001b[0m             \u001b[38;5;124m\"\u001b[39m\u001b[38;5;124mIn a future version of AnnData, access to `.X` by passing\u001b[39m\u001b[38;5;124m\"\u001b[39m\n\u001b[1;32m   1389\u001b[0m             \u001b[38;5;124m\"\u001b[39m\u001b[38;5;124m `layer=\u001b[39m\u001b[38;5;124m'\u001b[39m\u001b[38;5;124mX\u001b[39m\u001b[38;5;124m'\u001b[39m\u001b[38;5;124m` will be removed. Instead pass `layer=None`.\u001b[39m\u001b[38;5;124m\"\u001b[39m,\n\u001b[1;32m   1390\u001b[0m             \u001b[38;5;167;01mFutureWarning\u001b[39;00m,\n\u001b[1;32m   1391\u001b[0m         )\n\u001b[1;32m   1392\u001b[0m         layer \u001b[38;5;241m=\u001b[39m \u001b[38;5;28;01mNone\u001b[39;00m\n\u001b[0;32m-> 1393\u001b[0m \u001b[38;5;28;01mreturn\u001b[39;00m \u001b[43mget_vector\u001b[49m\u001b[43m(\u001b[49m\u001b[38;5;28;43mself\u001b[39;49m\u001b[43m,\u001b[49m\u001b[43m \u001b[49m\u001b[43mk\u001b[49m\u001b[43m,\u001b[49m\u001b[43m \u001b[49m\u001b[38;5;124;43m\"\u001b[39;49m\u001b[38;5;124;43mobs\u001b[39;49m\u001b[38;5;124;43m\"\u001b[39;49m\u001b[43m,\u001b[49m\u001b[43m \u001b[49m\u001b[38;5;124;43m\"\u001b[39;49m\u001b[38;5;124;43mvar\u001b[39;49m\u001b[38;5;124;43m\"\u001b[39;49m\u001b[43m,\u001b[49m\u001b[43m \u001b[49m\u001b[43mlayer\u001b[49m\u001b[38;5;241;43m=\u001b[39;49m\u001b[43mlayer\u001b[49m\u001b[43m)\u001b[49m\n",
      "File \u001b[0;32m~/gpuenv385/lib/python3.8/site-packages/anndata/_core/index.py:179\u001b[0m, in \u001b[0;36mget_vector\u001b[0;34m(adata, k, coldim, idxdim, layer)\u001b[0m\n\u001b[1;32m    175\u001b[0m     \u001b[38;5;28;01mraise\u001b[39;00m \u001b[38;5;167;01mValueError\u001b[39;00m(\n\u001b[1;32m    176\u001b[0m         \u001b[38;5;124mf\u001b[39m\u001b[38;5;124m\"\u001b[39m\u001b[38;5;124mKey \u001b[39m\u001b[38;5;132;01m{\u001b[39;00mk\u001b[38;5;132;01m}\u001b[39;00m\u001b[38;5;124m could be found in both .\u001b[39m\u001b[38;5;132;01m{\u001b[39;00midxdim\u001b[38;5;132;01m}\u001b[39;00m\u001b[38;5;124m_names and .\u001b[39m\u001b[38;5;132;01m{\u001b[39;00mcoldim\u001b[38;5;132;01m}\u001b[39;00m\u001b[38;5;124m.columns\u001b[39m\u001b[38;5;124m\"\u001b[39m\n\u001b[1;32m    177\u001b[0m     )\n\u001b[1;32m    178\u001b[0m \u001b[38;5;28;01melif\u001b[39;00m (in_col \u001b[38;5;241m+\u001b[39m in_idx) \u001b[38;5;241m==\u001b[39m \u001b[38;5;241m0\u001b[39m:\n\u001b[0;32m--> 179\u001b[0m     \u001b[38;5;28;01mraise\u001b[39;00m \u001b[38;5;167;01mKeyError\u001b[39;00m(\n\u001b[1;32m    180\u001b[0m         \u001b[38;5;124mf\u001b[39m\u001b[38;5;124m\"\u001b[39m\u001b[38;5;124mCould not find key \u001b[39m\u001b[38;5;132;01m{\u001b[39;00mk\u001b[38;5;132;01m}\u001b[39;00m\u001b[38;5;124m in .\u001b[39m\u001b[38;5;132;01m{\u001b[39;00midxdim\u001b[38;5;132;01m}\u001b[39;00m\u001b[38;5;124m_names or .\u001b[39m\u001b[38;5;132;01m{\u001b[39;00mcoldim\u001b[38;5;132;01m}\u001b[39;00m\u001b[38;5;124m.columns.\u001b[39m\u001b[38;5;124m\"\u001b[39m\n\u001b[1;32m    181\u001b[0m     )\n\u001b[1;32m    182\u001b[0m \u001b[38;5;28;01melif\u001b[39;00m in_col:\n\u001b[1;32m    183\u001b[0m     \u001b[38;5;28;01mreturn\u001b[39;00m \u001b[38;5;28mgetattr\u001b[39m(adata, coldim)[k]\u001b[38;5;241m.\u001b[39mvalues\n",
      "\u001b[0;31mKeyError\u001b[0m: 'Could not find key cell_type in .var_names or .obs.columns.'"
     ]
    },
    {
     "data": {
      "text/plain": [
       "<Figure size 1056x320 with 0 Axes>"
      ]
     },
     "metadata": {},
     "output_type": "display_data"
    }
   ],
   "source": [
    "sc.pp.neighbors(combined, use_rep=\"X_glue\", metric=\"cosine\")\n",
    "sc.tl.umap(combined)\n",
    "sc.pl.umap(combined, color=[\"cell_type\", \"domain\"], wspace=0.65)"
   ]
  },
  {
   "cell_type": "code",
   "execution_count": null,
   "id": "6b6419a9",
   "metadata": {},
   "outputs": [],
   "source": [
    "feature_embeddings = glue.encode_graph(graph)\n",
    "feature_embeddings = pd.DataFrame(feature_embeddings, index=glue.vertices)\n",
    "feature_embeddings.iloc[:5, :5]"
   ]
  },
  {
   "cell_type": "code",
   "execution_count": null,
   "id": "7c665fa3",
   "metadata": {},
   "outputs": [],
   "source": [
    "glue_array = combined.obsm['X_glue']\n",
    "import numpy as np\n",
    "glue_array = pd.DataFrame(glue_array)\n",
    "glue_array.index = np.concatenate([rna.obs_names,atac.obs_names])"
   ]
  },
  {
   "cell_type": "code",
   "execution_count": null,
   "id": "58f0b42e",
   "metadata": {},
   "outputs": [],
   "source": [
    "glue_array.info()"
   ]
  },
  {
   "cell_type": "code",
   "execution_count": null,
   "id": "19621435",
   "metadata": {},
   "outputs": [],
   "source": [
    "glue_array.to_csv('/home/mnt/nzh/nzhanglab/project/shuang/scATAC/comparison_methods/scglue/greenleaf_glue_embeddings_v2.csv', index=True)"
   ]
  },
  {
   "cell_type": "code",
   "execution_count": null,
   "id": "803f0573",
   "metadata": {},
   "outputs": [],
   "source": []
  }
 ],
 "metadata": {
  "kernelspec": {
   "display_name": "Python 3 (ipykernel)",
   "language": "python",
   "name": "python3"
  },
  "language_info": {
   "codemirror_mode": {
    "name": "ipython",
    "version": 3
   },
   "file_extension": ".py",
   "mimetype": "text/x-python",
   "name": "python",
   "nbconvert_exporter": "python",
   "pygments_lexer": "ipython3",
   "version": "3.8.13"
  }
 },
 "nbformat": 4,
 "nbformat_minor": 5
}
