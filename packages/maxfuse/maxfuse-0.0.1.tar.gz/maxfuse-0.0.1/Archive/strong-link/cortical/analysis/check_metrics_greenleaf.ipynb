{
 "cells": [
  {
   "cell_type": "markdown",
   "id": "0df72941",
   "metadata": {},
   "source": [
    "### calculated all the benchmarking metrics"
   ]
  },
  {
   "cell_type": "code",
   "execution_count": 1,
   "id": "5e220fe9",
   "metadata": {},
   "outputs": [
    {
     "data": {
      "text/plain": [
       "'/home/bkzhu/python/miniconda3/envs/super_mario_testing/bin/python3'"
      ]
     },
     "execution_count": 1,
     "metadata": {},
     "output_type": "execute_result"
    }
   ],
   "source": [
    "import numpy as np\n",
    "import pandas as pd\n",
    "import matplotlib.pyplot as plt\n",
    "from sklearn.metrics import confusion_matrix, ConfusionMatrixDisplay\n",
    "\n",
    "import anndata as ad\n",
    "import scanpy as sc\n",
    "\n",
    "import sys\n",
    "sys.path.append(\"./\")\n",
    "import match\n",
    "import metrics\n",
    "import utils\n",
    "from scipy.io import mmread\n",
    "import os\n",
    "\n",
    "sys.executable"
   ]
  },
  {
   "cell_type": "code",
   "execution_count": 2,
   "id": "6903edfc",
   "metadata": {},
   "outputs": [],
   "source": [
    "meta = pd.read_csv('/atac_bench_nrz/greanleaf_cortical/data/greenleaf_cortical_meta.csv')\n",
    "annt = meta['celltype'].to_numpy()"
   ]
  },
  {
   "cell_type": "code",
   "execution_count": 4,
   "id": "3acd9ae7",
   "metadata": {},
   "outputs": [],
   "source": [
    "msx = pd.read_csv(\"/atac_bench_nrz/greanleaf_cortical/maestro/rna_embed.csv\")\n",
    "msy = pd.read_csv(\"/atac_bench_nrz/greanleaf_cortical/maestro/atac_embed.csv\")\n",
    "\n",
    "ms_dist = utils.cdist_correlation(msy.to_numpy(), msx.to_numpy())\n",
    "ms_full_match, ms_scores = metrics.get_knn_matching(ms_dist)\n",
    "msmatch = [np.arange(msx.shape[0]),ms_full_match,ms_scores]"
   ]
  },
  {
   "cell_type": "code",
   "execution_count": 5,
   "id": "fac79dba",
   "metadata": {},
   "outputs": [],
   "source": [
    "scjx = pd.read_csv(\"/atac_bench_nrz/greanleaf_cortical/scjoint/raw_labels/rna_embd.csv\")\n",
    "scjy = pd.read_csv(\"/atac_bench_nrz/greanleaf_cortical/scjoint/raw_labels/atac_embd.csv\")\n",
    "scj_dist = utils.cdist_correlation(scjy.to_numpy(), scjx.to_numpy())\n",
    "scj_full_match, scj_scores = metrics.get_knn_matching(scj_dist)\n",
    "scjmatch = [np.arange(scjx.shape[0]),scj_full_match,scj_scores]"
   ]
  },
  {
   "cell_type": "code",
   "execution_count": 6,
   "id": "c6ab2097",
   "metadata": {},
   "outputs": [],
   "source": [
    "glx = pd.read_csv(\"/atac_bench_nrz/greanleaf_cortical/glue/gl_rna.csv\")\n",
    "gly = pd.read_csv(\"/atac_bench_nrz/greanleaf_cortical/glue/gl_atac.csv\")\n",
    "\n",
    "gl_dist = utils.cdist_correlation(gly.to_numpy(), glx.to_numpy())\n",
    "gl_full_match, gl_scores = metrics.get_knn_matching(gl_dist)\n",
    "glmatch = [np.arange(scjx.shape[0]),gl_full_match,gl_scores]"
   ]
  },
  {
   "cell_type": "code",
   "execution_count": 7,
   "id": "362e0c33",
   "metadata": {},
   "outputs": [],
   "source": [
    "mf = pd.read_csv(\"/atac_bench_nrz/greanleaf_cortical/mf/full_idx_21.csv\")\n",
    "mfmatch = [mf['idx1'].tolist(),mf['idx2'].tolist(),mf['score'].tolist()]"
   ]
  },
  {
   "cell_type": "code",
   "execution_count": 10,
   "id": "9170cac4",
   "metadata": {},
   "outputs": [
    {
     "data": {
      "text/plain": [
       "0.5015197568389058"
      ]
     },
     "execution_count": 10,
     "metadata": {},
     "output_type": "execute_result"
    }
   ],
   "source": [
    "order = (2, 1)\n",
    "acc_ann_ms = metrics.get_matching_acc(\n",
    "        matching=msmatch, \n",
    "        labels1=annt, \n",
    "        labels2=annt,\n",
    "        order = order\n",
    "    )\n",
    "acc_ann_ms"
   ]
  },
  {
   "cell_type": "code",
   "execution_count": 11,
   "id": "40861934",
   "metadata": {},
   "outputs": [
    {
     "data": {
      "text/plain": [
       "0.6316374756741729"
      ]
     },
     "execution_count": 11,
     "metadata": {},
     "output_type": "execute_result"
    }
   ],
   "source": [
    "order = (2, 1)\n",
    "acc_ann_scj = metrics.get_matching_acc(\n",
    "        matching=scjmatch, \n",
    "        labels1=annt, \n",
    "        labels2=annt,\n",
    "        order = order\n",
    "    )\n",
    "acc_ann_scj"
   ]
  },
  {
   "cell_type": "code",
   "execution_count": 12,
   "id": "f7784313",
   "metadata": {},
   "outputs": [
    {
     "data": {
      "text/plain": [
       "0.6948001336154103"
      ]
     },
     "execution_count": 12,
     "metadata": {},
     "output_type": "execute_result"
    }
   ],
   "source": [
    "order = (2, 1)\n",
    "acc_ann_mf = metrics.get_matching_acc(\n",
    "        matching=mfmatch, \n",
    "        labels1=annt, \n",
    "        labels2=annt,\n",
    "        order = order\n",
    "    )\n",
    "acc_ann_mf"
   ]
  },
  {
   "cell_type": "code",
   "execution_count": 13,
   "id": "29c72699",
   "metadata": {},
   "outputs": [
    {
     "data": {
      "text/plain": [
       "0.6726895734597157"
      ]
     },
     "execution_count": 13,
     "metadata": {},
     "output_type": "execute_result"
    }
   ],
   "source": [
    "order = (2, 1)\n",
    "acc_ann_gl = metrics.get_matching_acc(\n",
    "        matching=glmatch, \n",
    "        labels1=annt, \n",
    "        labels2=annt,\n",
    "        order = order\n",
    "    )\n",
    "acc_ann_gl"
   ]
  },
  {
   "cell_type": "code",
   "execution_count": 14,
   "id": "b71cabc0",
   "metadata": {},
   "outputs": [
    {
     "data": {
      "text/plain": [
       "[0.6948001336154103,\n",
       " 0.6726895734597157,\n",
       " 0.6316374756741729,\n",
       " 0.5015197568389058]"
      ]
     },
     "execution_count": 14,
     "metadata": {},
     "output_type": "execute_result"
    }
   ],
   "source": [
    "ann_listlv1 = []\n",
    "ann_listlv1.extend([acc_ann_mf, acc_ann_gl, acc_ann_scj, acc_ann_ms])\n",
    "ann_listlv1"
   ]
  },
  {
   "cell_type": "markdown",
   "id": "b8ac9573",
   "metadata": {},
   "source": [
    "## start calculate metrics"
   ]
  },
  {
   "cell_type": "code",
   "execution_count": 15,
   "id": "7b0da7ef",
   "metadata": {},
   "outputs": [],
   "source": [
    "mfx = pd.read_csv(\"/atac_bench_nrz/greanleaf_cortical/mf/full_embed_x0.csv\")\n",
    "mfy = pd.read_csv(\"/atac_bench_nrz/greanleaf_cortical/mf/full_embed_y0.csv\")\n",
    "mf_dist = utils.cdist_correlation(mfx.to_numpy(), mfy.to_numpy())"
   ]
  },
  {
   "cell_type": "code",
   "execution_count": 17,
   "id": "a7ac53f6",
   "metadata": {},
   "outputs": [],
   "source": [
    "mf_fos = metrics.get_foscttm(mf_dist)\n",
    "scj_fos = metrics.get_foscttm(scj_dist)\n",
    "ms_fos = metrics.get_foscttm(ms_dist)\n",
    "gl_fos = metrics.get_foscttm(gl_dist)"
   ]
  },
  {
   "cell_type": "code",
   "execution_count": 18,
   "id": "55c2ed57",
   "metadata": {},
   "outputs": [
    {
     "data": {
      "text/plain": [
       "[0.028984285956418086,\n",
       " 0.04944216508441077,\n",
       " 0.10427051697715503,\n",
       " 0.13248661226825573]"
      ]
     },
     "execution_count": 18,
     "metadata": {},
     "output_type": "execute_result"
    }
   ],
   "source": [
    "foscttm_list = []\n",
    "foscttm_list.extend([mf_fos, gl_fos, scj_fos, ms_fos])\n",
    "foscttm_list"
   ]
  },
  {
   "cell_type": "code",
   "execution_count": 19,
   "id": "9226c2e0",
   "metadata": {},
   "outputs": [
    {
     "data": {
      "text/plain": [
       "[0.5054028608503665,\n",
       " 0.5261296261543288,\n",
       " 0.5391149738594236,\n",
       " 0.4960443204287383]"
      ]
     },
     "execution_count": 19,
     "metadata": {},
     "output_type": "execute_result"
    }
   ],
   "source": [
    "slt_f1 = []\n",
    "ari_f1 = []\n",
    "\n",
    "mf_int = pd.read_csv(\"/atac_bench_nrz/greanleaf_cortical/mf/metrics.csv\")\n",
    "ms_int = pd.read_csv(\"/atac_bench_nrz/greanleaf_cortical/maestro/metrics.csv\")\n",
    "gl_int = pd.read_csv(\"/atac_bench_nrz/greanleaf_cortical/glue/metrics.csv\")\n",
    "scj_int = pd.read_csv(\"/atac_bench_nrz/greanleaf_cortical/scjoint/metrics.csv\")\n",
    "\n",
    "slt_f1.extend([mf_int.loc[0,'slt_f1'], gl_int.loc[0,'slt_f1'], scj_int.loc[0,'slt_f1'], ms_int.loc[0,'slt_f1']])\n",
    "ari_f1.extend([mf_int.loc[0,'ari_f1'], gl_int.loc[0,'ari_f1'], scj_int.loc[0,'ari_f1'], ms_int.loc[0,'ari_f1']])\n",
    "\n",
    "slt_f1"
   ]
  },
  {
   "cell_type": "code",
   "execution_count": 20,
   "id": "68a8d208",
   "metadata": {},
   "outputs": [
    {
     "data": {
      "text/plain": [
       "[0.5794087451939259, 0.5874955638600893, 0.602003226808822, 0.5791055355221286]"
      ]
     },
     "execution_count": 20,
     "metadata": {},
     "output_type": "execute_result"
    }
   ],
   "source": [
    "ari_f1"
   ]
  },
  {
   "cell_type": "code",
   "execution_count": 21,
   "id": "aee3c541",
   "metadata": {},
   "outputs": [
    {
     "data": {
      "text/html": [
       "<div>\n",
       "<style scoped>\n",
       "    .dataframe tbody tr th:only-of-type {\n",
       "        vertical-align: middle;\n",
       "    }\n",
       "\n",
       "    .dataframe tbody tr th {\n",
       "        vertical-align: top;\n",
       "    }\n",
       "\n",
       "    .dataframe thead th {\n",
       "        text-align: right;\n",
       "    }\n",
       "</style>\n",
       "<table border=\"1\" class=\"dataframe\">\n",
       "  <thead>\n",
       "    <tr style=\"text-align: right;\">\n",
       "      <th></th>\n",
       "      <th>method</th>\n",
       "      <th>slt_f1</th>\n",
       "      <th>ari_f1</th>\n",
       "      <th>ann1</th>\n",
       "      <th>foscttm</th>\n",
       "    </tr>\n",
       "  </thead>\n",
       "  <tbody>\n",
       "    <tr>\n",
       "      <th>0</th>\n",
       "      <td>mf</td>\n",
       "      <td>0.505403</td>\n",
       "      <td>0.579409</td>\n",
       "      <td>0.694800</td>\n",
       "      <td>0.028984</td>\n",
       "    </tr>\n",
       "    <tr>\n",
       "      <th>1</th>\n",
       "      <td>gl</td>\n",
       "      <td>0.526130</td>\n",
       "      <td>0.587496</td>\n",
       "      <td>0.672690</td>\n",
       "      <td>0.049442</td>\n",
       "    </tr>\n",
       "    <tr>\n",
       "      <th>2</th>\n",
       "      <td>scj</td>\n",
       "      <td>0.539115</td>\n",
       "      <td>0.602003</td>\n",
       "      <td>0.631637</td>\n",
       "      <td>0.104271</td>\n",
       "    </tr>\n",
       "    <tr>\n",
       "      <th>3</th>\n",
       "      <td>ms</td>\n",
       "      <td>0.496044</td>\n",
       "      <td>0.579106</td>\n",
       "      <td>0.501520</td>\n",
       "      <td>0.132487</td>\n",
       "    </tr>\n",
       "  </tbody>\n",
       "</table>\n",
       "</div>"
      ],
      "text/plain": [
       "  method    slt_f1    ari_f1      ann1   foscttm\n",
       "0     mf  0.505403  0.579409  0.694800  0.028984\n",
       "1     gl  0.526130  0.587496  0.672690  0.049442\n",
       "2    scj  0.539115  0.602003  0.631637  0.104271\n",
       "3     ms  0.496044  0.579106  0.501520  0.132487"
      ]
     },
     "execution_count": 21,
     "metadata": {},
     "output_type": "execute_result"
    }
   ],
   "source": [
    "m = [\"mf\",\"gl\",\"scj\",\"ms\"]\n",
    "minfo = m\n",
    "\n",
    "data = {'method':minfo,'slt_f1': slt_f1, 'ari_f1':ari_f1,\n",
    "       'ann1':ann_listlv1, 'foscttm':foscttm_list}\n",
    "\n",
    "matching_result = pd.DataFrame(data)\n",
    "matching_result"
   ]
  },
  {
   "cell_type": "code",
   "execution_count": 22,
   "id": "7365dc1b",
   "metadata": {},
   "outputs": [],
   "source": [
    "matching_result.to_csv(\"/atac_bench_nrz/greanleaf_cortical/metric_results.csv\")"
   ]
  },
  {
   "cell_type": "markdown",
   "id": "aee4e0bd",
   "metadata": {},
   "source": [
    "## KNN"
   ]
  },
  {
   "cell_type": "code",
   "execution_count": 23,
   "id": "9fced2db",
   "metadata": {},
   "outputs": [],
   "source": [
    "# knn search tmp\n",
    "k = 100\n",
    "knn_match_mf = metrics.get_knn_alignment_score(\n",
    "    dist=mf_dist,\n",
    "    k_max=k\n",
    ")\n",
    "knn_match_scj = metrics.get_knn_alignment_score(\n",
    "    dist=scj_dist,\n",
    "    k_max=k\n",
    ")\n",
    "knn_match_ms = metrics.get_knn_alignment_score(\n",
    "    dist=ms_dist,\n",
    "    k_max=k\n",
    ")\n",
    "knn_match_gl = metrics.get_knn_alignment_score(\n",
    "    dist=gl_dist,\n",
    "    k_max=k\n",
    ")"
   ]
  },
  {
   "cell_type": "code",
   "execution_count": 24,
   "id": "5d5f837f",
   "metadata": {},
   "outputs": [
    {
     "data": {
      "text/html": [
       "<div>\n",
       "<style scoped>\n",
       "    .dataframe tbody tr th:only-of-type {\n",
       "        vertical-align: middle;\n",
       "    }\n",
       "\n",
       "    .dataframe tbody tr th {\n",
       "        vertical-align: top;\n",
       "    }\n",
       "\n",
       "    .dataframe thead th {\n",
       "        text-align: right;\n",
       "    }\n",
       "</style>\n",
       "<table border=\"1\" class=\"dataframe\">\n",
       "  <thead>\n",
       "    <tr style=\"text-align: right;\">\n",
       "      <th></th>\n",
       "      <th>mf</th>\n",
       "      <th>scj</th>\n",
       "      <th>ms</th>\n",
       "      <th>gl</th>\n",
       "    </tr>\n",
       "  </thead>\n",
       "  <tbody>\n",
       "    <tr>\n",
       "      <th>0</th>\n",
       "      <td>0.021601</td>\n",
       "      <td>0.002895</td>\n",
       "      <td>0.003563</td>\n",
       "      <td>0.013139</td>\n",
       "    </tr>\n",
       "    <tr>\n",
       "      <th>1</th>\n",
       "      <td>0.032958</td>\n",
       "      <td>0.005345</td>\n",
       "      <td>0.006347</td>\n",
       "      <td>0.022381</td>\n",
       "    </tr>\n",
       "    <tr>\n",
       "      <th>2</th>\n",
       "      <td>0.043091</td>\n",
       "      <td>0.007906</td>\n",
       "      <td>0.008017</td>\n",
       "      <td>0.032402</td>\n",
       "    </tr>\n",
       "    <tr>\n",
       "      <th>3</th>\n",
       "      <td>0.053223</td>\n",
       "      <td>0.010244</td>\n",
       "      <td>0.009910</td>\n",
       "      <td>0.040196</td>\n",
       "    </tr>\n",
       "    <tr>\n",
       "      <th>4</th>\n",
       "      <td>0.061463</td>\n",
       "      <td>0.011803</td>\n",
       "      <td>0.011914</td>\n",
       "      <td>0.047099</td>\n",
       "    </tr>\n",
       "    <tr>\n",
       "      <th>...</th>\n",
       "      <td>...</td>\n",
       "      <td>...</td>\n",
       "      <td>...</td>\n",
       "      <td>...</td>\n",
       "    </tr>\n",
       "    <tr>\n",
       "      <th>95</th>\n",
       "      <td>0.417771</td>\n",
       "      <td>0.129718</td>\n",
       "      <td>0.157778</td>\n",
       "      <td>0.340719</td>\n",
       "    </tr>\n",
       "    <tr>\n",
       "      <th>96</th>\n",
       "      <td>0.420109</td>\n",
       "      <td>0.130943</td>\n",
       "      <td>0.158780</td>\n",
       "      <td>0.342055</td>\n",
       "    </tr>\n",
       "    <tr>\n",
       "      <th>97</th>\n",
       "      <td>0.422336</td>\n",
       "      <td>0.131945</td>\n",
       "      <td>0.160116</td>\n",
       "      <td>0.343614</td>\n",
       "    </tr>\n",
       "    <tr>\n",
       "      <th>98</th>\n",
       "      <td>0.425899</td>\n",
       "      <td>0.132836</td>\n",
       "      <td>0.161675</td>\n",
       "      <td>0.345284</td>\n",
       "    </tr>\n",
       "    <tr>\n",
       "      <th>99</th>\n",
       "      <td>0.429017</td>\n",
       "      <td>0.134061</td>\n",
       "      <td>0.162454</td>\n",
       "      <td>0.348291</td>\n",
       "    </tr>\n",
       "  </tbody>\n",
       "</table>\n",
       "<p>100 rows × 4 columns</p>\n",
       "</div>"
      ],
      "text/plain": [
       "          mf       scj        ms        gl\n",
       "0   0.021601  0.002895  0.003563  0.013139\n",
       "1   0.032958  0.005345  0.006347  0.022381\n",
       "2   0.043091  0.007906  0.008017  0.032402\n",
       "3   0.053223  0.010244  0.009910  0.040196\n",
       "4   0.061463  0.011803  0.011914  0.047099\n",
       "..       ...       ...       ...       ...\n",
       "95  0.417771  0.129718  0.157778  0.340719\n",
       "96  0.420109  0.130943  0.158780  0.342055\n",
       "97  0.422336  0.131945  0.160116  0.343614\n",
       "98  0.425899  0.132836  0.161675  0.345284\n",
       "99  0.429017  0.134061  0.162454  0.348291\n",
       "\n",
       "[100 rows x 4 columns]"
      ]
     },
     "execution_count": 24,
     "metadata": {},
     "output_type": "execute_result"
    }
   ],
   "source": [
    "data = {'mf': knn_match_mf,\n",
    "        'scj':knn_match_scj,\n",
    "        'ms':knn_match_ms,\n",
    "        'gl':knn_match_gl#,\n",
    "       }\n",
    "knn_tmp = pd.DataFrame(data)\n",
    "knn_tmp"
   ]
  },
  {
   "cell_type": "code",
   "execution_count": 26,
   "id": "ee39abda",
   "metadata": {},
   "outputs": [
    {
     "data": {
      "text/html": [
       "<div>\n",
       "<style scoped>\n",
       "    .dataframe tbody tr th:only-of-type {\n",
       "        vertical-align: middle;\n",
       "    }\n",
       "\n",
       "    .dataframe tbody tr th {\n",
       "        vertical-align: top;\n",
       "    }\n",
       "\n",
       "    .dataframe thead th {\n",
       "        text-align: right;\n",
       "    }\n",
       "</style>\n",
       "<table border=\"1\" class=\"dataframe\">\n",
       "  <thead>\n",
       "    <tr style=\"text-align: right;\">\n",
       "      <th></th>\n",
       "      <th>method</th>\n",
       "      <th>knn_tmp</th>\n",
       "      <th>step</th>\n",
       "    </tr>\n",
       "  </thead>\n",
       "  <tbody>\n",
       "    <tr>\n",
       "      <th>0</th>\n",
       "      <td>mf</td>\n",
       "      <td>0.021601</td>\n",
       "      <td>0</td>\n",
       "    </tr>\n",
       "    <tr>\n",
       "      <th>1</th>\n",
       "      <td>mf</td>\n",
       "      <td>0.032958</td>\n",
       "      <td>1</td>\n",
       "    </tr>\n",
       "    <tr>\n",
       "      <th>2</th>\n",
       "      <td>mf</td>\n",
       "      <td>0.043091</td>\n",
       "      <td>2</td>\n",
       "    </tr>\n",
       "    <tr>\n",
       "      <th>3</th>\n",
       "      <td>mf</td>\n",
       "      <td>0.053223</td>\n",
       "      <td>3</td>\n",
       "    </tr>\n",
       "    <tr>\n",
       "      <th>4</th>\n",
       "      <td>mf</td>\n",
       "      <td>0.061463</td>\n",
       "      <td>4</td>\n",
       "    </tr>\n",
       "    <tr>\n",
       "      <th>...</th>\n",
       "      <td>...</td>\n",
       "      <td>...</td>\n",
       "      <td>...</td>\n",
       "    </tr>\n",
       "    <tr>\n",
       "      <th>395</th>\n",
       "      <td>ms</td>\n",
       "      <td>0.157778</td>\n",
       "      <td>95</td>\n",
       "    </tr>\n",
       "    <tr>\n",
       "      <th>396</th>\n",
       "      <td>ms</td>\n",
       "      <td>0.158780</td>\n",
       "      <td>96</td>\n",
       "    </tr>\n",
       "    <tr>\n",
       "      <th>397</th>\n",
       "      <td>ms</td>\n",
       "      <td>0.160116</td>\n",
       "      <td>97</td>\n",
       "    </tr>\n",
       "    <tr>\n",
       "      <th>398</th>\n",
       "      <td>ms</td>\n",
       "      <td>0.161675</td>\n",
       "      <td>98</td>\n",
       "    </tr>\n",
       "    <tr>\n",
       "      <th>399</th>\n",
       "      <td>ms</td>\n",
       "      <td>0.162454</td>\n",
       "      <td>99</td>\n",
       "    </tr>\n",
       "  </tbody>\n",
       "</table>\n",
       "<p>400 rows × 3 columns</p>\n",
       "</div>"
      ],
      "text/plain": [
       "    method   knn_tmp  step\n",
       "0       mf  0.021601     0\n",
       "1       mf  0.032958     1\n",
       "2       mf  0.043091     2\n",
       "3       mf  0.053223     3\n",
       "4       mf  0.061463     4\n",
       "..     ...       ...   ...\n",
       "395     ms  0.157778    95\n",
       "396     ms  0.158780    96\n",
       "397     ms  0.160116    97\n",
       "398     ms  0.161675    98\n",
       "399     ms  0.162454    99\n",
       "\n",
       "[400 rows x 3 columns]"
      ]
     },
     "execution_count": 26,
     "metadata": {},
     "output_type": "execute_result"
    }
   ],
   "source": [
    "import numpy as np\n",
    "\n",
    "knn_tmp = []\n",
    "knn_tmp.extend([knn_match_mf.tolist(), knn_match_gl.tolist(),\n",
    "                knn_match_scj.tolist(), knn_match_ms.tolist()])\n",
    "m = np.array([\"mf\", \"gl\",\"scj\",\"ms\"])\n",
    "minfo = np.repeat(m, [100,100,100,100], axis=0).tolist()\n",
    "minfo2 = minfo #* 5\n",
    "knn = [item for sublist in knn_tmp for item in sublist]\n",
    "step = [i for i in range(100)]*4 #*5\n",
    "data = {'method':minfo2,'knn_tmp': knn, 'step':step }\n",
    "\n",
    "knn_result = pd.DataFrame(data)\n",
    "knn_result"
   ]
  },
  {
   "cell_type": "code",
   "execution_count": 27,
   "id": "1dcc726e",
   "metadata": {},
   "outputs": [],
   "source": [
    "# save the results as csvs\n",
    "knn_result.to_csv(\"/atac_bench_nrz/greanleaf_cortical/knntmp.csv\")"
   ]
  }
 ],
 "metadata": {
  "kernelspec": {
   "display_name": "Python 3 (ipykernel)",
   "language": "python",
   "name": "python3"
  },
  "language_info": {
   "codemirror_mode": {
    "name": "ipython",
    "version": 3
   },
   "file_extension": ".py",
   "mimetype": "text/x-python",
   "name": "python",
   "nbconvert_exporter": "python",
   "pygments_lexer": "ipython3",
   "version": "3.8.12"
  }
 },
 "nbformat": 4,
 "nbformat_minor": 5
}
