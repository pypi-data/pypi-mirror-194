{
 "cells": [
  {
   "cell_type": "markdown",
   "id": "e634c550",
   "metadata": {},
   "source": [
    "### calculated all the benchmarking metrics"
   ]
  },
  {
   "cell_type": "code",
   "execution_count": 1,
   "id": "7d6f1018",
   "metadata": {},
   "outputs": [
    {
     "data": {
      "text/plain": [
       "'/home/bkzhu/python/miniconda3/envs/super_mario_testing/bin/python3'"
      ]
     },
     "execution_count": 1,
     "metadata": {},
     "output_type": "execute_result"
    }
   ],
   "source": [
    "import numpy as np\n",
    "import pandas as pd\n",
    "import matplotlib.pyplot as plt\n",
    "from sklearn.metrics import confusion_matrix, ConfusionMatrixDisplay\n",
    "\n",
    "import anndata as ad\n",
    "import scanpy as sc\n",
    "\n",
    "import sys\n",
    "sys.path.append(\"./\")\n",
    "import match\n",
    "import metrics\n",
    "import utils\n",
    "from scipy.io import mmread\n",
    "import os\n",
    "\n",
    "sys.executable"
   ]
  },
  {
   "cell_type": "code",
   "execution_count": 2,
   "id": "37e961b2",
   "metadata": {},
   "outputs": [],
   "source": [
    "meta = pd.read_csv('/atac_bench_nrz/10x_e18/data/10x_e18_meta.csv')\n",
    "annt = meta['celltype'].to_numpy()"
   ]
  },
  {
   "cell_type": "code",
   "execution_count": 33,
   "id": "e0c3d082",
   "metadata": {},
   "outputs": [],
   "source": [
    "# should not reduce scjoint embedding\n",
    "scjx = pd.read_csv(\"/atac_bench_nrz/10x_e18/scjoint/raw_labels/rna_embd.csv\")\n",
    "scjy = pd.read_csv(\"/atac_bench_nrz/10x_e18/scjoint/raw_labels/atac_embd.csv\")\n",
    "scj_dist = utils.cdist_correlation(scjy.to_numpy(), scjx.to_numpy())\n",
    "scj_full_match, scj_scores = metrics.get_knn_matching(scj_dist)\n",
    "scjmatch = [np.arange(scjx.shape[0]),scj_full_match,scj_scores]"
   ]
  },
  {
   "cell_type": "code",
   "execution_count": 34,
   "id": "f07d184d",
   "metadata": {},
   "outputs": [],
   "source": [
    "## maestro use all dims avaliable\n",
    "msx = pd.read_csv(\"/atac_bench_nrz/10x_e18/maestro/rna_embed.csv\")\n",
    "msy = pd.read_csv(\"/atac_bench_nrz/10x_e18/maestro/atac_embed.csv\")\n",
    "\n",
    "ms_dist = utils.cdist_correlation(msy.to_numpy(), msx.to_numpy())\n",
    "ms_full_match, ms_scores = metrics.get_knn_matching(ms_dist)\n",
    "msmatch = [np.arange(msx.shape[0]),ms_full_match,ms_scores]"
   ]
  },
  {
   "cell_type": "code",
   "execution_count": 52,
   "id": "86f66c98",
   "metadata": {},
   "outputs": [],
   "source": [
    "mf = pd.read_csv(\"/atac_bench_nrz/10x_e18/mf/full_idx_21.csv\")\n",
    "mfmatch = [mf['idx1'].tolist(),mf['idx2'].tolist(),mf['score'].tolist()]"
   ]
  },
  {
   "cell_type": "code",
   "execution_count": 36,
   "id": "8479b82c",
   "metadata": {},
   "outputs": [],
   "source": [
    "## glue use all avaliable\n",
    "glx = pd.read_csv(\"/atac_bench_nrz/10x_e18/glue/e18mouse_rna.csv\")\n",
    "gly = pd.read_csv(\"/atac_bench_nrz/10x_e18/glue/e18mouse_atac.csv\")\n",
    "\n",
    "gl_dist = utils.cdist_correlation(gly.to_numpy(), glx.to_numpy())\n",
    "gl_full_match, gl_scores = metrics.get_knn_matching(gl_dist)\n",
    "glmatch = [np.arange(glx.shape[0]),gl_full_match,gl_scores]"
   ]
  },
  {
   "cell_type": "code",
   "execution_count": 39,
   "id": "d0041a00",
   "metadata": {},
   "outputs": [
    {
     "data": {
      "text/plain": [
       "0.7887788778877888"
      ]
     },
     "execution_count": 39,
     "metadata": {},
     "output_type": "execute_result"
    }
   ],
   "source": [
    "order = (2, 1)\n",
    "acc_ann_ms = metrics.get_matching_acc(\n",
    "        matching=msmatch, \n",
    "        labels1=annt, \n",
    "        labels2=annt,\n",
    "        order = order\n",
    "    )\n",
    "acc_ann_ms"
   ]
  },
  {
   "cell_type": "code",
   "execution_count": 40,
   "id": "11fa696e",
   "metadata": {},
   "outputs": [
    {
     "data": {
      "text/plain": [
       "0.4444444444444444"
      ]
     },
     "execution_count": 40,
     "metadata": {},
     "output_type": "execute_result"
    }
   ],
   "source": [
    "order = (2, 1)\n",
    "acc_ann_scj = metrics.get_matching_acc(\n",
    "        matching=scjmatch, \n",
    "        labels1=annt, \n",
    "        labels2=annt,\n",
    "        order = order\n",
    "    )\n",
    "acc_ann_scj"
   ]
  },
  {
   "cell_type": "code",
   "execution_count": 53,
   "id": "db4a5551",
   "metadata": {},
   "outputs": [
    {
     "data": {
      "text/plain": [
       "0.9053001758352173"
      ]
     },
     "execution_count": 53,
     "metadata": {},
     "output_type": "execute_result"
    }
   ],
   "source": [
    "order = (2, 1)\n",
    "acc_ann_mf = metrics.get_matching_acc(\n",
    "        matching=mfmatch, \n",
    "        labels1=annt, \n",
    "        labels2=annt,\n",
    "        order = order\n",
    "    )\n",
    "acc_ann_mf"
   ]
  },
  {
   "cell_type": "code",
   "execution_count": 45,
   "id": "796e750b",
   "metadata": {},
   "outputs": [
    {
     "data": {
      "text/plain": [
       "0.9327689243027888"
      ]
     },
     "execution_count": 45,
     "metadata": {},
     "output_type": "execute_result"
    }
   ],
   "source": [
    "order = (2, 1)\n",
    "acc_ann_gl = metrics.get_matching_acc(\n",
    "        matching=glmatch, \n",
    "        labels1=annt, \n",
    "        labels2=annt,\n",
    "        order = order\n",
    "    )\n",
    "acc_ann_gl"
   ]
  },
  {
   "cell_type": "code",
   "execution_count": 54,
   "id": "6095a021",
   "metadata": {},
   "outputs": [
    {
     "data": {
      "text/plain": [
       "[0.9053001758352173,\n",
       " 0.9327689243027888,\n",
       " 0.4444444444444444,\n",
       " 0.7887788778877888]"
      ]
     },
     "execution_count": 54,
     "metadata": {},
     "output_type": "execute_result"
    }
   ],
   "source": [
    "ann_listlv1 = []\n",
    "ann_listlv1.extend([acc_ann_mf, acc_ann_gl, acc_ann_scj, acc_ann_ms])\n",
    "ann_listlv1"
   ]
  },
  {
   "cell_type": "markdown",
   "id": "d27d02eb",
   "metadata": {},
   "source": [
    "## other metrics"
   ]
  },
  {
   "cell_type": "code",
   "execution_count": 69,
   "id": "20eea47d",
   "metadata": {},
   "outputs": [],
   "source": [
    "mfx = pd.read_csv(\"/atac_bench_nrz/10x_e18/mf/full_embed_x0.csv\")\n",
    "mfy = pd.read_csv(\"/atac_bench_nrz/10x_e18/mf/full_embed_y0.csv\")\n",
    "mfx = mfx.iloc[:,:20]\n",
    "mfy = mfy.iloc[:,:20]\n",
    "mf_dist = utils.cdist_correlation(mfx.to_numpy(), mfy.to_numpy())"
   ]
  },
  {
   "cell_type": "code",
   "execution_count": 71,
   "id": "c192719f",
   "metadata": {},
   "outputs": [],
   "source": [
    "mf_fos = metrics.get_foscttm(mf_dist)\n",
    "scj_fos = metrics.get_foscttm(scj_dist)\n",
    "ms_fos = metrics.get_foscttm(ms_dist)\n",
    "gl_fos = metrics.get_foscttm(gl_dist)"
   ]
  },
  {
   "cell_type": "code",
   "execution_count": 72,
   "id": "c2f7870c",
   "metadata": {},
   "outputs": [
    {
     "data": {
      "text/plain": [
       "[0.024018887505149588,\n",
       " 0.012706676734584732,\n",
       " 0.37775111255984134,\n",
       " 0.11861403207561967]"
      ]
     },
     "execution_count": 72,
     "metadata": {},
     "output_type": "execute_result"
    }
   ],
   "source": [
    "foscttm_list = []\n",
    "foscttm_list.extend([mf_fos, gl_fos, scj_fos, ms_fos])\n",
    "foscttm_list"
   ]
  },
  {
   "cell_type": "markdown",
   "id": "6ca8145d",
   "metadata": {},
   "source": [
    "## int related"
   ]
  },
  {
   "cell_type": "code",
   "execution_count": 59,
   "id": "735b5b5a",
   "metadata": {},
   "outputs": [
    {
     "data": {
      "text/plain": [
       "[0.5215440606079728,\n",
       " 0.5290452323497566,\n",
       " 0.3807741076310094,\n",
       " 0.5086121768999639]"
      ]
     },
     "execution_count": 59,
     "metadata": {},
     "output_type": "execute_result"
    }
   ],
   "source": [
    "slt_f1 = []\n",
    "ari_f1 = []\n",
    "\n",
    "mf_int = pd.read_csv(\"/atac_bench_nrz/10x_e18/mf/metrics.csv\")\n",
    "ms_int = pd.read_csv(\"/atac_bench_nrz/10x_e18/maestro/metrics.csv\")\n",
    "gl_int = pd.read_csv(\"/atac_bench_nrz/10x_e18/glue/metrics.csv\")\n",
    "scj_int = pd.read_csv(\"/atac_bench_nrz/10x_e18/scjoint/metrics.csv\")\n",
    "\n",
    "slt_f1.extend([mf_int.loc[0,'slt_f1'], gl_int.loc[0,'slt_f1'], scj_int.loc[0,'slt_f1'], ms_int.loc[0,'slt_f1']])\n",
    "ari_f1.extend([mf_int.loc[0,'ari_f1'], gl_int.loc[0,'ari_f1'], scj_int.loc[0,'ari_f1'], ms_int.loc[0,'ari_f1']])\n",
    "\n",
    "slt_f1"
   ]
  },
  {
   "cell_type": "code",
   "execution_count": 60,
   "id": "14c04483",
   "metadata": {},
   "outputs": [
    {
     "data": {
      "text/plain": [
       "[0.553539509128713, 0.5730017418732254, 0.4783569836880859, 0.5513785924583343]"
      ]
     },
     "execution_count": 60,
     "metadata": {},
     "output_type": "execute_result"
    }
   ],
   "source": [
    "ari_f1"
   ]
  },
  {
   "cell_type": "code",
   "execution_count": 61,
   "id": "ac078ac8",
   "metadata": {},
   "outputs": [
    {
     "data": {
      "text/html": [
       "<div>\n",
       "<style scoped>\n",
       "    .dataframe tbody tr th:only-of-type {\n",
       "        vertical-align: middle;\n",
       "    }\n",
       "\n",
       "    .dataframe tbody tr th {\n",
       "        vertical-align: top;\n",
       "    }\n",
       "\n",
       "    .dataframe thead th {\n",
       "        text-align: right;\n",
       "    }\n",
       "</style>\n",
       "<table border=\"1\" class=\"dataframe\">\n",
       "  <thead>\n",
       "    <tr style=\"text-align: right;\">\n",
       "      <th></th>\n",
       "      <th>method</th>\n",
       "      <th>slt_f1</th>\n",
       "      <th>ari_f1</th>\n",
       "      <th>ann1</th>\n",
       "      <th>foscttm</th>\n",
       "    </tr>\n",
       "  </thead>\n",
       "  <tbody>\n",
       "    <tr>\n",
       "      <th>0</th>\n",
       "      <td>mf</td>\n",
       "      <td>0.521544</td>\n",
       "      <td>0.553540</td>\n",
       "      <td>0.905300</td>\n",
       "      <td>0.028781</td>\n",
       "    </tr>\n",
       "    <tr>\n",
       "      <th>1</th>\n",
       "      <td>gl</td>\n",
       "      <td>0.529045</td>\n",
       "      <td>0.573002</td>\n",
       "      <td>0.932769</td>\n",
       "      <td>0.012707</td>\n",
       "    </tr>\n",
       "    <tr>\n",
       "      <th>2</th>\n",
       "      <td>scj</td>\n",
       "      <td>0.380774</td>\n",
       "      <td>0.478357</td>\n",
       "      <td>0.444444</td>\n",
       "      <td>0.377751</td>\n",
       "    </tr>\n",
       "    <tr>\n",
       "      <th>3</th>\n",
       "      <td>ms</td>\n",
       "      <td>0.508612</td>\n",
       "      <td>0.551379</td>\n",
       "      <td>0.788779</td>\n",
       "      <td>0.118614</td>\n",
       "    </tr>\n",
       "  </tbody>\n",
       "</table>\n",
       "</div>"
      ],
      "text/plain": [
       "  method    slt_f1    ari_f1      ann1   foscttm\n",
       "0     mf  0.521544  0.553540  0.905300  0.028781\n",
       "1     gl  0.529045  0.573002  0.932769  0.012707\n",
       "2    scj  0.380774  0.478357  0.444444  0.377751\n",
       "3     ms  0.508612  0.551379  0.788779  0.118614"
      ]
     },
     "execution_count": 61,
     "metadata": {},
     "output_type": "execute_result"
    }
   ],
   "source": [
    "m = [\"mf\",\"gl\",\"scj\",\"ms\"]\n",
    "minfo = m\n",
    "\n",
    "data = {'method':minfo,'slt_f1': slt_f1, 'ari_f1':ari_f1,\n",
    "       'ann1':ann_listlv1, 'foscttm':foscttm_list}\n",
    "\n",
    "matching_result = pd.DataFrame(data)\n",
    "matching_result"
   ]
  },
  {
   "cell_type": "code",
   "execution_count": 76,
   "id": "a4bc1c24",
   "metadata": {},
   "outputs": [],
   "source": [
    "matching_result.to_csv(\"/atac_bench_nrz/10x_e18/metric_results.csv\")"
   ]
  },
  {
   "cell_type": "markdown",
   "id": "44ff8568",
   "metadata": {},
   "source": [
    "## KNN"
   ]
  },
  {
   "cell_type": "code",
   "execution_count": 73,
   "id": "6c594074",
   "metadata": {},
   "outputs": [],
   "source": [
    "# knn search tmp\n",
    "k = 100\n",
    "knn_match_mf = metrics.get_knn_alignment_score(\n",
    "    dist=mf_dist,\n",
    "    k_max=k\n",
    ")\n",
    "knn_match_scj = metrics.get_knn_alignment_score(\n",
    "    dist=scj_dist,\n",
    "    k_max=k\n",
    ")\n",
    "knn_match_ms = metrics.get_knn_alignment_score(\n",
    "    dist=ms_dist,\n",
    "    k_max=k\n",
    ")\n",
    "knn_match_gl = metrics.get_knn_alignment_score(\n",
    "    dist=gl_dist,\n",
    "    k_max=k\n",
    ")"
   ]
  },
  {
   "cell_type": "code",
   "execution_count": 74,
   "id": "0ef66a9f",
   "metadata": {},
   "outputs": [
    {
     "data": {
      "text/html": [
       "<div>\n",
       "<style scoped>\n",
       "    .dataframe tbody tr th:only-of-type {\n",
       "        vertical-align: middle;\n",
       "    }\n",
       "\n",
       "    .dataframe tbody tr th {\n",
       "        vertical-align: top;\n",
       "    }\n",
       "\n",
       "    .dataframe thead th {\n",
       "        text-align: right;\n",
       "    }\n",
       "</style>\n",
       "<table border=\"1\" class=\"dataframe\">\n",
       "  <thead>\n",
       "    <tr style=\"text-align: right;\">\n",
       "      <th></th>\n",
       "      <th>mf</th>\n",
       "      <th>scj</th>\n",
       "      <th>ms</th>\n",
       "      <th>gl</th>\n",
       "    </tr>\n",
       "  </thead>\n",
       "  <tbody>\n",
       "    <tr>\n",
       "      <th>0</th>\n",
       "      <td>0.036925</td>\n",
       "      <td>0.000502</td>\n",
       "      <td>0.008289</td>\n",
       "      <td>0.057021</td>\n",
       "    </tr>\n",
       "    <tr>\n",
       "      <th>1</th>\n",
       "      <td>0.061291</td>\n",
       "      <td>0.000754</td>\n",
       "      <td>0.014569</td>\n",
       "      <td>0.102989</td>\n",
       "    </tr>\n",
       "    <tr>\n",
       "      <th>2</th>\n",
       "      <td>0.083899</td>\n",
       "      <td>0.001507</td>\n",
       "      <td>0.023863</td>\n",
       "      <td>0.134891</td>\n",
       "    </tr>\n",
       "    <tr>\n",
       "      <th>3</th>\n",
       "      <td>0.105501</td>\n",
       "      <td>0.002010</td>\n",
       "      <td>0.028636</td>\n",
       "      <td>0.168299</td>\n",
       "    </tr>\n",
       "    <tr>\n",
       "      <th>4</th>\n",
       "      <td>0.127355</td>\n",
       "      <td>0.002261</td>\n",
       "      <td>0.036925</td>\n",
       "      <td>0.200452</td>\n",
       "    </tr>\n",
       "    <tr>\n",
       "      <th>...</th>\n",
       "      <td>...</td>\n",
       "      <td>...</td>\n",
       "      <td>...</td>\n",
       "      <td>...</td>\n",
       "    </tr>\n",
       "    <tr>\n",
       "      <th>95</th>\n",
       "      <td>0.734238</td>\n",
       "      <td>0.039689</td>\n",
       "      <td>0.377543</td>\n",
       "      <td>0.865109</td>\n",
       "    </tr>\n",
       "    <tr>\n",
       "      <th>96</th>\n",
       "      <td>0.738006</td>\n",
       "      <td>0.039940</td>\n",
       "      <td>0.380306</td>\n",
       "      <td>0.869380</td>\n",
       "    </tr>\n",
       "    <tr>\n",
       "      <th>97</th>\n",
       "      <td>0.740266</td>\n",
       "      <td>0.040191</td>\n",
       "      <td>0.383572</td>\n",
       "      <td>0.870887</td>\n",
       "    </tr>\n",
       "    <tr>\n",
       "      <th>98</th>\n",
       "      <td>0.743783</td>\n",
       "      <td>0.040191</td>\n",
       "      <td>0.384326</td>\n",
       "      <td>0.872896</td>\n",
       "    </tr>\n",
       "    <tr>\n",
       "      <th>99</th>\n",
       "      <td>0.745039</td>\n",
       "      <td>0.040442</td>\n",
       "      <td>0.387340</td>\n",
       "      <td>0.876162</td>\n",
       "    </tr>\n",
       "  </tbody>\n",
       "</table>\n",
       "<p>100 rows × 4 columns</p>\n",
       "</div>"
      ],
      "text/plain": [
       "          mf       scj        ms        gl\n",
       "0   0.036925  0.000502  0.008289  0.057021\n",
       "1   0.061291  0.000754  0.014569  0.102989\n",
       "2   0.083899  0.001507  0.023863  0.134891\n",
       "3   0.105501  0.002010  0.028636  0.168299\n",
       "4   0.127355  0.002261  0.036925  0.200452\n",
       "..       ...       ...       ...       ...\n",
       "95  0.734238  0.039689  0.377543  0.865109\n",
       "96  0.738006  0.039940  0.380306  0.869380\n",
       "97  0.740266  0.040191  0.383572  0.870887\n",
       "98  0.743783  0.040191  0.384326  0.872896\n",
       "99  0.745039  0.040442  0.387340  0.876162\n",
       "\n",
       "[100 rows x 4 columns]"
      ]
     },
     "execution_count": 74,
     "metadata": {},
     "output_type": "execute_result"
    }
   ],
   "source": [
    "data = {'mf': knn_match_mf,\n",
    "        'scj':knn_match_scj,\n",
    "        'ms':knn_match_ms,\n",
    "        'gl':knn_match_gl,\n",
    "       }\n",
    "knn_tmp = pd.DataFrame(data)\n",
    "knn_tmp"
   ]
  },
  {
   "cell_type": "code",
   "execution_count": 77,
   "id": "2360944b",
   "metadata": {},
   "outputs": [
    {
     "data": {
      "text/html": [
       "<div>\n",
       "<style scoped>\n",
       "    .dataframe tbody tr th:only-of-type {\n",
       "        vertical-align: middle;\n",
       "    }\n",
       "\n",
       "    .dataframe tbody tr th {\n",
       "        vertical-align: top;\n",
       "    }\n",
       "\n",
       "    .dataframe thead th {\n",
       "        text-align: right;\n",
       "    }\n",
       "</style>\n",
       "<table border=\"1\" class=\"dataframe\">\n",
       "  <thead>\n",
       "    <tr style=\"text-align: right;\">\n",
       "      <th></th>\n",
       "      <th>method</th>\n",
       "      <th>knn_tmp</th>\n",
       "      <th>step</th>\n",
       "    </tr>\n",
       "  </thead>\n",
       "  <tbody>\n",
       "    <tr>\n",
       "      <th>0</th>\n",
       "      <td>mf</td>\n",
       "      <td>0.036925</td>\n",
       "      <td>0</td>\n",
       "    </tr>\n",
       "    <tr>\n",
       "      <th>1</th>\n",
       "      <td>mf</td>\n",
       "      <td>0.061291</td>\n",
       "      <td>1</td>\n",
       "    </tr>\n",
       "    <tr>\n",
       "      <th>2</th>\n",
       "      <td>mf</td>\n",
       "      <td>0.083899</td>\n",
       "      <td>2</td>\n",
       "    </tr>\n",
       "    <tr>\n",
       "      <th>3</th>\n",
       "      <td>mf</td>\n",
       "      <td>0.105501</td>\n",
       "      <td>3</td>\n",
       "    </tr>\n",
       "    <tr>\n",
       "      <th>4</th>\n",
       "      <td>mf</td>\n",
       "      <td>0.127355</td>\n",
       "      <td>4</td>\n",
       "    </tr>\n",
       "    <tr>\n",
       "      <th>...</th>\n",
       "      <td>...</td>\n",
       "      <td>...</td>\n",
       "      <td>...</td>\n",
       "    </tr>\n",
       "    <tr>\n",
       "      <th>395</th>\n",
       "      <td>ms</td>\n",
       "      <td>0.377543</td>\n",
       "      <td>95</td>\n",
       "    </tr>\n",
       "    <tr>\n",
       "      <th>396</th>\n",
       "      <td>ms</td>\n",
       "      <td>0.380306</td>\n",
       "      <td>96</td>\n",
       "    </tr>\n",
       "    <tr>\n",
       "      <th>397</th>\n",
       "      <td>ms</td>\n",
       "      <td>0.383572</td>\n",
       "      <td>97</td>\n",
       "    </tr>\n",
       "    <tr>\n",
       "      <th>398</th>\n",
       "      <td>ms</td>\n",
       "      <td>0.384326</td>\n",
       "      <td>98</td>\n",
       "    </tr>\n",
       "    <tr>\n",
       "      <th>399</th>\n",
       "      <td>ms</td>\n",
       "      <td>0.387340</td>\n",
       "      <td>99</td>\n",
       "    </tr>\n",
       "  </tbody>\n",
       "</table>\n",
       "<p>400 rows × 3 columns</p>\n",
       "</div>"
      ],
      "text/plain": [
       "    method   knn_tmp  step\n",
       "0       mf  0.036925     0\n",
       "1       mf  0.061291     1\n",
       "2       mf  0.083899     2\n",
       "3       mf  0.105501     3\n",
       "4       mf  0.127355     4\n",
       "..     ...       ...   ...\n",
       "395     ms  0.377543    95\n",
       "396     ms  0.380306    96\n",
       "397     ms  0.383572    97\n",
       "398     ms  0.384326    98\n",
       "399     ms  0.387340    99\n",
       "\n",
       "[400 rows x 3 columns]"
      ]
     },
     "execution_count": 77,
     "metadata": {},
     "output_type": "execute_result"
    }
   ],
   "source": [
    "import numpy as np\n",
    "\n",
    "knn_tmp = []\n",
    "knn_tmp.extend([knn_match_mf.tolist(), knn_match_gl.tolist(),\n",
    "                knn_match_scj.tolist(), knn_match_ms.tolist()])\n",
    "m = np.array([\"mf\", \"gl\",\"scj\",\"ms\"])\n",
    "minfo = np.repeat(m, [100,100,100,100], axis=0).tolist()\n",
    "minfo2 = minfo #* 5\n",
    "knn = [item for sublist in knn_tmp for item in sublist]\n",
    "step = [i for i in range(100)]*4 #*5\n",
    "data = {'method':minfo2,'knn_tmp': knn, 'step':step }\n",
    "\n",
    "knn_result = pd.DataFrame(data)\n",
    "knn_result"
   ]
  },
  {
   "cell_type": "code",
   "execution_count": 78,
   "id": "a19f34dd",
   "metadata": {},
   "outputs": [],
   "source": [
    "# save the results as csvs\n",
    "knn_result.to_csv(\"/atac_bench_nrz/10x_e18/knntmp.csv\")"
   ]
  }
 ],
 "metadata": {
  "kernelspec": {
   "display_name": "Python 3 (ipykernel)",
   "language": "python",
   "name": "python3"
  },
  "language_info": {
   "codemirror_mode": {
    "name": "ipython",
    "version": 3
   },
   "file_extension": ".py",
   "mimetype": "text/x-python",
   "name": "python",
   "nbconvert_exporter": "python",
   "pygments_lexer": "ipython3",
   "version": "3.8.12"
  }
 },
 "nbformat": 4,
 "nbformat_minor": 5
}
