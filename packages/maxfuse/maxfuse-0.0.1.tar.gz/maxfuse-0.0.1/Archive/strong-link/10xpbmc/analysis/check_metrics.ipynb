{
 "cells": [
  {
   "cell_type": "markdown",
   "id": "c25f1e4a",
   "metadata": {},
   "source": [
    "### calculated all the benchmarking metrics"
   ]
  },
  {
   "cell_type": "code",
   "execution_count": 1,
   "id": "d96c5e31",
   "metadata": {},
   "outputs": [
    {
     "data": {
      "text/plain": [
       "'/home/bkzhu/python/miniconda3/envs/super_mario_testing/bin/python3'"
      ]
     },
     "execution_count": 1,
     "metadata": {},
     "output_type": "execute_result"
    }
   ],
   "source": [
    "import numpy as np\n",
    "import pandas as pd\n",
    "import matplotlib.pyplot as plt\n",
    "from sklearn.metrics import confusion_matrix, ConfusionMatrixDisplay\n",
    "\n",
    "import anndata as ad\n",
    "import scanpy as sc\n",
    "\n",
    "import sys\n",
    "sys.path.append(\"./\")\n",
    "import match\n",
    "import metrics\n",
    "import utils\n",
    "from scipy.io import mmread\n",
    "import os\n",
    "\n",
    "sys.executable"
   ]
  },
  {
   "cell_type": "code",
   "execution_count": 4,
   "id": "8f1e0e8b",
   "metadata": {},
   "outputs": [],
   "source": [
    "meta = pd.read_csv('/atac_bench_nrz/10xpbmc/data/10x_pbmc_meta.csv')\n",
    "annt = meta['celltype'].to_numpy()"
   ]
  },
  {
   "cell_type": "code",
   "execution_count": 6,
   "id": "53084003",
   "metadata": {},
   "outputs": [],
   "source": [
    "msx = pd.read_csv(\"/atac_bench_nrz/10xpbmc/maestro/rna_embed.csv\")\n",
    "msy = pd.read_csv(\"/atac_bench_nrz/10xpbmc/maestro/atac_embed.csv\")\n",
    "\n",
    "ms_dist = utils.cdist_correlation(msy.to_numpy(), msx.to_numpy())\n",
    "ms_full_match, ms_scores = metrics.get_knn_matching(ms_dist)\n",
    "msmatch = [np.arange(msx.shape[0]),ms_full_match,ms_scores]"
   ]
  },
  {
   "cell_type": "code",
   "execution_count": 7,
   "id": "e118772c",
   "metadata": {},
   "outputs": [],
   "source": [
    "glx = pd.read_csv(\"/atac_bench_nrz/10xpbmc/glue/pbmc_rna.csv\")\n",
    "gly = pd.read_csv(\"/atac_bench_nrz/10xpbmc/glue/pbmc_atac.csv\")\n",
    "\n",
    "gl_dist = utils.cdist_correlation(gly.to_numpy(), glx.to_numpy())\n",
    "gl_full_match, gl_scores = metrics.get_knn_matching(gl_dist)\n",
    "glmatch = [np.arange(glx.shape[0]),gl_full_match,gl_scores]"
   ]
  },
  {
   "cell_type": "code",
   "execution_count": 8,
   "id": "4c3b048b",
   "metadata": {},
   "outputs": [],
   "source": [
    "scjx = pd.read_csv(\"/atac_bench_nrz/10xpbmc/scJoint/raw_labels/rna_embd.csv\")\n",
    "scjy = pd.read_csv(\"/atac_bench_nrz/10xpbmc/scJoint/raw_labels/atac_embd.csv\")\n",
    "scj_dist = utils.cdist_correlation(scjy.to_numpy(), scjx.to_numpy())\n",
    "scj_full_match, scj_scores = metrics.get_knn_matching(scj_dist)\n",
    "scjmatch = [np.arange(scjx.shape[0]),scj_full_match,scj_scores]"
   ]
  },
  {
   "cell_type": "code",
   "execution_count": 9,
   "id": "7334ee60",
   "metadata": {},
   "outputs": [],
   "source": [
    "mf = pd.read_csv(\"/atac_bench_nrz/10xpbmc/mf/full_idx_21.csv\")\n",
    "mfmatch = [mf['idx1'].tolist(),mf['idx2'].tolist(),mf['score'].tolist()]"
   ]
  },
  {
   "cell_type": "code",
   "execution_count": 11,
   "id": "060a61d0",
   "metadata": {},
   "outputs": [
    {
     "data": {
      "text/plain": [
       "0.8026565464895635"
      ]
     },
     "execution_count": 11,
     "metadata": {},
     "output_type": "execute_result"
    }
   ],
   "source": [
    "order = (2, 1)\n",
    "acc_ann_ms = metrics.get_matching_acc(\n",
    "        matching=msmatch, \n",
    "        labels1=annt, \n",
    "        labels2=annt,\n",
    "        order = order\n",
    "    )\n",
    "acc_ann_ms"
   ]
  },
  {
   "cell_type": "code",
   "execution_count": 12,
   "id": "ee0ec91b",
   "metadata": {},
   "outputs": [
    {
     "data": {
      "text/plain": [
       "0.8185857089966679"
      ]
     },
     "execution_count": 12,
     "metadata": {},
     "output_type": "execute_result"
    }
   ],
   "source": [
    "order = (2, 1)\n",
    "acc_ann_scj = metrics.get_matching_acc(\n",
    "        matching=scjmatch, \n",
    "        labels1=annt, \n",
    "        labels2=annt,\n",
    "        order = order\n",
    "    )\n",
    "acc_ann_scj"
   ]
  },
  {
   "cell_type": "code",
   "execution_count": 13,
   "id": "135eeb0b",
   "metadata": {},
   "outputs": [
    {
     "data": {
      "text/plain": [
       "0.9215661103979461"
      ]
     },
     "execution_count": 13,
     "metadata": {},
     "output_type": "execute_result"
    }
   ],
   "source": [
    "order = (2, 1)\n",
    "acc_ann_mf = metrics.get_matching_acc(\n",
    "        matching=mfmatch, \n",
    "        labels1=annt, \n",
    "        labels2=annt,\n",
    "        order = order\n",
    "    )\n",
    "acc_ann_mf"
   ]
  },
  {
   "cell_type": "code",
   "execution_count": 14,
   "id": "19f9078d",
   "metadata": {},
   "outputs": [
    {
     "data": {
      "text/plain": [
       "0.9179306608884074"
      ]
     },
     "execution_count": 14,
     "metadata": {},
     "output_type": "execute_result"
    }
   ],
   "source": [
    "order = (2, 1)\n",
    "acc_ann_gl = metrics.get_matching_acc(\n",
    "        matching=glmatch, \n",
    "        labels1=annt, \n",
    "        labels2=annt,\n",
    "        order = order\n",
    "    )\n",
    "acc_ann_gl"
   ]
  },
  {
   "cell_type": "code",
   "execution_count": 22,
   "id": "81ef4582",
   "metadata": {},
   "outputs": [
    {
     "data": {
      "text/plain": [
       "[0.9215661103979461,\n",
       " 0.9179306608884074,\n",
       " 0.8185857089966679,\n",
       " 0.8026565464895635]"
      ]
     },
     "execution_count": 22,
     "metadata": {},
     "output_type": "execute_result"
    }
   ],
   "source": [
    "ann_listlv1 = []\n",
    "ann_listlv1.extend([acc_ann_mf, acc_ann_gl, acc_ann_scj, acc_ann_ms])\n",
    "ann_listlv1"
   ]
  },
  {
   "cell_type": "markdown",
   "id": "b447efc0",
   "metadata": {},
   "source": [
    "### start to calculate other metrics"
   ]
  },
  {
   "cell_type": "code",
   "execution_count": 16,
   "id": "ef6b28b8",
   "metadata": {},
   "outputs": [],
   "source": [
    "mfx = pd.read_csv(\"/atac_bench_nrz/10xpbmc/mf/full_embed_x0.csv\")\n",
    "mfy = pd.read_csv(\"/atac_bench_nrz/10xpbmc/mf/full_embed_y0.csv\")\n",
    "mf_dist = utils.cdist_correlation(mfx.to_numpy(), mfy.to_numpy())"
   ]
  },
  {
   "cell_type": "code",
   "execution_count": 17,
   "id": "7e8801b7",
   "metadata": {},
   "outputs": [],
   "source": [
    "mf_fos = metrics.get_foscttm(mf_dist)\n",
    "scj_fos = metrics.get_foscttm(scj_dist)\n",
    "lg_fos = metrics.get_foscttm(lg_dist)\n",
    "ms_fos = metrics.get_foscttm(ms_dist)\n",
    "gl_fos = metrics.get_foscttm(gl_dist)"
   ]
  },
  {
   "cell_type": "code",
   "execution_count": 23,
   "id": "84b322a2",
   "metadata": {},
   "outputs": [
    {
     "data": {
      "text/plain": [
       "[0.038037838577156126,\n",
       " 0.034041833033694166,\n",
       " 0.08169077237694881,\n",
       " 0.07780616339370611]"
      ]
     },
     "execution_count": 23,
     "metadata": {},
     "output_type": "execute_result"
    }
   ],
   "source": [
    "foscttm_list = []\n",
    "foscttm_list.extend([mf_fos, gl_fos, scj_fos, ms_fos])\n",
    "foscttm_list"
   ]
  },
  {
   "cell_type": "markdown",
   "id": "f7138f12",
   "metadata": {},
   "source": [
    "## read in slt and ari values"
   ]
  },
  {
   "cell_type": "code",
   "execution_count": 19,
   "id": "c6b0fcf6",
   "metadata": {},
   "outputs": [
    {
     "data": {
      "text/plain": [
       "[0.5387545117479168,\n",
       " 0.5556004872371391,\n",
       " 0.5720980927286078,\n",
       " 0.5435032398561955]"
      ]
     },
     "execution_count": 19,
     "metadata": {},
     "output_type": "execute_result"
    }
   ],
   "source": [
    "slt_f1 = []\n",
    "ari_f1 = []\n",
    "\n",
    "mf_int = pd.read_csv(\"/atac_bench_nrz/10xpbmc/mf/metrics.csv\")\n",
    "ms_int = pd.read_csv(\"/atac_bench_nrz/10xpbmc/maestro/metrics.csv\")\n",
    "gl_int = pd.read_csv(\"/atac_bench_nrz/10xpbmc/glue/metrics.csv\")\n",
    "scj_int = pd.read_csv(\"/atac_bench_nrz/10xpbmc/scJoint/metrics.csv\")\n",
    "\n",
    "slt_f1.extend([mf_int.loc[0,'slt_f1'], gl_int.loc[0,'slt_f1'], scj_int.loc[0,'slt_f1'], ms_int.loc[0,'slt_f1']])\n",
    "ari_f1.extend([mf_int.loc[0,'ari_f1'], gl_int.loc[0,'ari_f1'], scj_int.loc[0,'ari_f1'], ms_int.loc[0,'ari_f1']])\n",
    "\n",
    "slt_f1"
   ]
  },
  {
   "cell_type": "code",
   "execution_count": 20,
   "id": "ac039f33",
   "metadata": {},
   "outputs": [
    {
     "data": {
      "text/plain": [
       "[0.6143712333107971,\n",
       " 0.6075829158252378,\n",
       " 0.6193348831892977,\n",
       " 0.6040566080199844]"
      ]
     },
     "execution_count": 20,
     "metadata": {},
     "output_type": "execute_result"
    }
   ],
   "source": [
    "ari_f1"
   ]
  },
  {
   "cell_type": "markdown",
   "id": "a7cd3c4a",
   "metadata": {},
   "source": [
    "## make into dataframe and save out"
   ]
  },
  {
   "cell_type": "code",
   "execution_count": 24,
   "id": "5318ea6a",
   "metadata": {},
   "outputs": [
    {
     "data": {
      "text/html": [
       "<div>\n",
       "<style scoped>\n",
       "    .dataframe tbody tr th:only-of-type {\n",
       "        vertical-align: middle;\n",
       "    }\n",
       "\n",
       "    .dataframe tbody tr th {\n",
       "        vertical-align: top;\n",
       "    }\n",
       "\n",
       "    .dataframe thead th {\n",
       "        text-align: right;\n",
       "    }\n",
       "</style>\n",
       "<table border=\"1\" class=\"dataframe\">\n",
       "  <thead>\n",
       "    <tr style=\"text-align: right;\">\n",
       "      <th></th>\n",
       "      <th>method</th>\n",
       "      <th>slt_f1</th>\n",
       "      <th>ari_f1</th>\n",
       "      <th>ann1</th>\n",
       "      <th>foscttm</th>\n",
       "    </tr>\n",
       "  </thead>\n",
       "  <tbody>\n",
       "    <tr>\n",
       "      <th>0</th>\n",
       "      <td>mf</td>\n",
       "      <td>0.538755</td>\n",
       "      <td>0.614371</td>\n",
       "      <td>0.921566</td>\n",
       "      <td>0.038038</td>\n",
       "    </tr>\n",
       "    <tr>\n",
       "      <th>1</th>\n",
       "      <td>gl</td>\n",
       "      <td>0.555600</td>\n",
       "      <td>0.607583</td>\n",
       "      <td>0.917931</td>\n",
       "      <td>0.034042</td>\n",
       "    </tr>\n",
       "    <tr>\n",
       "      <th>2</th>\n",
       "      <td>scj</td>\n",
       "      <td>0.572098</td>\n",
       "      <td>0.619335</td>\n",
       "      <td>0.818586</td>\n",
       "      <td>0.081691</td>\n",
       "    </tr>\n",
       "    <tr>\n",
       "      <th>3</th>\n",
       "      <td>ms</td>\n",
       "      <td>0.543503</td>\n",
       "      <td>0.604057</td>\n",
       "      <td>0.802657</td>\n",
       "      <td>0.077806</td>\n",
       "    </tr>\n",
       "  </tbody>\n",
       "</table>\n",
       "</div>"
      ],
      "text/plain": [
       "  method    slt_f1    ari_f1      ann1   foscttm\n",
       "0     mf  0.538755  0.614371  0.921566  0.038038\n",
       "1     gl  0.555600  0.607583  0.917931  0.034042\n",
       "2    scj  0.572098  0.619335  0.818586  0.081691\n",
       "3     ms  0.543503  0.604057  0.802657  0.077806"
      ]
     },
     "execution_count": 24,
     "metadata": {},
     "output_type": "execute_result"
    }
   ],
   "source": [
    "m = [\"mf\",\"gl\",\"scj\",\"ms\"]\n",
    "minfo = m\n",
    "\n",
    "data = {'method':minfo,'slt_f1': slt_f1, 'ari_f1':ari_f1,\n",
    "       'ann1':ann_listlv1, 'foscttm':foscttm_list}\n",
    "\n",
    "matching_result = pd.DataFrame(data)\n",
    "matching_result"
   ]
  },
  {
   "cell_type": "code",
   "execution_count": 25,
   "id": "042b8a25",
   "metadata": {},
   "outputs": [],
   "source": [
    "matching_result.to_csv(\"/atac_bench_nrz/10xpbmc/metric_results.csv\")"
   ]
  },
  {
   "cell_type": "markdown",
   "id": "e113678e",
   "metadata": {},
   "source": [
    "## knn true match percentage"
   ]
  },
  {
   "cell_type": "code",
   "execution_count": 26,
   "id": "dbe2c032",
   "metadata": {},
   "outputs": [],
   "source": [
    "# knn search tmp\n",
    "k = 100\n",
    "knn_match_mf = metrics.get_knn_alignment_score(\n",
    "    dist=mf_dist,\n",
    "    k_max=k\n",
    ")\n",
    "knn_match_scj = metrics.get_knn_alignment_score(\n",
    "    dist=scj_dist,\n",
    "    k_max=k\n",
    ")\n",
    "knn_match_ms = metrics.get_knn_alignment_score(\n",
    "    dist=ms_dist,\n",
    "    k_max=k\n",
    ")\n",
    "knn_match_gl = metrics.get_knn_alignment_score(\n",
    "    dist=gl_dist,\n",
    "    k_max=k\n",
    ")"
   ]
  },
  {
   "cell_type": "code",
   "execution_count": 27,
   "id": "77640916",
   "metadata": {},
   "outputs": [
    {
     "data": {
      "text/html": [
       "<div>\n",
       "<style scoped>\n",
       "    .dataframe tbody tr th:only-of-type {\n",
       "        vertical-align: middle;\n",
       "    }\n",
       "\n",
       "    .dataframe tbody tr th {\n",
       "        vertical-align: top;\n",
       "    }\n",
       "\n",
       "    .dataframe thead th {\n",
       "        text-align: right;\n",
       "    }\n",
       "</style>\n",
       "<table border=\"1\" class=\"dataframe\">\n",
       "  <thead>\n",
       "    <tr style=\"text-align: right;\">\n",
       "      <th></th>\n",
       "      <th>mf</th>\n",
       "      <th>scj</th>\n",
       "      <th>ms</th>\n",
       "      <th>gl</th>\n",
       "    </tr>\n",
       "  </thead>\n",
       "  <tbody>\n",
       "    <tr>\n",
       "      <th>0</th>\n",
       "      <td>0.018999</td>\n",
       "      <td>0.004750</td>\n",
       "      <td>0.004108</td>\n",
       "      <td>0.028370</td>\n",
       "    </tr>\n",
       "    <tr>\n",
       "      <th>1</th>\n",
       "      <td>0.031451</td>\n",
       "      <td>0.010783</td>\n",
       "      <td>0.007189</td>\n",
       "      <td>0.046598</td>\n",
       "    </tr>\n",
       "    <tr>\n",
       "      <th>2</th>\n",
       "      <td>0.042105</td>\n",
       "      <td>0.015918</td>\n",
       "      <td>0.010911</td>\n",
       "      <td>0.060719</td>\n",
       "    </tr>\n",
       "    <tr>\n",
       "      <th>3</th>\n",
       "      <td>0.052375</td>\n",
       "      <td>0.020796</td>\n",
       "      <td>0.013350</td>\n",
       "      <td>0.073941</td>\n",
       "    </tr>\n",
       "    <tr>\n",
       "      <th>4</th>\n",
       "      <td>0.061874</td>\n",
       "      <td>0.024134</td>\n",
       "      <td>0.016688</td>\n",
       "      <td>0.086521</td>\n",
       "    </tr>\n",
       "    <tr>\n",
       "      <th>...</th>\n",
       "      <td>...</td>\n",
       "      <td>...</td>\n",
       "      <td>...</td>\n",
       "      <td>...</td>\n",
       "    </tr>\n",
       "    <tr>\n",
       "      <th>95</th>\n",
       "      <td>0.410783</td>\n",
       "      <td>0.213479</td>\n",
       "      <td>0.237741</td>\n",
       "      <td>0.439024</td>\n",
       "    </tr>\n",
       "    <tr>\n",
       "      <th>96</th>\n",
       "      <td>0.412580</td>\n",
       "      <td>0.214249</td>\n",
       "      <td>0.238768</td>\n",
       "      <td>0.441078</td>\n",
       "    </tr>\n",
       "    <tr>\n",
       "      <th>97</th>\n",
       "      <td>0.414891</td>\n",
       "      <td>0.215019</td>\n",
       "      <td>0.240436</td>\n",
       "      <td>0.444159</td>\n",
       "    </tr>\n",
       "    <tr>\n",
       "      <th>98</th>\n",
       "      <td>0.418100</td>\n",
       "      <td>0.215918</td>\n",
       "      <td>0.242619</td>\n",
       "      <td>0.445956</td>\n",
       "    </tr>\n",
       "    <tr>\n",
       "      <th>99</th>\n",
       "      <td>0.421309</td>\n",
       "      <td>0.216945</td>\n",
       "      <td>0.244416</td>\n",
       "      <td>0.447497</td>\n",
       "    </tr>\n",
       "  </tbody>\n",
       "</table>\n",
       "<p>100 rows × 4 columns</p>\n",
       "</div>"
      ],
      "text/plain": [
       "          mf       scj        ms        gl\n",
       "0   0.018999  0.004750  0.004108  0.028370\n",
       "1   0.031451  0.010783  0.007189  0.046598\n",
       "2   0.042105  0.015918  0.010911  0.060719\n",
       "3   0.052375  0.020796  0.013350  0.073941\n",
       "4   0.061874  0.024134  0.016688  0.086521\n",
       "..       ...       ...       ...       ...\n",
       "95  0.410783  0.213479  0.237741  0.439024\n",
       "96  0.412580  0.214249  0.238768  0.441078\n",
       "97  0.414891  0.215019  0.240436  0.444159\n",
       "98  0.418100  0.215918  0.242619  0.445956\n",
       "99  0.421309  0.216945  0.244416  0.447497\n",
       "\n",
       "[100 rows x 4 columns]"
      ]
     },
     "execution_count": 27,
     "metadata": {},
     "output_type": "execute_result"
    }
   ],
   "source": [
    "data = {'mf': knn_match_mf,\n",
    "        'scj':knn_match_scj,\n",
    "        'ms':knn_match_ms,\n",
    "        'gl':knn_match_gl\n",
    "       }\n",
    "knn_tmp = pd.DataFrame(data)\n",
    "knn_tmp"
   ]
  },
  {
   "cell_type": "code",
   "execution_count": 38,
   "id": "76a57c70",
   "metadata": {},
   "outputs": [
    {
     "data": {
      "text/html": [
       "<div>\n",
       "<style scoped>\n",
       "    .dataframe tbody tr th:only-of-type {\n",
       "        vertical-align: middle;\n",
       "    }\n",
       "\n",
       "    .dataframe tbody tr th {\n",
       "        vertical-align: top;\n",
       "    }\n",
       "\n",
       "    .dataframe thead th {\n",
       "        text-align: right;\n",
       "    }\n",
       "</style>\n",
       "<table border=\"1\" class=\"dataframe\">\n",
       "  <thead>\n",
       "    <tr style=\"text-align: right;\">\n",
       "      <th></th>\n",
       "      <th>method</th>\n",
       "      <th>knn_tmp</th>\n",
       "      <th>step</th>\n",
       "    </tr>\n",
       "  </thead>\n",
       "  <tbody>\n",
       "    <tr>\n",
       "      <th>0</th>\n",
       "      <td>mf</td>\n",
       "      <td>0.018999</td>\n",
       "      <td>0</td>\n",
       "    </tr>\n",
       "    <tr>\n",
       "      <th>1</th>\n",
       "      <td>mf</td>\n",
       "      <td>0.031451</td>\n",
       "      <td>1</td>\n",
       "    </tr>\n",
       "    <tr>\n",
       "      <th>2</th>\n",
       "      <td>mf</td>\n",
       "      <td>0.042105</td>\n",
       "      <td>2</td>\n",
       "    </tr>\n",
       "    <tr>\n",
       "      <th>3</th>\n",
       "      <td>mf</td>\n",
       "      <td>0.052375</td>\n",
       "      <td>3</td>\n",
       "    </tr>\n",
       "    <tr>\n",
       "      <th>4</th>\n",
       "      <td>mf</td>\n",
       "      <td>0.061874</td>\n",
       "      <td>4</td>\n",
       "    </tr>\n",
       "    <tr>\n",
       "      <th>...</th>\n",
       "      <td>...</td>\n",
       "      <td>...</td>\n",
       "      <td>...</td>\n",
       "    </tr>\n",
       "    <tr>\n",
       "      <th>395</th>\n",
       "      <td>ms</td>\n",
       "      <td>0.237741</td>\n",
       "      <td>95</td>\n",
       "    </tr>\n",
       "    <tr>\n",
       "      <th>396</th>\n",
       "      <td>ms</td>\n",
       "      <td>0.238768</td>\n",
       "      <td>96</td>\n",
       "    </tr>\n",
       "    <tr>\n",
       "      <th>397</th>\n",
       "      <td>ms</td>\n",
       "      <td>0.240436</td>\n",
       "      <td>97</td>\n",
       "    </tr>\n",
       "    <tr>\n",
       "      <th>398</th>\n",
       "      <td>ms</td>\n",
       "      <td>0.242619</td>\n",
       "      <td>98</td>\n",
       "    </tr>\n",
       "    <tr>\n",
       "      <th>399</th>\n",
       "      <td>ms</td>\n",
       "      <td>0.244416</td>\n",
       "      <td>99</td>\n",
       "    </tr>\n",
       "  </tbody>\n",
       "</table>\n",
       "<p>400 rows × 3 columns</p>\n",
       "</div>"
      ],
      "text/plain": [
       "    method   knn_tmp  step\n",
       "0       mf  0.018999     0\n",
       "1       mf  0.031451     1\n",
       "2       mf  0.042105     2\n",
       "3       mf  0.052375     3\n",
       "4       mf  0.061874     4\n",
       "..     ...       ...   ...\n",
       "395     ms  0.237741    95\n",
       "396     ms  0.238768    96\n",
       "397     ms  0.240436    97\n",
       "398     ms  0.242619    98\n",
       "399     ms  0.244416    99\n",
       "\n",
       "[400 rows x 3 columns]"
      ]
     },
     "execution_count": 38,
     "metadata": {},
     "output_type": "execute_result"
    }
   ],
   "source": [
    "import numpy as np\n",
    "\n",
    "knn_tmp = []\n",
    "knn_tmp.extend([knn_match_mf.tolist(), knn_match_gl.tolist(),\n",
    "                knn_match_scj.tolist(), knn_match_ms.tolist()])\n",
    "m = np.array([\"mf\", \"gl\",\"scj\",\"ms\"])\n",
    "minfo = np.repeat(m, [100,100,100,100], axis=0).tolist()\n",
    "minfo2 = minfo #* 5\n",
    "knn = [item for sublist in knn_tmp for item in sublist]\n",
    "step = [i for i in range(100)]*4 #*5\n",
    "data = {'method':minfo2,'knn_tmp': knn, 'step':step }\n",
    "\n",
    "knn_result = pd.DataFrame(data)\n",
    "knn_result"
   ]
  },
  {
   "cell_type": "code",
   "execution_count": 39,
   "id": "65cffba2",
   "metadata": {},
   "outputs": [],
   "source": [
    "# save the results as csvs\n",
    "knn_result.to_csv(\"/atac_bench_nrz/10xpbmc/knntmp.csv\")"
   ]
  }
 ],
 "metadata": {
  "kernelspec": {
   "display_name": "Python 3 (ipykernel)",
   "language": "python",
   "name": "python3"
  },
  "language_info": {
   "codemirror_mode": {
    "name": "ipython",
    "version": 3
   },
   "file_extension": ".py",
   "mimetype": "text/x-python",
   "name": "python",
   "nbconvert_exporter": "python",
   "pygments_lexer": "ipython3",
   "version": "3.8.12"
  }
 },
 "nbformat": 4,
 "nbformat_minor": 5
}
