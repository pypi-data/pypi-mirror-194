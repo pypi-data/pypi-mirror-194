{
 "cells": [
  {
   "cell_type": "markdown",
   "id": "b3a9e480-3cae-4225-b4a7-aa86520c2825",
   "metadata": {},
   "source": [
    "# Model evaluation\n",
    "In some cases, we may not know the number of segments or we may wish to compare a power law against other types of rating models.\n",
    "For these cases, we can use information criteria to select the best model."
   ]
  },
  {
   "cell_type": "code",
   "execution_count": 1,
   "id": "759ca393-1eff-40ec-9bf4-ac1587b89021",
   "metadata": {},
   "outputs": [
    {
     "name": "stdout",
     "output_type": "stream",
     "text": [
      "Exception reporting mode: Minimal\n"
     ]
    }
   ],
   "source": [
    "# load tutorial data\n",
    "from ratingcurve import data\n",
    "%load_ext autoreload\n",
    "%autoreload 2\n",
    "%xmode minimal\n",
    "#suppress warnings and errors\n",
    "\n",
    "\n",
    "import pymc as pm\n",
    "import arviz as az\n",
    "from ratingcurve.ratingmodel import PowerLawRating\n",
    "\n",
    "from ratingcurve import data\n",
    "\n",
    "df = data.load('green channel')"
   ]
  },
  {
   "cell_type": "markdown",
   "id": "5ac37f02-d8bc-43a3-897f-7706d7f3ca45",
   "metadata": {},
   "source": [
    "Fit the data to ratings with 1 to 4 segments and determine which is best."
   ]
  },
  {
   "cell_type": "code",
   "execution_count": 2,
   "id": "5ed05686-8f71-4f92-b66a-9b87270bf497",
   "metadata": {},
   "outputs": [
    {
     "name": "stderr",
     "output_type": "stream",
     "text": [
      "Finished [100%]: Average Loss = -38.11\n",
      "Finished [100%]: Average Loss = -49.333\n",
      "Finished [100%]: Average Loss = -44.883\n",
      "Finished [100%]: Average Loss = -28.19\n"
     ]
    }
   ],
   "source": [
    "%%capture\n",
    "# OUtput supressed, this will print \"Finished\" after running each of the four models\n",
    "\n",
    "segments = [1, 2, 3, 4]\n",
    "traces = []\n",
    "for segment in segments:\n",
    "    powerrating = PowerLawRating(q=df['q'],\n",
    "                             h=df['stage'], \n",
    "                             q_sigma=df['q_sigma'],\n",
    "                             segments=segment,\n",
    "                             prior={'distribution':'uniform'})\n",
    "    with powerrating:\n",
    "            mean_field = pm.fit(method='advi', n=150_000)\n",
    "            trace = mean_field.sample(5000)\n",
    "            traces.append(pm.compute_log_likelihood(trace)) # Add arg to compute log likelihood"
   ]
  },
  {
   "cell_type": "markdown",
   "id": "e721af24-443f-4599-99f9-7c118b671333",
   "metadata": {},
   "source": [
    "now use `arviz.compare` to format the output"
   ]
  },
  {
   "cell_type": "code",
   "execution_count": 3,
   "id": "17acf06c-3508-4f75-a06e-d6f8f4f96a0e",
   "metadata": {},
   "outputs": [
    {
     "data": {
      "text/html": [
       "<div>\n",
       "<style scoped>\n",
       "    .dataframe tbody tr th:only-of-type {\n",
       "        vertical-align: middle;\n",
       "    }\n",
       "\n",
       "    .dataframe tbody tr th {\n",
       "        vertical-align: top;\n",
       "    }\n",
       "\n",
       "    .dataframe thead th {\n",
       "        text-align: right;\n",
       "    }\n",
       "</style>\n",
       "<table border=\"1\" class=\"dataframe\">\n",
       "  <thead>\n",
       "    <tr style=\"text-align: right;\">\n",
       "      <th></th>\n",
       "      <th>rank</th>\n",
       "      <th>elpd_waic</th>\n",
       "      <th>p_waic</th>\n",
       "      <th>elpd_diff</th>\n",
       "      <th>weight</th>\n",
       "      <th>se</th>\n",
       "      <th>dse</th>\n",
       "      <th>warning</th>\n",
       "      <th>scale</th>\n",
       "    </tr>\n",
       "  </thead>\n",
       "  <tbody>\n",
       "    <tr>\n",
       "      <th>2 segment</th>\n",
       "      <td>0</td>\n",
       "      <td>72.105324</td>\n",
       "      <td>6.656599</td>\n",
       "      <td>0.000000</td>\n",
       "      <td>1.000000e+00</td>\n",
       "      <td>3.598680</td>\n",
       "      <td>0.000000</td>\n",
       "      <td>True</td>\n",
       "      <td>log</td>\n",
       "    </tr>\n",
       "    <tr>\n",
       "      <th>3 segment</th>\n",
       "      <td>1</td>\n",
       "      <td>56.674576</td>\n",
       "      <td>21.272083</td>\n",
       "      <td>15.430748</td>\n",
       "      <td>0.000000e+00</td>\n",
       "      <td>6.694918</td>\n",
       "      <td>5.261154</td>\n",
       "      <td>True</td>\n",
       "      <td>log</td>\n",
       "    </tr>\n",
       "    <tr>\n",
       "      <th>1 segment</th>\n",
       "      <td>2</td>\n",
       "      <td>53.496233</td>\n",
       "      <td>4.434619</td>\n",
       "      <td>18.609091</td>\n",
       "      <td>0.000000e+00</td>\n",
       "      <td>3.277646</td>\n",
       "      <td>4.865267</td>\n",
       "      <td>True</td>\n",
       "      <td>log</td>\n",
       "    </tr>\n",
       "    <tr>\n",
       "      <th>4 segment</th>\n",
       "      <td>3</td>\n",
       "      <td>39.667206</td>\n",
       "      <td>16.799477</td>\n",
       "      <td>32.438117</td>\n",
       "      <td>8.739676e-13</td>\n",
       "      <td>8.918132</td>\n",
       "      <td>9.743546</td>\n",
       "      <td>True</td>\n",
       "      <td>log</td>\n",
       "    </tr>\n",
       "  </tbody>\n",
       "</table>\n",
       "</div>"
      ],
      "text/plain": [
       "           rank  elpd_waic     p_waic  elpd_diff        weight        se  \\\n",
       "2 segment     0  72.105324   6.656599   0.000000  1.000000e+00  3.598680   \n",
       "3 segment     1  56.674576  21.272083  15.430748  0.000000e+00  6.694918   \n",
       "1 segment     2  53.496233   4.434619  18.609091  0.000000e+00  3.277646   \n",
       "4 segment     3  39.667206  16.799477  32.438117  8.739676e-13  8.918132   \n",
       "\n",
       "                dse  warning scale  \n",
       "2 segment  0.000000     True   log  \n",
       "3 segment  5.261154     True   log  \n",
       "1 segment  4.865267     True   log  \n",
       "4 segment  9.743546     True   log  "
      ]
     },
     "execution_count": 3,
     "metadata": {},
     "output_type": "execute_result"
    }
   ],
   "source": [
    "# this model will generate warnings about the WAIC\n",
    "import warnings; warnings.filterwarnings('ignore')\n",
    "\n",
    "compare_dict = {f'{i} segment': traces[i-1] for i in segments}\n",
    "az.compare(compare_dict, ic='waic')"
   ]
  },
  {
   "cell_type": "markdown",
   "id": "e6fd93c5-a2e8-4087-be47-60d780634233",
   "metadata": {},
   "source": [
    "As we expected, the 2-segment model was ranked highest."
   ]
  },
  {
   "cell_type": "markdown",
   "id": "41820b01-addf-46ca-ae27-fbee0e340e65",
   "metadata": {},
   "source": [
    "# Residuals\n",
    "In practice, it can be helpful to plot to rating error\n",
    "(the deviations between the rating fit and the discharge observations).\n",
    "Here is a demonstration of how."
   ]
  },
  {
   "cell_type": "code",
   "execution_count": 4,
   "id": "afc0eea5-fb4a-4c33-8016-d69dc782d1b2",
   "metadata": {},
   "outputs": [],
   "source": [
    "import matplotlib.pyplot as plt\n",
    "\n",
    "segments = 2\n",
    "powerrating = PowerLawRating(q=df['q'],\n",
    "                             h=df['stage'], \n",
    "                             q_sigma=df['q_sigma'],\n",
    "                             segments=segments,\n",
    "                             prior={'distribution':'uniform'})"
   ]
  },
  {
   "cell_type": "code",
   "execution_count": 5,
   "id": "9767ee90-d713-4e43-9ce5-582964b005c0",
   "metadata": {},
   "outputs": [
    {
     "data": {
      "text/html": [
       "\n",
       "<style>\n",
       "    /* Turns off some styling */\n",
       "    progress {\n",
       "        /* gets rid of default border in Firefox and Opera. */\n",
       "        border: none;\n",
       "        /* Needs to be in here for Safari polyfill so background images work as expected. */\n",
       "        background-size: auto;\n",
       "    }\n",
       "    progress:not([value]), progress:not([value])::-webkit-progress-bar {\n",
       "        background: repeating-linear-gradient(45deg, #7e7e7e, #7e7e7e 10px, #5c5c5c 10px, #5c5c5c 20px);\n",
       "    }\n",
       "    .progress-bar-interrupted, .progress-bar-interrupted::-webkit-progress-bar {\n",
       "        background: #F44336;\n",
       "    }\n",
       "</style>\n"
      ],
      "text/plain": [
       "<IPython.core.display.HTML object>"
      ]
     },
     "metadata": {},
     "output_type": "display_data"
    },
    {
     "data": {
      "text/html": [
       "\n",
       "    <div>\n",
       "      <progress value='150000' class='' max='150000' style='width:300px; height:20px; vertical-align: middle;'></progress>\n",
       "      100.00% [150000/150000 00:13&lt;00:00 Average Loss = -49.601]\n",
       "    </div>\n",
       "    "
      ],
      "text/plain": [
       "<IPython.core.display.HTML object>"
      ]
     },
     "metadata": {},
     "output_type": "display_data"
    },
    {
     "name": "stderr",
     "output_type": "stream",
     "text": [
      "Finished [100%]: Average Loss = -49.609\n"
     ]
    }
   ],
   "source": [
    "with powerrating:\n",
    "    mean_field = pm.fit(method='advi', n=150_000)\n",
    "    trace = mean_field.sample(5000)"
   ]
  },
  {
   "cell_type": "code",
   "execution_count": 6,
   "id": "62bb69e6-8537-4621-99ce-a5d0bae60fba",
   "metadata": {},
   "outputs": [
    {
     "data": {
      "text/plain": [
       "Text(0, 0.5, '')"
      ]
     },
     "execution_count": 6,
     "metadata": {},
     "output_type": "execute_result"
    },
    {
     "data": {
      "image/png": "[encoded data removed]",
      "text/plain": [
       "<Figure size 700x700 with 2 Axes>"
      ]
     },
     "metadata": {},
     "output_type": "display_data"
    }
   ],
   "source": [
    "fig, ax = plt.subplots(1, 2, figsize=(7,7), sharey=True)\n",
    "\n",
    "powerrating.plot(trace, ax[0])\n",
    "powerrating.plot_residuals(trace, ax[1])\n",
    "\n",
    "\n",
    "plt.subplots_adjust(wspace=0.1)\n",
    "ax[1].set_ylabel('')"
   ]
  }
 ],
 "metadata": {
  "kernelspec": {
   "display_name": "ratingcurve",
   "language": "python",
   "name": "ratingcurve"
  },
  "language_info": {
   "codemirror_mode": {
    "name": "ipython",
    "version": 3
   },
   "file_extension": ".py",
   "mimetype": "text/x-python",
   "name": "python",
   "nbconvert_exporter": "python",
   "pygments_lexer": "ipython3",
   "version": "3.11.0"
  }
 },
 "nbformat": 4,
 "nbformat_minor": 5
}
