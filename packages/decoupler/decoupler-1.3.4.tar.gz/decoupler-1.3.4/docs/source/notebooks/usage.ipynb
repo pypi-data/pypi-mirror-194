{
 "cells": [
  {
   "cell_type": "markdown",
   "id": "713d9b4a",
   "metadata": {},
   "source": [
    "# Usage\n",
    "\n",
    "`decoupler` contains different statistical methods to extract biological activities from omics data using prior knowledge. In this notebook we showcase how to use it with some toy data."
   ]
  },
  {
   "cell_type": "markdown",
   "id": "4fc236eb",
   "metadata": {},
   "source": [
    "<div class=\"alert alert-info\">\n",
    "\n",
    "**Note**\n",
    "    \n",
    "In Jupyter notebooks and lab, you can see the documentation for a python function by hitting `SHIFT + TAB`, hit it twice to expand the view, or by typing `?name_of_function`.\n",
    "\n",
    "</div>  "
   ]
  },
  {
   "cell_type": "markdown",
   "id": "2337c9d3",
   "metadata": {},
   "source": [
    "## Loading packages\n",
    "\n",
    "`decoupler` can be imported as:"
   ]
  },
  {
   "cell_type": "code",
   "execution_count": 1,
   "id": "c6c36a9e",
   "metadata": {},
   "outputs": [],
   "source": [
    "import decoupler as dc\n",
    "\n",
    "# Only needed for visualization:\n",
    "import matplotlib.pyplot as plt\n",
    "import seaborn as sns"
   ]
  },
  {
   "cell_type": "markdown",
   "id": "f069cafc",
   "metadata": {},
   "source": [
    "<div class=\"alert alert-info\">\n",
    "\n",
    "**Note**\n",
    "    \n",
    "The first time `decoupler` is imported in an enviroment can be slow. This is due to numba compiling its source code. After the first usage it will be stored in cache, making the import time normal again.\n",
    "\n",
    "</div>  "
   ]
  },
  {
   "cell_type": "markdown",
   "id": "3316c8ad",
   "metadata": {},
   "source": [
    "## Loading toy data\n",
    "\n",
    "`decoupler` needs a matrix (`mat`) of molecular readouts (gene expression, logFC, p-values, etc.) and a network (`net`) that relates target features (genes, proteins, etc.) to \"source\" biological entities (pathways, transcription factors, molecular processes, etc.)\n",
    "\n",
    "To load the example data-set, simply run:"
   ]
  },
  {
   "cell_type": "code",
   "execution_count": 2,
   "id": "1a85cb79",
   "metadata": {},
   "outputs": [],
   "source": [
    "mat, net = dc.get_toy_data()"
   ]
  },
  {
   "cell_type": "markdown",
   "id": "59856674",
   "metadata": {},
   "source": [
    "This example consists of two small populations of samples (S, rows) with different gene expression patterns (G, columns):"
   ]
  },
  {
   "cell_type": "code",
   "execution_count": 3,
   "id": "0996787b",
   "metadata": {},
   "outputs": [
    {
     "data": {
      "image/png": "[encoded data removed]",
      "text/plain": [
       "<Figure size 432x288 with 2 Axes>"
      ]
     },
     "metadata": {
      "needs_background": "light"
     },
     "output_type": "display_data"
    }
   ],
   "source": [
    "sns.heatmap(mat, cmap='viridis')\n",
    "plt.show()"
   ]
  },
  {
   "cell_type": "markdown",
   "id": "6898f90c",
   "metadata": {},
   "source": [
    "Here we can see that some genes seem to be more expressed in one group of samples than in the other and vice-versa. Ideally, we would like to capture these differences in gene programs into interpretable biological entities. In this example we will do it by summarizing gene expression into transcription factor activities."
   ]
  },
  {
   "cell_type": "markdown",
   "id": "ab820efd",
   "metadata": {},
   "source": [
    "The toy data also contains a simple `net` consisting of 5 transcription factors (Ts) with specific regulation to target genes (Gs), either positive or negative:"
   ]
  },
  {
   "cell_type": "code",
   "execution_count": 4,
   "id": "184c02ee",
   "metadata": {},
   "outputs": [
    {
     "data": {
      "text/html": [
       "<div>\n",
       "<style scoped>\n",
       "    .dataframe tbody tr th:only-of-type {\n",
       "        vertical-align: middle;\n",
       "    }\n",
       "\n",
       "    .dataframe tbody tr th {\n",
       "        vertical-align: top;\n",
       "    }\n",
       "\n",
       "    .dataframe thead th {\n",
       "        text-align: right;\n",
       "    }\n",
       "</style>\n",
       "<table border=\"1\" class=\"dataframe\">\n",
       "  <thead>\n",
       "    <tr style=\"text-align: right;\">\n",
       "      <th></th>\n",
       "      <th>source</th>\n",
       "      <th>target</th>\n",
       "      <th>weight</th>\n",
       "    </tr>\n",
       "  </thead>\n",
       "  <tbody>\n",
       "    <tr>\n",
       "      <th>0</th>\n",
       "      <td>T1</td>\n",
       "      <td>G01</td>\n",
       "      <td>1.0</td>\n",
       "    </tr>\n",
       "    <tr>\n",
       "      <th>1</th>\n",
       "      <td>T1</td>\n",
       "      <td>G02</td>\n",
       "      <td>1.0</td>\n",
       "    </tr>\n",
       "    <tr>\n",
       "      <th>2</th>\n",
       "      <td>T1</td>\n",
       "      <td>G03</td>\n",
       "      <td>0.7</td>\n",
       "    </tr>\n",
       "    <tr>\n",
       "      <th>3</th>\n",
       "      <td>T2</td>\n",
       "      <td>G04</td>\n",
       "      <td>1.0</td>\n",
       "    </tr>\n",
       "    <tr>\n",
       "      <th>4</th>\n",
       "      <td>T2</td>\n",
       "      <td>G06</td>\n",
       "      <td>-0.5</td>\n",
       "    </tr>\n",
       "    <tr>\n",
       "      <th>5</th>\n",
       "      <td>T2</td>\n",
       "      <td>G07</td>\n",
       "      <td>-3.0</td>\n",
       "    </tr>\n",
       "    <tr>\n",
       "      <th>6</th>\n",
       "      <td>T2</td>\n",
       "      <td>G08</td>\n",
       "      <td>-1.0</td>\n",
       "    </tr>\n",
       "    <tr>\n",
       "      <th>7</th>\n",
       "      <td>T3</td>\n",
       "      <td>G06</td>\n",
       "      <td>1.0</td>\n",
       "    </tr>\n",
       "    <tr>\n",
       "      <th>8</th>\n",
       "      <td>T3</td>\n",
       "      <td>G07</td>\n",
       "      <td>0.5</td>\n",
       "    </tr>\n",
       "    <tr>\n",
       "      <th>9</th>\n",
       "      <td>T3</td>\n",
       "      <td>G08</td>\n",
       "      <td>1.0</td>\n",
       "    </tr>\n",
       "    <tr>\n",
       "      <th>10</th>\n",
       "      <td>T4</td>\n",
       "      <td>G05</td>\n",
       "      <td>1.9</td>\n",
       "    </tr>\n",
       "    <tr>\n",
       "      <th>11</th>\n",
       "      <td>T4</td>\n",
       "      <td>G10</td>\n",
       "      <td>-1.5</td>\n",
       "    </tr>\n",
       "    <tr>\n",
       "      <th>12</th>\n",
       "      <td>T4</td>\n",
       "      <td>G11</td>\n",
       "      <td>-2.0</td>\n",
       "    </tr>\n",
       "    <tr>\n",
       "      <th>13</th>\n",
       "      <td>T4</td>\n",
       "      <td>G09</td>\n",
       "      <td>3.1</td>\n",
       "    </tr>\n",
       "    <tr>\n",
       "      <th>14</th>\n",
       "      <td>T5</td>\n",
       "      <td>G09</td>\n",
       "      <td>0.7</td>\n",
       "    </tr>\n",
       "    <tr>\n",
       "      <th>15</th>\n",
       "      <td>T5</td>\n",
       "      <td>G10</td>\n",
       "      <td>1.1</td>\n",
       "    </tr>\n",
       "    <tr>\n",
       "      <th>16</th>\n",
       "      <td>T5</td>\n",
       "      <td>G11</td>\n",
       "      <td>0.1</td>\n",
       "    </tr>\n",
       "  </tbody>\n",
       "</table>\n",
       "</div>"
      ],
      "text/plain": [
       "   source target  weight\n",
       "0      T1    G01     1.0\n",
       "1      T1    G02     1.0\n",
       "2      T1    G03     0.7\n",
       "3      T2    G04     1.0\n",
       "4      T2    G06    -0.5\n",
       "5      T2    G07    -3.0\n",
       "6      T2    G08    -1.0\n",
       "7      T3    G06     1.0\n",
       "8      T3    G07     0.5\n",
       "9      T3    G08     1.0\n",
       "10     T4    G05     1.9\n",
       "11     T4    G10    -1.5\n",
       "12     T4    G11    -2.0\n",
       "13     T4    G09     3.1\n",
       "14     T5    G09     0.7\n",
       "15     T5    G10     1.1\n",
       "16     T5    G11     0.1"
      ]
     },
     "execution_count": 4,
     "metadata": {},
     "output_type": "execute_result"
    }
   ],
   "source": [
    "net"
   ]
  },
  {
   "cell_type": "markdown",
   "id": "2f5a37e7",
   "metadata": {},
   "source": [
    "This network can be visualized like a graph. Green edges are positive regulation (activation), red edges are negative regulation (inactivation):\n",
    "\n",
    "![](../net_plot.png)"
   ]
  },
  {
   "cell_type": "markdown",
   "id": "e2eba9a7",
   "metadata": {},
   "source": [
    "According to this network, the first population of samples should show high activity for T1 and T2, while the second one for T3 and T4. T5 should have no activity in all samples."
   ]
  },
  {
   "cell_type": "markdown",
   "id": "0adc4371",
   "metadata": {},
   "source": [
    "## Methods\n",
    "\n",
    "`decoupler` contains several methods. To check how many are available, run:"
   ]
  },
  {
   "cell_type": "code",
   "execution_count": 5,
   "id": "8d022899",
   "metadata": {},
   "outputs": [
    {
     "data": {
      "text/html": [
       "<div>\n",
       "<style scoped>\n",
       "    .dataframe tbody tr th:only-of-type {\n",
       "        vertical-align: middle;\n",
       "    }\n",
       "\n",
       "    .dataframe tbody tr th {\n",
       "        vertical-align: top;\n",
       "    }\n",
       "\n",
       "    .dataframe thead th {\n",
       "        text-align: right;\n",
       "    }\n",
       "</style>\n",
       "<table border=\"1\" class=\"dataframe\">\n",
       "  <thead>\n",
       "    <tr style=\"text-align: right;\">\n",
       "      <th></th>\n",
       "      <th>Function</th>\n",
       "      <th>Name</th>\n",
       "    </tr>\n",
       "  </thead>\n",
       "  <tbody>\n",
       "    <tr>\n",
       "      <th>0</th>\n",
       "      <td>run_aucell</td>\n",
       "      <td>AUCell.</td>\n",
       "    </tr>\n",
       "    <tr>\n",
       "      <th>1</th>\n",
       "      <td>run_consensus</td>\n",
       "      <td>Consensus score from top methods.</td>\n",
       "    </tr>\n",
       "    <tr>\n",
       "      <th>2</th>\n",
       "      <td>run_gsea</td>\n",
       "      <td>Gene Set Enrichment Analysis (GSEA).</td>\n",
       "    </tr>\n",
       "    <tr>\n",
       "      <th>3</th>\n",
       "      <td>run_gsva</td>\n",
       "      <td>Gene Set Variation Analysis (GSVA).</td>\n",
       "    </tr>\n",
       "    <tr>\n",
       "      <th>4</th>\n",
       "      <td>run_mdt</td>\n",
       "      <td>Multivariate Decision Tree (MDT).</td>\n",
       "    </tr>\n",
       "    <tr>\n",
       "      <th>5</th>\n",
       "      <td>run_mlm</td>\n",
       "      <td>Multivariate Linear Model (MLM).</td>\n",
       "    </tr>\n",
       "    <tr>\n",
       "      <th>6</th>\n",
       "      <td>run_ora</td>\n",
       "      <td>Over Representation Analysis (ORA).</td>\n",
       "    </tr>\n",
       "    <tr>\n",
       "      <th>7</th>\n",
       "      <td>run_udt</td>\n",
       "      <td>Univariate Decision Tree (UDT).</td>\n",
       "    </tr>\n",
       "    <tr>\n",
       "      <th>8</th>\n",
       "      <td>run_ulm</td>\n",
       "      <td>Univariate Linear Model (ULM).</td>\n",
       "    </tr>\n",
       "    <tr>\n",
       "      <th>9</th>\n",
       "      <td>run_viper</td>\n",
       "      <td>Virtual Inference of Protein-activity by Enric...</td>\n",
       "    </tr>\n",
       "    <tr>\n",
       "      <th>10</th>\n",
       "      <td>run_wmean</td>\n",
       "      <td>Weighted sum (WMEAN).</td>\n",
       "    </tr>\n",
       "    <tr>\n",
       "      <th>11</th>\n",
       "      <td>run_wsum</td>\n",
       "      <td>Weighted sum (WSUM).</td>\n",
       "    </tr>\n",
       "  </tbody>\n",
       "</table>\n",
       "</div>"
      ],
      "text/plain": [
       "         Function                                               Name\n",
       "0      run_aucell                                            AUCell.\n",
       "1   run_consensus                  Consensus score from top methods.\n",
       "2        run_gsea               Gene Set Enrichment Analysis (GSEA).\n",
       "3        run_gsva                Gene Set Variation Analysis (GSVA).\n",
       "4         run_mdt                  Multivariate Decision Tree (MDT).\n",
       "5         run_mlm                   Multivariate Linear Model (MLM).\n",
       "6         run_ora                Over Representation Analysis (ORA).\n",
       "7         run_udt                    Univariate Decision Tree (UDT).\n",
       "8         run_ulm                     Univariate Linear Model (ULM).\n",
       "9       run_viper  Virtual Inference of Protein-activity by Enric...\n",
       "10      run_wmean                              Weighted sum (WMEAN).\n",
       "11       run_wsum                               Weighted sum (WSUM)."
      ]
     },
     "execution_count": 5,
     "metadata": {},
     "output_type": "execute_result"
    }
   ],
   "source": [
    "dc.show_methods()"
   ]
  },
  {
   "cell_type": "markdown",
   "id": "f64f1bdc",
   "metadata": {},
   "source": [
    "Each method models biological activities in a different manner, sometimes returning more than one estimate or providing significance of the estimation. To know what each method returns, please check their documentation like this `?run_mlm`."
   ]
  },
  {
   "cell_type": "markdown",
   "id": "590e371b",
   "metadata": {},
   "source": [
    "To have a unified framework, methods inside `decoupler` have these shared arguments:\n",
    "\n",
    "* `mat` : input matrix of molecular readouts.\n",
    "* `net` : input prior knowledge information relating molecular features to biological entities.\n",
    "* `source`,`target` and `weight` : column names where to extract the information from `net`. \n",
    "    * `source` refers to the biological entities.\n",
    "    * `target` refers to the molecular features.\n",
    "    * `weight` refers to the \"strength\" of the interaction (if available, else 1s will be used). Only available for methods that can model interaction weights.\n",
    "* `min_n` : Minimum of target features per biological entity (5 by default). If less, sources are removed. This filtering prevents obtaining noisy activities from biological entities with very few matching target features in `mat`. For this example data-set we will have to keep it to 0 though.\n",
    "* `verbose` : Whether to show progress.\n",
    "* `use_raw` : When the input is an `AnnData` object, whether to use the data stored in it's `.raw` atribute or not (`True` by default)."
   ]
  },
  {
   "cell_type": "markdown",
   "id": "0f85f343",
   "metadata": {},
   "source": [
    "## Running methods\n",
    "\n",
    "### Individual methods\n",
    "\n",
    "As an example, let's first run the Gene Set Enrichment Analysis method (`gsea`), one of the most well-known statistics:"
   ]
  },
  {
   "cell_type": "code",
   "execution_count": 6,
   "id": "75ccd460",
   "metadata": {},
   "outputs": [
    {
     "data": {
      "text/html": [
       "<div>\n",
       "<style scoped>\n",
       "    .dataframe tbody tr th:only-of-type {\n",
       "        vertical-align: middle;\n",
       "    }\n",
       "\n",
       "    .dataframe tbody tr th {\n",
       "        vertical-align: top;\n",
       "    }\n",
       "\n",
       "    .dataframe thead th {\n",
       "        text-align: right;\n",
       "    }\n",
       "</style>\n",
       "<table border=\"1\" class=\"dataframe\">\n",
       "  <thead>\n",
       "    <tr style=\"text-align: right;\">\n",
       "      <th>source</th>\n",
       "      <th>T1</th>\n",
       "      <th>T2</th>\n",
       "      <th>T3</th>\n",
       "      <th>T4</th>\n",
       "      <th>T5</th>\n",
       "    </tr>\n",
       "  </thead>\n",
       "  <tbody>\n",
       "    <tr>\n",
       "      <th>S01</th>\n",
       "      <td>0.888889</td>\n",
       "      <td>0.711597</td>\n",
       "      <td>-0.555556</td>\n",
       "      <td>-0.50</td>\n",
       "      <td>-0.666667</td>\n",
       "    </tr>\n",
       "    <tr>\n",
       "      <th>S02</th>\n",
       "      <td>0.888889</td>\n",
       "      <td>0.699385</td>\n",
       "      <td>-0.555556</td>\n",
       "      <td>-0.50</td>\n",
       "      <td>-0.444444</td>\n",
       "    </tr>\n",
       "    <tr>\n",
       "      <th>S03</th>\n",
       "      <td>0.888889</td>\n",
       "      <td>0.551198</td>\n",
       "      <td>-0.444444</td>\n",
       "      <td>-0.75</td>\n",
       "      <td>-0.666667</td>\n",
       "    </tr>\n",
       "    <tr>\n",
       "      <th>S04</th>\n",
       "      <td>0.888889</td>\n",
       "      <td>0.607223</td>\n",
       "      <td>-0.666667</td>\n",
       "      <td>-0.50</td>\n",
       "      <td>-0.444444</td>\n",
       "    </tr>\n",
       "    <tr>\n",
       "      <th>S05</th>\n",
       "      <td>0.888889</td>\n",
       "      <td>0.732963</td>\n",
       "      <td>-0.888889</td>\n",
       "      <td>-0.50</td>\n",
       "      <td>-0.444444</td>\n",
       "    </tr>\n",
       "  </tbody>\n",
       "</table>\n",
       "</div>"
      ],
      "text/plain": [
       "source        T1        T2        T3    T4        T5\n",
       "S01     0.888889  0.711597 -0.555556 -0.50 -0.666667\n",
       "S02     0.888889  0.699385 -0.555556 -0.50 -0.444444\n",
       "S03     0.888889  0.551198 -0.444444 -0.75 -0.666667\n",
       "S04     0.888889  0.607223 -0.666667 -0.50 -0.444444\n",
       "S05     0.888889  0.732963 -0.888889 -0.50 -0.444444"
      ]
     },
     "execution_count": 6,
     "metadata": {},
     "output_type": "execute_result"
    }
   ],
   "source": [
    "# For this toy data, we need to set min_n to 0 (otherwise it is better to keep at 5):\n",
    "acts, norm_acts, pvals = dc.run_gsea(mat, net, min_n=0, times=100)\n",
    "acts.head()"
   ]
  },
  {
   "cell_type": "markdown",
   "id": "ffc2fd1f",
   "metadata": {},
   "source": [
    "In the case of `gsea`, it returns a simple estimate of activities (`acts`), a normalised estimate (`norm_acts`) and `pvals` data-frames after doing permutations."
   ]
  },
  {
   "cell_type": "markdown",
   "id": "44598ded",
   "metadata": {},
   "source": [
    "<div class=\"alert alert-info\">\n",
    "\n",
    "**Note**\n",
    "    \n",
    "If `mat` is an `AnnData` instance, results will instead be saved in its `.obsm` attribute.\n",
    "\n",
    "</div>  "
   ]
  },
  {
   "cell_type": "markdown",
   "id": "4f11b1d4",
   "metadata": {},
   "source": [
    "Let us plot the obtained results:"
   ]
  },
  {
   "cell_type": "code",
   "execution_count": 7,
   "id": "dd2b1fb4",
   "metadata": {},
   "outputs": [
    {
     "data": {
      "image/png": "[encoded data removed]",
      "text/plain": [
       "<Figure size 648x216 with 6 Axes>"
      ]
     },
     "metadata": {
      "needs_background": "light"
     },
     "output_type": "display_data"
    }
   ],
   "source": [
    "fig, axes = plt.subplots(1,3, figsize=(9,3), tight_layout=True, sharey=True)\n",
    "\n",
    "axes[0].set_title('acts')\n",
    "sns.heatmap(acts, cmap='coolwarm', vmin=-1, vmax=1, ax=axes[0])\n",
    "axes[1].set_title('norm_acts')\n",
    "sns.heatmap(norm_acts, cmap='coolwarm', vmin=-1, vmax=1, ax=axes[1])\n",
    "axes[2].set_title('pvals')\n",
    "sns.heatmap(pvals, cmap='viridis_r', ax=axes[2], vmax=1)\n",
    "\n",
    "plt.show()"
   ]
  },
  {
   "cell_type": "markdown",
   "id": "c476bc3a",
   "metadata": {},
   "source": [
    "We can observe that for transcription factors T1 and T3, the obtained activities correctly distinguish the two sample populations. T2, on the other hand, should be down for the second population of samples since it is a repressor. This mislabeling of activities happens because `gsea` cannot model weights when inferring biological activities.\n",
    "\n",
    "When weights are available in the prior knowledge, we definitely recommend using any of the methods that take them into account to get better estimates, one example is the Univariate Linear Model method `ulm`:"
   ]
  },
  {
   "cell_type": "code",
   "execution_count": 8,
   "id": "20525e79",
   "metadata": {},
   "outputs": [
    {
     "data": {
      "text/html": [
       "<div>\n",
       "<style scoped>\n",
       "    .dataframe tbody tr th:only-of-type {\n",
       "        vertical-align: middle;\n",
       "    }\n",
       "\n",
       "    .dataframe tbody tr th {\n",
       "        vertical-align: top;\n",
       "    }\n",
       "\n",
       "    .dataframe thead th {\n",
       "        text-align: right;\n",
       "    }\n",
       "</style>\n",
       "<table border=\"1\" class=\"dataframe\">\n",
       "  <thead>\n",
       "    <tr style=\"text-align: right;\">\n",
       "      <th></th>\n",
       "      <th>T1</th>\n",
       "      <th>T2</th>\n",
       "      <th>T3</th>\n",
       "      <th>T4</th>\n",
       "      <th>T5</th>\n",
       "    </tr>\n",
       "  </thead>\n",
       "  <tbody>\n",
       "    <tr>\n",
       "      <th>S01</th>\n",
       "      <td>4.020364</td>\n",
       "      <td>1.667426</td>\n",
       "      <td>-1.378734</td>\n",
       "      <td>-0.243605</td>\n",
       "      <td>-1.188728</td>\n",
       "    </tr>\n",
       "    <tr>\n",
       "      <th>S02</th>\n",
       "      <td>4.060294</td>\n",
       "      <td>1.392356</td>\n",
       "      <td>-1.313069</td>\n",
       "      <td>-0.387175</td>\n",
       "      <td>-1.102454</td>\n",
       "    </tr>\n",
       "    <tr>\n",
       "      <th>S03</th>\n",
       "      <td>4.189780</td>\n",
       "      <td>1.086979</td>\n",
       "      <td>-1.346471</td>\n",
       "      <td>-0.294281</td>\n",
       "      <td>-1.139018</td>\n",
       "    </tr>\n",
       "    <tr>\n",
       "      <th>S04</th>\n",
       "      <td>4.149534</td>\n",
       "      <td>1.395950</td>\n",
       "      <td>-1.332407</td>\n",
       "      <td>-0.273508</td>\n",
       "      <td>-1.197696</td>\n",
       "    </tr>\n",
       "    <tr>\n",
       "      <th>S05</th>\n",
       "      <td>4.052074</td>\n",
       "      <td>1.610522</td>\n",
       "      <td>-1.534533</td>\n",
       "      <td>-0.311155</td>\n",
       "      <td>-0.990895</td>\n",
       "    </tr>\n",
       "  </tbody>\n",
       "</table>\n",
       "</div>"
      ],
      "text/plain": [
       "           T1        T2        T3        T4        T5\n",
       "S01  4.020364  1.667426 -1.378734 -0.243605 -1.188728\n",
       "S02  4.060294  1.392356 -1.313069 -0.387175 -1.102454\n",
       "S03  4.189780  1.086979 -1.346471 -0.294281 -1.139018\n",
       "S04  4.149534  1.395950 -1.332407 -0.273508 -1.197696\n",
       "S05  4.052074  1.610522 -1.534533 -0.311155 -0.990895"
      ]
     },
     "execution_count": 8,
     "metadata": {},
     "output_type": "execute_result"
    }
   ],
   "source": [
    "# For this toy data, we need to set min_n to 0 (otherwise it is better to keep at 5):\n",
    "acts, pvals = dc.run_ulm(mat, net, min_n=0)\n",
    "acts.head()"
   ]
  },
  {
   "cell_type": "markdown",
   "id": "5ecc8fe7",
   "metadata": {},
   "source": [
    "In this case, `ulm` only returns infered activities and their associated p-value.\n",
    "\n",
    "As before, let us plot the resulting activities:"
   ]
  },
  {
   "cell_type": "code",
   "execution_count": 9,
   "id": "9c61d04b",
   "metadata": {},
   "outputs": [
    {
     "data": {
      "image/png": "[encoded data removed]",
      "text/plain": [
       "<Figure size 432x216 with 4 Axes>"
      ]
     },
     "metadata": {
      "needs_background": "light"
     },
     "output_type": "display_data"
    }
   ],
   "source": [
    "fig, axes = plt.subplots(1,2, figsize=(6,3), tight_layout=True, sharey=True)\n",
    "\n",
    "axes[0].set_title('acts')\n",
    "sns.heatmap(acts, cmap='coolwarm', vmin=-1, vmax=1, ax=axes[0])\n",
    "axes[1].set_title('pvals')\n",
    "sns.heatmap(pvals, cmap='viridis_r', ax=axes[1], vmax=1)\n",
    "\n",
    "plt.show()"
   ]
  },
  {
   "cell_type": "markdown",
   "id": "4c21c032",
   "metadata": {},
   "source": [
    "Since `ulm` models weights when estimating biological activities, it correctly assigns T2 as inactive in the second population of samples."
   ]
  },
  {
   "cell_type": "markdown",
   "id": "7e00a68b",
   "metadata": {},
   "source": [
    "### Multiple methods\n",
    "\n",
    "`decoupler` also allows to run multiple methods at the same time. Moreover, it computes a consensus score based on the obtained activities across methods, called `consensus`.\n",
    "\n",
    "By default, `deocuple` runs only the top performer methods in our benchmark (`mlm`, `ulm` and `wsum`), and estimates a consensus score across them. Specific arguments to specific methods can be passed using the variable `args`. For more information check `?decouple`. If we wanted to only obtain the consensus score, we could also have used `run_consensus`, check `?run_consensus` for more information."
   ]
  },
  {
   "cell_type": "code",
   "execution_count": 10,
   "id": "e3825926",
   "metadata": {},
   "outputs": [],
   "source": [
    "# For this toy data, we need to set min_n to 0 (otherwise it is better to keep at 5):\n",
    "results = dc.decouple(mat, net, min_n=0, verbose=False)"
   ]
  },
  {
   "cell_type": "markdown",
   "id": "0fb3db1b",
   "metadata": {},
   "source": [
    "`decouple` either returns a dictionary of activities and p-values, or stores them in the `AnnData` instance provided. \n",
    "\n",
    "Let us see how the consensus score looks like:"
   ]
  },
  {
   "cell_type": "code",
   "execution_count": 11,
   "id": "ddedb9dd",
   "metadata": {},
   "outputs": [],
   "source": [
    "# Extract from dictionary\n",
    "acts = results['consensus_estimate']\n",
    "pvals = results['consensus_pvals']"
   ]
  },
  {
   "cell_type": "code",
   "execution_count": 12,
   "id": "ca700b0f",
   "metadata": {},
   "outputs": [
    {
     "data": {
      "image/png": "[encoded data removed]",
      "text/plain": [
       "<Figure size 432x216 with 4 Axes>"
      ]
     },
     "metadata": {
      "needs_background": "light"
     },
     "output_type": "display_data"
    }
   ],
   "source": [
    "fig, axes = plt.subplots(1,2, figsize=(6,3), tight_layout=True, sharey=True)\n",
    "\n",
    "axes[0].set_title('acts')\n",
    "sns.heatmap(acts, cmap='coolwarm', vmin=-1, vmax=1, ax=axes[0])\n",
    "axes[1].set_title('pvals')\n",
    "sns.heatmap(pvals, cmap='viridis_r', ax=axes[1], vmax=1)\n",
    "\n",
    "plt.show()"
   ]
  },
  {
   "cell_type": "markdown",
   "id": "65e14da3",
   "metadata": {},
   "source": [
    "We can observe that the consensus score correctly predicts that T1 and T2 should be active in the first population of samples while T3 and T4 in the second one. T5 is inactive everywhere as expected."
   ]
  }
 ],
 "metadata": {
  "kernelspec": {
   "display_name": "decoupler",
   "language": "python",
   "name": "decoupler"
  },
  "language_info": {
   "codemirror_mode": {
    "name": "ipython",
    "version": 3
   },
   "file_extension": ".py",
   "mimetype": "text/x-python",
   "name": "python",
   "nbconvert_exporter": "python",
   "pygments_lexer": "ipython3",
   "version": "3.8.12"
  }
 },
 "nbformat": 4,
 "nbformat_minor": 5
}
