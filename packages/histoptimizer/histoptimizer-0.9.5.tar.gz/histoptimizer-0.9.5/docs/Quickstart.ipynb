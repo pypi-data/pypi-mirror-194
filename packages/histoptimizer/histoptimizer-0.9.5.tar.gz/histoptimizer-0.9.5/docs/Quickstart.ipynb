{
 "cells": [
  {
   "cell_type": "markdown",
   "metadata": {},
   "source": [
    "# Histoptimizer Quickstart\n",
    "\n",
    "## Base API\n",
    "\n",
    "Histoptimizer provides two APIs. The lower-level interface takes a list or NumPy array of floating point values, and returns two values: The optimal divider locations, and the variance they achieve:"
   ]
  },
  {
   "cell_type": "code",
   "execution_count": 1,
   "metadata": {},
   "outputs": [
    {
     "name": "stdout",
     "output_type": "stream",
     "text": [
      "Optimal Divider Locations: [5 9] Optimal solution variance: 6.842\n"
     ]
    }
   ],
   "source": [
    "from histoptimizer import Histoptimizer\n",
    "\n",
    "item_sizes = [1.0, 4.5, 6.3, 2.1, 8.4, 3.7, 8.6, 0.3, 5.2, 6.9, 1.2, 2.4, 9.8, 3.7]\n",
    "\n",
    "# Get the optimal position of two dividers that partition the list above into 3 buckets.\n",
    "(dividers, variance) = Histoptimizer.partition(item_sizes, 3)\n",
    "\n",
    "print(f\"Optimal Divider Locations: {dividers} Optimal solution variance: {variance:.4}\")"
   ]
  },
  {
   "cell_type": "markdown",
   "metadata": {},
   "source": [
    "`Histoptimizer` is a pure Python implementation, and slow. For improved performance, try the Numba JIT accelerated implementation, `NumbaOptimizer`. The API is the same:"
   ]
  },
  {
   "cell_type": "code",
   "execution_count": 2,
   "metadata": {},
   "outputs": [
    {
     "name": "stdout",
     "output_type": "stream",
     "text": [
      "Optimal Divider Locations: [5 9] Optimal solution variance: 6.842\n"
     ]
    }
   ],
   "source": [
    "from histoptimizer.numba_optimizer import NumbaOptimizer\n",
    "\n",
    "(dividers, variance) = NumbaOptimizer.partition(item_sizes, 3)\n",
    "\n",
    "print(f\"Optimal Divider Locations: {dividers} Optimal solution variance: {variance:.4}\")"
   ]
  },
  {
   "cell_type": "markdown",
   "metadata": {},
   "source": [
    "If you have an NVidia GPU and have installed the CUDA toolkit, you can use the CUDA-based `CUDAOptimizer`:"
   ]
  },
  {
   "cell_type": "code",
   "execution_count": 3,
   "metadata": {},
   "outputs": [
    {
     "name": "stdout",
     "output_type": "stream",
     "text": [
      "Optimal Divider Locations: [5 9] Optimal solution variance: 6.842\n"
     ]
    }
   ],
   "source": [
    "from histoptimizer.cuda import CUDAOptimizer\n",
    "\n",
    "(dividers, variance) = CUDAOptimizer.partition(item_sizes, 3)\n",
    "\n",
    "print(f\"Optimal Divider Locations: {dividers} Optimal solution variance: {variance:.4}\")"
   ]
  },
  {
   "cell_type": "markdown",
   "source": [
    "`NumbaOptimizer` and `CUDAOptimizer` require just-in-time compilation the first time they are invoked; this can throw off benchmarks. These classes provide a `precompile` static method that solves a small problem instance to trigger precompilation.\n",
    "\n",
    "## Pandas API\n",
    "\n",
    "Histoptimizer also provides a function `histoptimize` that takes a Pandas Dataframe and a number of buckets, and adds columns to the Dataframe that assign an optimal bucket number to each item for given number of buckets.\n",
    "\n",
    "For example, consider the following Dataframe, `books`:"
   ],
   "metadata": {
    "collapsed": false
   }
  },
  {
   "cell_type": "code",
   "execution_count": 14,
   "outputs": [
    {
     "data": {
      "text/plain": "                                                Title  Pages\n0                         The Algorithm Design Manual    748\n1                      Software Engineering at Google    599\n2                        Site Reliability Engineering    550\n3   Hands-on Machine Learning with Scikit-Learn Ke...    850\n4                                          Clean Code    464\n5                                       Code Complete    960\n6                                      Web Operations    338\n7                             Consciousness Explained    528\n8                                 I am a Strange Loop    432\n9                                     The Information    544\n10                     The Fractal Geometry of Nature    500\n11                                   Consider Phlebas    544\n12                                          I ❤️ Logs     60\n13                                             Kraken    528\n14                                              Noise    464\n15                                         Snow Crash    440",
      "text/html": "<div>\n<style scoped>\n    .dataframe tbody tr th:only-of-type {\n        vertical-align: middle;\n    }\n\n    .dataframe tbody tr th {\n        vertical-align: top;\n    }\n\n    .dataframe thead th {\n        text-align: right;\n    }\n</style>\n<table border=\"1\" class=\"dataframe\">\n  <thead>\n    <tr style=\"text-align: right;\">\n      <th></th>\n      <th>Title</th>\n      <th>Pages</th>\n    </tr>\n  </thead>\n  <tbody>\n    <tr>\n      <th>0</th>\n      <td>The Algorithm Design Manual</td>\n      <td>748</td>\n    </tr>\n    <tr>\n      <th>1</th>\n      <td>Software Engineering at Google</td>\n      <td>599</td>\n    </tr>\n    <tr>\n      <th>2</th>\n      <td>Site Reliability Engineering</td>\n      <td>550</td>\n    </tr>\n    <tr>\n      <th>3</th>\n      <td>Hands-on Machine Learning with Scikit-Learn Ke...</td>\n      <td>850</td>\n    </tr>\n    <tr>\n      <th>4</th>\n      <td>Clean Code</td>\n      <td>464</td>\n    </tr>\n    <tr>\n      <th>5</th>\n      <td>Code Complete</td>\n      <td>960</td>\n    </tr>\n    <tr>\n      <th>6</th>\n      <td>Web Operations</td>\n      <td>338</td>\n    </tr>\n    <tr>\n      <th>7</th>\n      <td>Consciousness Explained</td>\n      <td>528</td>\n    </tr>\n    <tr>\n      <th>8</th>\n      <td>I am a Strange Loop</td>\n      <td>432</td>\n    </tr>\n    <tr>\n      <th>9</th>\n      <td>The Information</td>\n      <td>544</td>\n    </tr>\n    <tr>\n      <th>10</th>\n      <td>The Fractal Geometry of Nature</td>\n      <td>500</td>\n    </tr>\n    <tr>\n      <th>11</th>\n      <td>Consider Phlebas</td>\n      <td>544</td>\n    </tr>\n    <tr>\n      <th>12</th>\n      <td>I ❤️ Logs</td>\n      <td>60</td>\n    </tr>\n    <tr>\n      <th>13</th>\n      <td>Kraken</td>\n      <td>528</td>\n    </tr>\n    <tr>\n      <th>14</th>\n      <td>Noise</td>\n      <td>464</td>\n    </tr>\n    <tr>\n      <th>15</th>\n      <td>Snow Crash</td>\n      <td>440</td>\n    </tr>\n  </tbody>\n</table>\n</div>"
     },
     "execution_count": 14,
     "metadata": {},
     "output_type": "execute_result"
    }
   ],
   "source": [
    "from histoptimizer import histoptimize\n",
    "import pandas as pd\n",
    "\n",
    "books = pd.read_csv('books.csv', header=0)\n",
    "books"
   ],
   "metadata": {
    "collapsed": false
   }
  },
  {
   "cell_type": "markdown",
   "source": [
    "We can find the optimal division (based on page sum) of books into 3 buckets in this way:"
   ],
   "metadata": {
    "collapsed": false
   }
  },
  {
   "cell_type": "code",
   "execution_count": 15,
   "outputs": [
    {
     "data": {
      "text/plain": "                                                Title  Pages  assistant_3\n0                         The Algorithm Design Manual    748            1\n1                      Software Engineering at Google    599            1\n2                        Site Reliability Engineering    550            1\n3   Hands-on Machine Learning with Scikit-Learn Ke...    850            1\n4                                          Clean Code    464            2\n5                                       Code Complete    960            2\n6                                      Web Operations    338            2\n7                             Consciousness Explained    528            2\n8                                 I am a Strange Loop    432            2\n9                                     The Information    544            3\n10                     The Fractal Geometry of Nature    500            3\n11                                   Consider Phlebas    544            3\n12                                          I ❤️ Logs     60            3\n13                                             Kraken    528            3\n14                                              Noise    464            3\n15                                         Snow Crash    440            3",
      "text/html": "<div>\n<style scoped>\n    .dataframe tbody tr th:only-of-type {\n        vertical-align: middle;\n    }\n\n    .dataframe tbody tr th {\n        vertical-align: top;\n    }\n\n    .dataframe thead th {\n        text-align: right;\n    }\n</style>\n<table border=\"1\" class=\"dataframe\">\n  <thead>\n    <tr style=\"text-align: right;\">\n      <th></th>\n      <th>Title</th>\n      <th>Pages</th>\n      <th>assistant_3</th>\n    </tr>\n  </thead>\n  <tbody>\n    <tr>\n      <th>0</th>\n      <td>The Algorithm Design Manual</td>\n      <td>748</td>\n      <td>1</td>\n    </tr>\n    <tr>\n      <th>1</th>\n      <td>Software Engineering at Google</td>\n      <td>599</td>\n      <td>1</td>\n    </tr>\n    <tr>\n      <th>2</th>\n      <td>Site Reliability Engineering</td>\n      <td>550</td>\n      <td>1</td>\n    </tr>\n    <tr>\n      <th>3</th>\n      <td>Hands-on Machine Learning with Scikit-Learn Ke...</td>\n      <td>850</td>\n      <td>1</td>\n    </tr>\n    <tr>\n      <th>4</th>\n      <td>Clean Code</td>\n      <td>464</td>\n      <td>2</td>\n    </tr>\n    <tr>\n      <th>5</th>\n      <td>Code Complete</td>\n      <td>960</td>\n      <td>2</td>\n    </tr>\n    <tr>\n      <th>6</th>\n      <td>Web Operations</td>\n      <td>338</td>\n      <td>2</td>\n    </tr>\n    <tr>\n      <th>7</th>\n      <td>Consciousness Explained</td>\n      <td>528</td>\n      <td>2</td>\n    </tr>\n    <tr>\n      <th>8</th>\n      <td>I am a Strange Loop</td>\n      <td>432</td>\n      <td>2</td>\n    </tr>\n    <tr>\n      <th>9</th>\n      <td>The Information</td>\n      <td>544</td>\n      <td>3</td>\n    </tr>\n    <tr>\n      <th>10</th>\n      <td>The Fractal Geometry of Nature</td>\n      <td>500</td>\n      <td>3</td>\n    </tr>\n    <tr>\n      <th>11</th>\n      <td>Consider Phlebas</td>\n      <td>544</td>\n      <td>3</td>\n    </tr>\n    <tr>\n      <th>12</th>\n      <td>I ❤️ Logs</td>\n      <td>60</td>\n      <td>3</td>\n    </tr>\n    <tr>\n      <th>13</th>\n      <td>Kraken</td>\n      <td>528</td>\n      <td>3</td>\n    </tr>\n    <tr>\n      <th>14</th>\n      <td>Noise</td>\n      <td>464</td>\n      <td>3</td>\n    </tr>\n    <tr>\n      <th>15</th>\n      <td>Snow Crash</td>\n      <td>440</td>\n      <td>3</td>\n    </tr>\n  </tbody>\n</table>\n</div>"
     },
     "execution_count": 15,
     "metadata": {},
     "output_type": "execute_result"
    }
   ],
   "source": [
    "divisions, column_names = histoptimize(books, \"Pages\", [3], \"assistant_\", Histoptimizer)\n",
    "divisions"
   ],
   "metadata": {
    "collapsed": false
   }
  },
  {
   "cell_type": "markdown",
   "source": [
    "If we wish, we can obtain the optimal division into 5 buckets in a single call:"
   ],
   "metadata": {
    "collapsed": false
   }
  },
  {
   "cell_type": "code",
   "execution_count": 19,
   "outputs": [
    {
     "data": {
      "text/plain": "                                                Title  Pages  assistant_3  \\\n0                         The Algorithm Design Manual    748            1   \n1                      Software Engineering at Google    599            1   \n2                        Site Reliability Engineering    550            1   \n3   Hands-on Machine Learning with Scikit-Learn Ke...    850            1   \n4                                          Clean Code    464            2   \n5                                       Code Complete    960            2   \n6                                      Web Operations    338            2   \n7                             Consciousness Explained    528            2   \n8                                 I am a Strange Loop    432            2   \n9                                     The Information    544            3   \n10                     The Fractal Geometry of Nature    500            3   \n11                                   Consider Phlebas    544            3   \n12                                          I ❤️ Logs     60            3   \n13                                             Kraken    528            3   \n14                                              Noise    464            3   \n15                                         Snow Crash    440            3   \n\n    assistant_5  \n0             1  \n1             1  \n2             2  \n3             2  \n4             2  \n5             3  \n6             3  \n7             3  \n8             4  \n9             4  \n10            4  \n11            4  \n12            5  \n13            5  \n14            5  \n15            5  ",
      "text/html": "<div>\n<style scoped>\n    .dataframe tbody tr th:only-of-type {\n        vertical-align: middle;\n    }\n\n    .dataframe tbody tr th {\n        vertical-align: top;\n    }\n\n    .dataframe thead th {\n        text-align: right;\n    }\n</style>\n<table border=\"1\" class=\"dataframe\">\n  <thead>\n    <tr style=\"text-align: right;\">\n      <th></th>\n      <th>Title</th>\n      <th>Pages</th>\n      <th>assistant_3</th>\n      <th>assistant_5</th>\n    </tr>\n  </thead>\n  <tbody>\n    <tr>\n      <th>0</th>\n      <td>The Algorithm Design Manual</td>\n      <td>748</td>\n      <td>1</td>\n      <td>1</td>\n    </tr>\n    <tr>\n      <th>1</th>\n      <td>Software Engineering at Google</td>\n      <td>599</td>\n      <td>1</td>\n      <td>1</td>\n    </tr>\n    <tr>\n      <th>2</th>\n      <td>Site Reliability Engineering</td>\n      <td>550</td>\n      <td>1</td>\n      <td>2</td>\n    </tr>\n    <tr>\n      <th>3</th>\n      <td>Hands-on Machine Learning with Scikit-Learn Ke...</td>\n      <td>850</td>\n      <td>1</td>\n      <td>2</td>\n    </tr>\n    <tr>\n      <th>4</th>\n      <td>Clean Code</td>\n      <td>464</td>\n      <td>2</td>\n      <td>2</td>\n    </tr>\n    <tr>\n      <th>5</th>\n      <td>Code Complete</td>\n      <td>960</td>\n      <td>2</td>\n      <td>3</td>\n    </tr>\n    <tr>\n      <th>6</th>\n      <td>Web Operations</td>\n      <td>338</td>\n      <td>2</td>\n      <td>3</td>\n    </tr>\n    <tr>\n      <th>7</th>\n      <td>Consciousness Explained</td>\n      <td>528</td>\n      <td>2</td>\n      <td>3</td>\n    </tr>\n    <tr>\n      <th>8</th>\n      <td>I am a Strange Loop</td>\n      <td>432</td>\n      <td>2</td>\n      <td>4</td>\n    </tr>\n    <tr>\n      <th>9</th>\n      <td>The Information</td>\n      <td>544</td>\n      <td>3</td>\n      <td>4</td>\n    </tr>\n    <tr>\n      <th>10</th>\n      <td>The Fractal Geometry of Nature</td>\n      <td>500</td>\n      <td>3</td>\n      <td>4</td>\n    </tr>\n    <tr>\n      <th>11</th>\n      <td>Consider Phlebas</td>\n      <td>544</td>\n      <td>3</td>\n      <td>4</td>\n    </tr>\n    <tr>\n      <th>12</th>\n      <td>I ❤️ Logs</td>\n      <td>60</td>\n      <td>3</td>\n      <td>5</td>\n    </tr>\n    <tr>\n      <th>13</th>\n      <td>Kraken</td>\n      <td>528</td>\n      <td>3</td>\n      <td>5</td>\n    </tr>\n    <tr>\n      <th>14</th>\n      <td>Noise</td>\n      <td>464</td>\n      <td>3</td>\n      <td>5</td>\n    </tr>\n    <tr>\n      <th>15</th>\n      <td>Snow Crash</td>\n      <td>440</td>\n      <td>3</td>\n      <td>5</td>\n    </tr>\n  </tbody>\n</table>\n</div>"
     },
     "execution_count": 19,
     "metadata": {},
     "output_type": "execute_result"
    }
   ],
   "source": [
    "divisions, column_names = histoptimize(books, \"Pages\", [3, 5], \"assistant_\", Histoptimizer)\n",
    "divisions"
   ],
   "metadata": {
    "collapsed": false
   }
  }
 ],
 "metadata": {
  "kernelspec": {
   "display_name": "Python 3 (ipykernel)",
   "language": "python",
   "name": "python3"
  },
  "language_info": {
   "codemirror_mode": {
    "name": "ipython",
    "version": 3
   },
   "file_extension": ".py",
   "mimetype": "text/x-python",
   "name": "python",
   "nbconvert_exporter": "python",
   "pygments_lexer": "ipython3",
   "version": "3.9.13"
  }
 },
 "nbformat": 4,
 "nbformat_minor": 1
}
