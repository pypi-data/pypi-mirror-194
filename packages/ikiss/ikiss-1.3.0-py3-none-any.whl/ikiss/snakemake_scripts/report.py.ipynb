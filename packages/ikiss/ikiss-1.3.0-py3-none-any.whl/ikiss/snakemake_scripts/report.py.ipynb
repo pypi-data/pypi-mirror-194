{
 "cells": [
  {
   "attachments": {},
   "cell_type": "markdown",
   "metadata": {},
   "source": [
    "# iKISS REPORT\n",
    "Date: \n",
    "Licence: \n",
    "Autor : \n",
    "\n",
    "this is a test for iKISS report using jupyter"
   ]
  },
  {
   "cell_type": "code",
   "execution_count": 59,
   "metadata": {},
   "outputs": [],
   "source": [
    "from pathlib import Path, PurePosixPath\n",
    "import pandas as pd\n",
    "\n",
    "pd.set_option(\"display.precision\", 2)\n",
    "\n",
    "file_list = snakemake.input[0]\n",
    "output_file = snakemake.output[0]\n",
    "\n",
    "print (file_list)\n",
    "\n",
    "data = {}\n",
    "for file in file_list:\n",
    "    file = Path(file).resolve()\n",
    "    name = PurePosixPath(file).stem.split('_KMERS_MODULE')[0]\n",
    "    dir = PurePosixPath(file).parent\n",
    "    with open (file, 'r') as f:\n",
    "        liste = []\n",
    "        for line in f:\n",
    "            if \"Total no. of reads\" in line : \n",
    "                reads = int(line.strip().split(\":\")[1])\n",
    "                liste.append(reads)\n",
    "            if \"Canonized kmers:\" in line : \n",
    "                canonized = int(line.strip().split(\"\\t\")[1])\n",
    "                liste.append(canonized)\n",
    "            if \"Non-canon kmers:\" in line : \n",
    "                non_canonized = int(line.strip().split(\"\\t\")[1])\n",
    "                liste.append(non_canonized)\n",
    "            if \"Non-canon kmers found:\" in line : \n",
    "                non_canonized_founded = int(line.strip().split(\"\\t\")[1])\n",
    "                liste.append(non_canonized_founded)\n",
    "            if \"kmers to save:\" in line : \n",
    "                tosave = int(line.strip().split(\":\")[1])\n",
    "                liste.append(tosave)   \n",
    "            \n",
    "    data[name] = liste    \n",
    "#print (data)\n",
    "# TODO : ajouter un control si single pour accepter seulement le R1 dans le tableau\n",
    "df_kmer_module = pd.DataFrame.from_dict(data, orient='index', columns=['reads_R1', 'reads_R2', 'Canonized', 'Non-canonized', 'Non-canonized_found','kmers_saved'])\n",
    "#print (kmer_module)\n",
    "df_kmer_module.to_csv(output_file)"
   ]
  },
  {
   "cell_type": "code",
   "execution_count": null,
   "metadata": {},
   "outputs": [],
   "source": []
  }
 ],
 "metadata": {
  "kernelspec": {
   "display_name": "Python 3",
   "language": "python",
   "name": "python3"
  },
  "language_info": {
   "codemirror_mode": {
    "name": "ipython",
    "version": 3
   },
   "file_extension": ".py",
   "mimetype": "text/x-python",
   "name": "python",
   "nbconvert_exporter": "python",
   "pygments_lexer": "ipython3",
   "version": "3.10.6 (main, Nov 14 2022, 16:10:14) [GCC 11.3.0]"
  },
  "orig_nbformat": 4,
  "vscode": {
   "interpreter": {
    "hash": "916dbcbb3f70747c44a77c7bcd40155683ae19c65e1c03b4aa3499c5328201f1"
   }
  }
 },
 "nbformat": 4,
 "nbformat_minor": 2
}
